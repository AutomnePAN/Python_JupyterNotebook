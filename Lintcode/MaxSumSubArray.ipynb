{
 "cells": [
  {
   "cell_type": "code",
   "execution_count": 1,
   "metadata": {},
   "outputs": [],
   "source": [
    "class Solution:\n",
    "    \"\"\"\n",
    "    @param head: ListNode head is the head of the linked list \n",
    "    @param m: An integer\n",
    "    @param n: An integer\n",
    "    @return: The head of the reversed ListNode\n",
    "    \"\"\"\n",
    "    def reverseBetween(self, head, m, n):\n",
    "        # write your code here\n",
    "        ori = [];\n",
    "        tf = head;\n",
    "        while(tf != None):\n",
    "            ori.append(tf.val);\n",
    "        print(ori)\n",
    "        left = m - 1;\n",
    "        right = n - 1;\n",
    "        while(left < right):\n",
    "            ori[left], ori[right] == ori[right], ori[left]\n",
    "            left += 1;\n",
    "            right -= 1;\n",
    "        print(ori)\n",
    "        tf = head;\n",
    "        for i in range(len(ori)):\n",
    "            tf.val = ori[i]\n",
    "            tf = tf.next;\n",
    "        \n",
    "        return head"
   ]
  },
  {
   "cell_type": "code",
   "execution_count": 2,
   "metadata": {},
   "outputs": [],
   "source": [
    "s = Solution()"
   ]
  },
  {
   "cell_type": "code",
   "execution_count": 3,
   "metadata": {},
   "outputs": [],
   "source": [
    "\n",
    "class ListNode(object):\n",
    "    def __init__(self, val, next=None):\n",
    "        self.val = val\n",
    "        self.next = next"
   ]
  },
  {
   "cell_type": "code",
   "execution_count": 28,
   "metadata": {},
   "outputs": [],
   "source": [
    "class Solution:\n",
    "    \"\"\"\n",
    "    @param matrix: A list of lists of integers\n",
    "    @param target: An integer you want to search in matrix\n",
    "    @return: An integer indicate the total occurrence of target in the given matrix\n",
    "    \"\"\"\n",
    "    \n",
    "    def binary_search(self, Array, target):\n",
    "        left = 0;\n",
    "        right = len(Array) - 1;\n",
    "        if len(Array) == 1:\n",
    "            return target == Array[0]\n",
    "            \n",
    "        while(left <= right):\n",
    "            print(\"left: \",left)\n",
    "            print(\"right: \", right)\n",
    "            mid = (left + right)//2\n",
    "            if Array[mid] == target:\n",
    "                return True;\n",
    "            if(Array[mid] < target):\n",
    "                left = mid + 1\n",
    "            else:\n",
    "                right = mid - 1\n",
    "        return False\n",
    "    \n",
    "    \n",
    "    def searchMatrix(self, matrix, target):\n",
    "        # write your code here\n",
    "        length = len(matrix)\n",
    "        width = len(matrix[0])\n",
    "        \n",
    "        counter = 0\n",
    "        for i in range(length):\n",
    "            if self.binary_search(matrix[i], target) == True:\n",
    "                counter += 1;\n",
    "            print(\"counter: \",counter)\n",
    "        return counter"
   ]
  },
  {
   "cell_type": "code",
   "execution_count": 29,
   "metadata": {},
   "outputs": [],
   "source": [
    "s = Solution()"
   ]
  },
  {
   "cell_type": "code",
   "execution_count": 30,
   "metadata": {},
   "outputs": [],
   "source": [
    "matrix = [[1,2,3,9],[2,3,9,10],[9,100,109,200]]\n",
    "target = 9"
   ]
  },
  {
   "cell_type": "code",
   "execution_count": 31,
   "metadata": {},
   "outputs": [
    {
     "name": "stdout",
     "output_type": "stream",
     "text": [
      "left:  0\n",
      "right:  3\n",
      "left:  2\n",
      "right:  3\n",
      "left:  3\n",
      "right:  3\n",
      "counter:  1\n",
      "left:  0\n",
      "right:  3\n",
      "left:  2\n",
      "right:  3\n",
      "counter:  2\n",
      "left:  0\n",
      "right:  3\n",
      "left:  0\n",
      "right:  0\n",
      "counter:  3\n"
     ]
    },
    {
     "data": {
      "text/plain": [
       "3"
      ]
     },
     "execution_count": 31,
     "metadata": {},
     "output_type": "execute_result"
    }
   ],
   "source": [
    "s.searchMatrix(matrix, target)"
   ]
  },
  {
   "cell_type": "code",
   "execution_count": 46,
   "metadata": {},
   "outputs": [],
   "source": [
    "A = [4,5,1,2,3]"
   ]
  },
  {
   "cell_type": "code",
   "execution_count": 49,
   "metadata": {},
   "outputs": [],
   "source": [
    "A.reverse()"
   ]
  },
  {
   "cell_type": "code",
   "execution_count": 50,
   "metadata": {},
   "outputs": [
    {
     "data": {
      "text/plain": [
       "[3, 2, 1, 5, 4]"
      ]
     },
     "execution_count": 50,
     "metadata": {},
     "output_type": "execute_result"
    }
   ],
   "source": [
    "A"
   ]
  },
  {
   "cell_type": "code",
   "execution_count": 47,
   "metadata": {},
   "outputs": [],
   "source": [
    "class Solution:\n",
    "    \"\"\"\n",
    "    @param nums: An integer array\n",
    "    @return: nothing\n",
    "    \"\"\"\n",
    "    def recoverRotatedSortedArray(self, nums):\n",
    "        # write your code here\n",
    "        index = 0;\n",
    "        while(index < len(nums) - 1 and nums[index] < nums[index + 1]):\n",
    "            index += 1;\n",
    "        A = nums[:index+1]\n",
    "        B = nums[index+1:]\n",
    "        return  B + A"
   ]
  },
  {
   "cell_type": "code",
   "execution_count": 48,
   "metadata": {},
   "outputs": [
    {
     "data": {
      "text/plain": [
       "[1, 2, 3, 4, 5]"
      ]
     },
     "execution_count": 48,
     "metadata": {},
     "output_type": "execute_result"
    }
   ],
   "source": [
    "s = Solution()\n",
    "s.recoverRotatedSortedArray(A)"
   ]
  },
  {
   "cell_type": "code",
   "execution_count": 63,
   "metadata": {},
   "outputs": [],
   "source": [
    "class MyQueue:\n",
    "    \n",
    "    def __init__(self):\n",
    "        # do intialization if necessary\n",
    "        self.stack_in = []\n",
    "        self.stack_out = []\n",
    "\n",
    "    \"\"\"\n",
    "    @param: element: An integer\n",
    "    @return: nothing\n",
    "    \"\"\"\n",
    "    def push(self, element):\n",
    "        # write your code here\n",
    "        self.stack_in.append(element)\n",
    "\n",
    "    \"\"\"\n",
    "    @return: An integer\n",
    "    \"\"\"\n",
    "    def pop(self):\n",
    "        # write your code here\n",
    "        print(self.stack_in)\n",
    "        print(self.stack_out)\n",
    "        if len(self.stack_out) == 0:\n",
    "            A = self.stack_in.reverse()\n",
    "            print(A)\n",
    "            self.stack_out = self.stack_in.reverse()\n",
    "            self.stack_in = []\n",
    "            print(self.stack_out)\n",
    "            print(self.stack_in)\n",
    "        num = self.stack_out[len(self.stack_out) - 1]\n",
    "        self.stack_out.pop()\n",
    "        return num;\n",
    "\n",
    "    \"\"\"\n",
    "    @return: An integer\n",
    "    \"\"\"\n",
    "    def top(self):\n",
    "        # write your code here\n",
    "        if len(self.stack_out) == 0:\n",
    "            return self.stack_in[0]\n",
    "        return self.stack_out[len(self.stack_out) - 1]"
   ]
  },
  {
   "cell_type": "code",
   "execution_count": 64,
   "metadata": {},
   "outputs": [],
   "source": [
    "q = MyQueue()"
   ]
  },
  {
   "cell_type": "code",
   "execution_count": 65,
   "metadata": {},
   "outputs": [],
   "source": [
    "q.push(1)\n"
   ]
  },
  {
   "cell_type": "code",
   "execution_count": 71,
   "metadata": {},
   "outputs": [
    {
     "name": "stdout",
     "output_type": "stream",
     "text": [
      "None\n",
      "None\n"
     ]
    }
   ],
   "source": [
    "A = [1,2]\n",
    "print( A.reverse())\n",
    "print(B)"
   ]
  },
  {
   "cell_type": "code",
   "execution_count": 3,
   "metadata": {},
   "outputs": [],
   "source": [
    "nums = [-1,-2,-3,-100,-1,-50]\n",
    "mid = len(nums)//2"
   ]
  },
  {
   "cell_type": "code",
   "execution_count": 9,
   "metadata": {},
   "outputs": [],
   "source": [
    "class Solution:\n",
    "    \"\"\"\n",
    "    @param nums: A list of integers\n",
    "    @return: A integer indicate the sum of max subarray\n",
    "    \"\"\"\n",
    "    def maxSubArray(self, nums):\n",
    "        # write your code here\n",
    "        if len(nums) == 0:\n",
    "            return -100000000\n",
    "        if len(nums) == 1:\n",
    "            return nums[0]\n",
    "            \n",
    "        left = 0;\n",
    "        right = len(nums) - 1;\n",
    "        mid = (left + right)//2\n",
    "        max_sum_l = self.maxSubArray(nums[0:mid+1])\n",
    "        max_sum_r = self.maxSubArray(nums[mid+1:len(nums)])\n",
    "        \n",
    "        min_index_left = mid\n",
    "        min_sum_left = nums[mid]\n",
    "        current_sum = 0\n",
    "        for i in range(mid,-1,-1):\n",
    "            current_sum += nums[i]\n",
    "            if current_sum > min_sum_left:\n",
    "                min_sum_left = current_sum\n",
    "                min_index_left = i\n",
    "                \n",
    "        max_index_right = mid +1\n",
    "        max_sum_right = nums[mid + 1]\n",
    "        current_sum = 0\n",
    "        for i in range(mid+1,len(nums),+1):\n",
    "            current_sum += nums[i]\n",
    "            if current_sum > max_sum_right:\n",
    "                max_sum_right = current_sum\n",
    "                max_index_right = i\n",
    "        max_sum_mid = max_sum_right + min_sum_left\n",
    "        print(\"max_sum_l: \", max_sum_l, \"max_sum_r: \", max_sum_r, \"max_sum_mid: \" ,max_sum_mid)\n",
    "        return max(max_sum_l, max_sum_r, max_sum_mid)\n"
   ]
  },
  {
   "cell_type": "code",
   "execution_count": 10,
   "metadata": {},
   "outputs": [],
   "source": [
    "s = Solution()"
   ]
  },
  {
   "cell_type": "code",
   "execution_count": 11,
   "metadata": {},
   "outputs": [
    {
     "name": "stdout",
     "output_type": "stream",
     "text": [
      "max_sum_l:  -1 max_sum_r:  -2 max_sum_mid:  -3\n",
      "max_sum_l:  -1 max_sum_r:  -3 max_sum_mid:  -5\n",
      "max_sum_l:  -100 max_sum_r:  -1 max_sum_mid:  -101\n",
      "max_sum_l:  -1 max_sum_r:  -50 max_sum_mid:  -51\n",
      "max_sum_l:  -1 max_sum_r:  -1 max_sum_mid:  -103\n"
     ]
    },
    {
     "data": {
      "text/plain": [
       "-1"
      ]
     },
     "execution_count": 11,
     "metadata": {},
     "output_type": "execute_result"
    }
   ],
   "source": [
    "s.maxSubArray(nums)"
   ]
  },
  {
   "cell_type": "code",
   "execution_count": 9,
   "metadata": {},
   "outputs": [],
   "source": [
    "class Solution:\n",
    "    \"\"\"\n",
    "    @param: nums: A list of integers\n",
    "    @return: An integer denotes the sum of max two non-overlapping subarrays\n",
    "    \"\"\"\n",
    "    def maxSubArray(self, nums):\n",
    "        # write your code here\n",
    "        if len(nums) == 0:\n",
    "            return -100000000\n",
    "        if len(nums) == 1:\n",
    "            return nums[0]\n",
    "            \n",
    "        left = 0;\n",
    "        right = len(nums) - 1;\n",
    "        mid = (left + right)//2\n",
    "        max_sum_l = self.maxSubArray(nums[0:mid+1])\n",
    "        max_sum_r = self.maxSubArray(nums[mid+1:len(nums)])\n",
    "        \n",
    "        min_index_left = mid\n",
    "        min_sum_left = nums[mid]\n",
    "        current_sum = 0\n",
    "        for i in range(mid,-1,-1):\n",
    "            current_sum += nums[i]\n",
    "            if current_sum > min_sum_left:\n",
    "                min_sum_left = current_sum\n",
    "                min_index_left = i\n",
    "                \n",
    "        max_index_right = mid +1\n",
    "        max_sum_right = nums[mid + 1]\n",
    "        current_sum = 0\n",
    "        for i in range(mid+1,len(nums),+1):\n",
    "            current_sum += nums[i]\n",
    "            if current_sum > max_sum_right:\n",
    "                max_sum_right = current_sum\n",
    "                max_index_right = i\n",
    "        max_sum_mid = max_sum_right + min_sum_left\n",
    "        \n",
    "        return max(max_sum_l, max_sum_r, max_sum_mid)\n",
    "    \n",
    "    def maxTwoSubArrays(self, nums):\n",
    "        # write your code here\n",
    "        if len(nums) == 1:\n",
    "            return nums[0];\n",
    "        \n",
    "        max_sum = -1000000000;\n",
    "        for dist in range(1,len(nums)):\n",
    "            left = nums[0:dist]\n",
    "            print(left)\n",
    "            right = nums[dist:len(nums)]\n",
    "            print(right)\n",
    "            sum = self.maxSubArray(left) + self.maxSubArray(right)\n",
    "            print(sum)\n",
    "            if sum >= max_sum:\n",
    "                max_sum = sum\n",
    "        return max_sum"
   ]
  },
  {
   "cell_type": "code",
   "execution_count": 10,
   "metadata": {},
   "outputs": [],
   "source": [
    "s = Solution()"
   ]
  },
  {
   "cell_type": "code",
   "execution_count": 11,
   "metadata": {},
   "outputs": [],
   "source": [
    "nums = [4,5]"
   ]
  },
  {
   "cell_type": "code",
   "execution_count": 12,
   "metadata": {},
   "outputs": [
    {
     "name": "stdout",
     "output_type": "stream",
     "text": [
      "[4]\n",
      "[5]\n",
      "9\n"
     ]
    },
    {
     "data": {
      "text/plain": [
       "9"
      ]
     },
     "execution_count": 12,
     "metadata": {},
     "output_type": "execute_result"
    }
   ],
   "source": [
    "s.maxTwoSubArrays(nums)"
   ]
  },
  {
   "cell_type": "code",
   "execution_count": 8,
   "metadata": {},
   "outputs": [],
   "source": [
    "class Solution:\n",
    "    \"\"\"\n",
    "    @param nums: A list of integers\n",
    "    @return: An integer indicate the value of maximum difference between two substrings\n",
    "    \"\"\"\n",
    "    def maxDiffSubArrays(self, nums):\n",
    "       #write your code here\n",
    "        if(len(nums) == 2):\n",
    "            return abs(nums[0] - nums[1]);\n",
    "           \n",
    "        leftmax = [0 for i in range(len(nums))]\n",
    "        current_left_max = -100000\n",
    "        current_sum = 0;\n",
    "        for i in range(len(nums)):\n",
    "            if current_sum < 0:\n",
    "                current_sum = nums[i]\n",
    "            else:\n",
    "                current_sum += nums[i];\n",
    "            current_left_max = max(current_sum , current_left_max);\n",
    "            leftmax[i] = current_left_max;\n",
    "        print(leftmax)\n",
    "        \n",
    "        rightmax = [0 for i in range(len(nums))]\n",
    "        current_right_max = -100000\n",
    "        current_sum = 0;\n",
    "        for i in range(len(nums)-1,-1,-1):\n",
    "            if current_sum < 0:\n",
    "                current_sum = nums[i]\n",
    "            else:\n",
    "                current_sum += nums[i];\n",
    "            current_right_max = max(current_sum , current_right_max);\n",
    "            rightmax[i] = current_right_max;\n",
    "        print(rightmax);\n",
    "        \n",
    "        leftmin = [0 for i in range(len(nums))]\n",
    "        current_left_min = 100000\n",
    "        current_sum = 0;\n",
    "        for i in range(len(nums)):\n",
    "            if current_sum > 0:\n",
    "                current_sum = nums[i]\n",
    "            else:\n",
    "                current_sum += nums[i];\n",
    "            current_left_min = min(current_sum , current_left_min);\n",
    "            leftmin[i] = current_left_min;\n",
    "        print(leftmin);\n",
    "        \n",
    "        rightmin = [0 for i in range(len(nums))]\n",
    "        current_right_min = 100000\n",
    "        current_sum = 0;\n",
    "        for i in range(len(nums)-1,-1,-1):\n",
    "            if current_sum > 0:\n",
    "                current_sum = nums[i]\n",
    "            else:\n",
    "                current_sum += nums[i];\n",
    "            current_right_min = min(current_sum , current_right_min);\n",
    "            rightmin[i] = current_right_min;\n",
    "        print(rightmin)\n",
    "        \n",
    "        max_diff = -999999;\n",
    "        for i in range(1,len(nums)):\n",
    "            sum1=abs(leftmax[i-1]-rightmin[i])\n",
    "            sum2=abs(leftmin[i-1]-rightmax[i])\n",
    "            current_sum = max(sum1,sum2)\n",
    "        \n",
    "            if(current_sum > max_diff):\n",
    "                max_diff = current_sum;\n",
    "        \n",
    "        return max_diff\n",
    "        "
   ]
  },
  {
   "cell_type": "code",
   "execution_count": 9,
   "metadata": {},
   "outputs": [
    {
     "name": "stdout",
     "output_type": "stream",
     "text": [
      "[1, 3, 3, 3]\n",
      "[3, 2, 1, 1]\n",
      "[1, 1, -3, -3]\n",
      "[-3, -3, -3, 1]\n"
     ]
    },
    {
     "data": {
      "text/plain": [
       "6"
      ]
     },
     "execution_count": 9,
     "metadata": {},
     "output_type": "execute_result"
    }
   ],
   "source": [
    "s = Solution()\n",
    "nums = [1,2,-3,1];\n",
    "s.maxDiffSubArrays(nums)"
   ]
  },
  {
   "cell_type": "code",
   "execution_count": 14,
   "metadata": {},
   "outputs": [],
   "source": [
    "def majorityNumber(nums):\n",
    "        # write your code here \n",
    "        counting = {};\n",
    "       \n",
    "        elements = set();\n",
    "       \n",
    "        for num in nums:\n",
    "            if num not in elements:\n",
    "                elements.add(num)\n",
    "                counting[num] = 1;\n",
    "            else:\n",
    "                counting[num] += 1;\n",
    "        current_max = -100000;\n",
    "        current_maj = nums[0]\n",
    "        for element in elements:\n",
    "            if counting[element] > current_max:\n",
    "                current_max = counting[element]\n",
    "                current_maj = element;\n",
    "        return current_maj;\n"
   ]
  },
  {
   "cell_type": "code",
   "execution_count": 16,
   "metadata": {},
   "outputs": [
    {
     "name": "stdout",
     "output_type": "stream",
     "text": [
      "{}\n",
      "set()\n"
     ]
    },
    {
     "data": {
      "text/plain": [
       "3"
      ]
     },
     "execution_count": 16,
     "metadata": {},
     "output_type": "execute_result"
    }
   ],
   "source": [
    "majorityNumber([3,3,3,4,5])"
   ]
  },
  {
   "cell_type": "code",
   "execution_count": 24,
   "metadata": {},
   "outputs": [
    {
     "data": {
      "text/plain": [
       "True"
      ]
     },
     "execution_count": 24,
     "metadata": {},
     "output_type": "execute_result"
    }
   ],
   "source": [
    "a = \"A\"\n",
    "a.upper() == a"
   ]
  },
  {
   "cell_type": "code",
   "execution_count": 31,
   "metadata": {},
   "outputs": [],
   "source": [
    "class Solution:\n",
    "    \"\"\"\n",
    "    @param: chars: The letter array you should sort by Case\n",
    "    @return: nothing\n",
    "    \"\"\"\n",
    "    def is_Cap(self, char):\n",
    "        if char.upper == char:\n",
    "            return True;\n",
    "        else:\n",
    "            return False;\n",
    "    \n",
    "    def sortLetters(self, chars):\n",
    "        # write your code here\n",
    "        if len(chars) == 1:\n",
    "            return chars;\n",
    "        left = 0;\n",
    "        right = len(chars)-1\n",
    "        print(left, right)\n",
    "        while( left < right ):\n",
    "            while(not self.is_Cap(chars[left]) and left < right):\n",
    "                print(left)\n",
    "                left += 1;\n",
    "            while(self.is_Cap(chars[right]) and left < right):\n",
    "                print(right)\n",
    "                right -= 1;\n",
    "            chars[left], chars[right] = chars[right], chars[left]\n",
    "        return chars"
   ]
  },
  {
   "cell_type": "code",
   "execution_count": 32,
   "metadata": {},
   "outputs": [
    {
     "name": "stdout",
     "output_type": "stream",
     "text": [
      "0 1\n",
      "0\n"
     ]
    },
    {
     "ename": "TypeError",
     "evalue": "'str' object does not support item assignment",
     "output_type": "error",
     "traceback": [
      "\u001b[1;31m---------------------------------------------------------------------------\u001b[0m",
      "\u001b[1;31mTypeError\u001b[0m                                 Traceback (most recent call last)",
      "\u001b[1;32m<ipython-input-32-fde2b01eacc2>\u001b[0m in \u001b[0;36m<module>\u001b[1;34m\u001b[0m\n\u001b[0;32m      1\u001b[0m \u001b[0ms\u001b[0m \u001b[1;33m=\u001b[0m \u001b[0mSolution\u001b[0m\u001b[1;33m(\u001b[0m\u001b[1;33m)\u001b[0m\u001b[1;33m\u001b[0m\u001b[1;33m\u001b[0m\u001b[0m\n\u001b[0;32m      2\u001b[0m \u001b[0mchars\u001b[0m \u001b[1;33m=\u001b[0m \u001b[1;34m\"Ac\"\u001b[0m\u001b[1;33m\u001b[0m\u001b[1;33m\u001b[0m\u001b[0m\n\u001b[1;32m----> 3\u001b[1;33m \u001b[0ms\u001b[0m\u001b[1;33m.\u001b[0m\u001b[0msortLetters\u001b[0m\u001b[1;33m(\u001b[0m\u001b[0mchars\u001b[0m\u001b[1;33m)\u001b[0m\u001b[1;33m\u001b[0m\u001b[1;33m\u001b[0m\u001b[0m\n\u001b[0m",
      "\u001b[1;32m<ipython-input-31-f86fd7c5f0d1>\u001b[0m in \u001b[0;36msortLetters\u001b[1;34m(self, chars)\u001b[0m\n\u001b[0;32m     24\u001b[0m                 \u001b[0mprint\u001b[0m\u001b[1;33m(\u001b[0m\u001b[0mright\u001b[0m\u001b[1;33m)\u001b[0m\u001b[1;33m\u001b[0m\u001b[1;33m\u001b[0m\u001b[0m\n\u001b[0;32m     25\u001b[0m                 \u001b[0mright\u001b[0m \u001b[1;33m-=\u001b[0m \u001b[1;36m1\u001b[0m\u001b[1;33m;\u001b[0m\u001b[1;33m\u001b[0m\u001b[1;33m\u001b[0m\u001b[0m\n\u001b[1;32m---> 26\u001b[1;33m             \u001b[0mchars\u001b[0m\u001b[1;33m[\u001b[0m\u001b[0mleft\u001b[0m\u001b[1;33m]\u001b[0m\u001b[1;33m,\u001b[0m \u001b[0mchars\u001b[0m\u001b[1;33m[\u001b[0m\u001b[0mright\u001b[0m\u001b[1;33m]\u001b[0m \u001b[1;33m=\u001b[0m \u001b[0mchars\u001b[0m\u001b[1;33m[\u001b[0m\u001b[0mright\u001b[0m\u001b[1;33m]\u001b[0m\u001b[1;33m,\u001b[0m \u001b[0mchars\u001b[0m\u001b[1;33m[\u001b[0m\u001b[0mleft\u001b[0m\u001b[1;33m]\u001b[0m\u001b[1;33m\u001b[0m\u001b[1;33m\u001b[0m\u001b[0m\n\u001b[0m\u001b[0;32m     27\u001b[0m         \u001b[1;32mreturn\u001b[0m \u001b[0mchars\u001b[0m\u001b[1;33m\u001b[0m\u001b[1;33m\u001b[0m\u001b[0m\n",
      "\u001b[1;31mTypeError\u001b[0m: 'str' object does not support item assignment"
     ]
    }
   ],
   "source": [
    "s = Solution()\n",
    "chars = \"Ac\"\n",
    "s.sortLetters(chars)"
   ]
  },
  {
   "cell_type": "code",
   "execution_count": 34,
   "metadata": {},
   "outputs": [
    {
     "ename": "NameError",
     "evalue": "name 'product' is not defined",
     "output_type": "error",
     "traceback": [
      "\u001b[1;31m---------------------------------------------------------------------------\u001b[0m",
      "\u001b[1;31mNameError\u001b[0m                                 Traceback (most recent call last)",
      "\u001b[1;32m<ipython-input-34-83fe2ab725a0>\u001b[0m in \u001b[0;36m<module>\u001b[1;34m\u001b[0m\n\u001b[0;32m      1\u001b[0m \u001b[0mnums\u001b[0m \u001b[1;33m=\u001b[0m \u001b[1;33m[\u001b[0m\u001b[1;36m1\u001b[0m\u001b[1;33m,\u001b[0m\u001b[1;36m2\u001b[0m\u001b[1;33m,\u001b[0m\u001b[1;36m3\u001b[0m\u001b[1;33m]\u001b[0m\u001b[1;33m\u001b[0m\u001b[1;33m\u001b[0m\u001b[0m\n\u001b[1;32m----> 2\u001b[1;33m \u001b[0mproduct\u001b[0m\u001b[1;33m(\u001b[0m\u001b[0mnums\u001b[0m\u001b[1;33m)\u001b[0m\u001b[1;33m\u001b[0m\u001b[1;33m\u001b[0m\u001b[0m\n\u001b[0m",
      "\u001b[1;31mNameError\u001b[0m: name 'product' is not defined"
     ]
    }
   ],
   "source": [
    "nums = [1,2,3]\n",
    "product(nums)"
   ]
  }
 ],
 "metadata": {
  "kernelspec": {
   "display_name": "Python 3",
   "language": "python",
   "name": "python3"
  },
  "language_info": {
   "codemirror_mode": {
    "name": "ipython",
    "version": 3
   },
   "file_extension": ".py",
   "mimetype": "text/x-python",
   "name": "python",
   "nbconvert_exporter": "python",
   "pygments_lexer": "ipython3",
   "version": "3.7.1"
  }
 },
 "nbformat": 4,
 "nbformat_minor": 2
}
