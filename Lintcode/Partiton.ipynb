{
 "cells": [
  {
   "cell_type": "code",
   "execution_count": 27,
   "metadata": {},
   "outputs": [],
   "source": [
    "def isInterleave(s1, s2, s3):\n",
    "        # write your code here\n",
    "        if(len(s1)+len(s2) != len(s3)):\n",
    "            return False\n",
    "        \n",
    "        strs = [s1, s2]\n",
    "        cur_str_counter = [0,0]\n",
    "        cur_s3_counter = 0\n",
    "        cur_str_index = 0;\n",
    "        while(True):\n",
    "            while( cur_str_counter[cur_str_index] < len(strs[cur_str_index]) and strs[cur_str_index][cur_str_counter[cur_str_index]] == s3[cur_s3_counter]):\n",
    "                cur_str_counter[cur_str_index] += 1;\n",
    "                cur_s3_counter += 1\n",
    "                print(s3[cur_s3_counter])\n",
    "            if cur_s3_counter == len(s3):\n",
    "                return True\n",
    "            if(cur_str_counter[1 - cur_str_index] == len(strs[cur_str_index]) or s3[cur_s3_counter] != strs[1 - cur_str_index][cur_str_counter[1 - cur_str_index]]):\n",
    "                return False\n",
    "            cur_str_index = 1 - cur_str_index\n",
    "\n",
    "        "
   ]
  },
  {
   "cell_type": "code",
   "execution_count": 28,
   "metadata": {},
   "outputs": [],
   "source": [
    "s1 = \"sdfjas;dfjoisdufzjkndfasdkfja;sdfa;dfa;dfaskdjhfasdhjdfakhdgfkajdfasdjfgajksdfgaksdhfasdkbfjkdsfbajksdfhakjsdfbajkdfbakdjsfgaksdhgfjkdsghfkdsfgadsjfgkajsdgfkjasdfh\"\n",
    "s2 = \"dfnakdjnfjkzghdufguweygfasjkdfgb2gf8asf7tgbgasjkdfgasodf7asdgfajksdfguayfgaogfsdkagfsdhfajksdvfbgkadsghfakdsfgasduyfgajsdkfgajkdghfaksdgfuyadgfasjkdvfjsdkvfakfgauyksgfajkefgjkdasgfdjksfgadjkghfajksdfgaskdjfgasjkdgfuyaegfasdjkfgajkdfygadjskfgjkadfg\"\n",
    "s3 = \"sdfjas;dfjoisdfnakdjnfjkzghdufguwdufzjkeygfasjkdfgb2gf8asf7ndtgbgasjkdfgasodf7asdfgfajkasdksdfguayfgaogfsdkagfsfjadhfajksdvfbgkadsghfa;sdkdsfgasduyfgajsdkfgafajkdghfaksdgfuyadgfas;dfjkdvfjsdkvfakfgauyksa;dgfajkefgjkdasgfdjksffaskdjhfasdhjdfakhdgadjkghfajgfkajdfksdfgaskdjfgasjkdgfuasdjfgajksdfgaksdhfasdkbfjkdsfbajksdfyaegfasdjkfgajkdfygadjskfgjkadfghakjsdfbajkdfbakdjsfgaksdhgfjkdsghfkdsfgadsjfgkajsdgfkjasdfh\""
   ]
  },
  {
   "cell_type": "code",
   "execution_count": 32,
   "metadata": {},
   "outputs": [
    {
     "data": {
      "text/plain": [
       "247"
      ]
     },
     "execution_count": 32,
     "metadata": {},
     "output_type": "execute_result"
    }
   ],
   "source": [
    "len(s2)"
   ]
  },
  {
   "cell_type": "code",
   "execution_count": 29,
   "metadata": {},
   "outputs": [
    {
     "data": {
      "text/plain": [
       "False"
      ]
     },
     "execution_count": 29,
     "metadata": {},
     "output_type": "execute_result"
    }
   ],
   "source": [
    "s1 == s2"
   ]
  },
  {
   "cell_type": "code",
   "execution_count": 58,
   "metadata": {},
   "outputs": [],
   "source": [
    "def insert(intervals, newInterval):\n",
    "    # write your code here\n",
    "    res = []\n",
    "    left_cochet = newInterval[0]\n",
    "    right_cochet = newInterval[1]\n",
    "    for i in range(len(intervals)):\n",
    "        if(intervals[i][0] <= newInterval[0] and intervals[i][1] >= newInterval[1]):\n",
    "            return intervals;\n",
    "        if(intervals[i][0] < newInterval[0] and intervals[i][1] < newInterval[0]) or (intervals[i][0] > newInterval[1] and intervals[i][1] > newInterval[1]):\n",
    "            res.append(intervals[i])\n",
    "        if(intervals[i][0] < newInterval[0] and intervals[i][1] > newInterval[0]):\n",
    "            left_cochet = intervals[i][0]\n",
    "        if(intervals[i][0] < newInterval[1] and intervals[i][1] > newInterval[1]):\n",
    "            right_cochet = intervals[i][1]\n",
    "        if(intervals[i][0] < newInterval[0] and intervals[i][1] > newInterval[0]):\n",
    "            left_cochet = intervals[i][0]\n",
    "        if(intervals[i][1] == newInterval[0]):\n",
    "            left_cochet = intervals[i][0]\n",
    "        if(intervals[i][0] == newInterval[1]):\n",
    "            right_cochet = intervals[i][1]\n",
    "#         if(left_cochet!=newInterval[0]) or right_cochet != newInterval[1]:\n",
    "    res.append((left_cochet, right_cochet))\n",
    "    return res"
   ]
  },
  {
   "cell_type": "code",
   "execution_count": 65,
   "metadata": {},
   "outputs": [],
   "source": [
    "ins = [(1,2),(5,9)]\n",
    "new = (6,7)"
   ]
  },
  {
   "cell_type": "code",
   "execution_count": 73,
   "metadata": {},
   "outputs": [],
   "source": [
    "for i in range(100):\n",
    "    ins.append((2*i+1, 2*i+2))"
   ]
  },
  {
   "cell_type": "code",
   "execution_count": 74,
   "metadata": {},
   "outputs": [],
   "source": [
    "new = (45.5, 87.5)"
   ]
  },
  {
   "cell_type": "code",
   "execution_count": 76,
   "metadata": {
    "scrolled": true
   },
   "outputs": [
    {
     "data": {
      "text/plain": [
       "[(1, 2),\n",
       " (5, 9),\n",
       " (1, 2),\n",
       " (3, 4),\n",
       " (5, 6),\n",
       " (7, 8),\n",
       " (9, 10),\n",
       " (11, 12),\n",
       " (13, 14),\n",
       " (15, 16),\n",
       " (17, 18),\n",
       " (19, 20),\n",
       " (21, 22),\n",
       " (23, 24),\n",
       " (25, 26),\n",
       " (27, 28),\n",
       " (29, 30),\n",
       " (31, 32),\n",
       " (33, 34),\n",
       " (35, 36),\n",
       " (37, 38),\n",
       " (39, 40),\n",
       " (41, 42),\n",
       " (43, 44),\n",
       " (89, 90),\n",
       " (91, 92),\n",
       " (93, 94),\n",
       " (95, 96),\n",
       " (97, 98),\n",
       " (99, 100),\n",
       " (101, 102),\n",
       " (103, 104),\n",
       " (105, 106),\n",
       " (107, 108),\n",
       " (109, 110),\n",
       " (111, 112),\n",
       " (113, 114),\n",
       " (115, 116),\n",
       " (117, 118),\n",
       " (119, 120),\n",
       " (121, 122),\n",
       " (123, 124),\n",
       " (125, 126),\n",
       " (127, 128),\n",
       " (129, 130),\n",
       " (131, 132),\n",
       " (133, 134),\n",
       " (135, 136),\n",
       " (137, 138),\n",
       " (139, 140),\n",
       " (141, 142),\n",
       " (143, 144),\n",
       " (145, 146),\n",
       " (147, 148),\n",
       " (149, 150),\n",
       " (151, 152),\n",
       " (153, 154),\n",
       " (155, 156),\n",
       " (157, 158),\n",
       " (159, 160),\n",
       " (161, 162),\n",
       " (163, 164),\n",
       " (165, 166),\n",
       " (167, 168),\n",
       " (169, 170),\n",
       " (171, 172),\n",
       " (173, 174),\n",
       " (175, 176),\n",
       " (177, 178),\n",
       " (179, 180),\n",
       " (181, 182),\n",
       " (183, 184),\n",
       " (185, 186),\n",
       " (187, 188),\n",
       " (189, 190),\n",
       " (191, 192),\n",
       " (193, 194),\n",
       " (195, 196),\n",
       " (197, 198),\n",
       " (199, 200),\n",
       " (45, 88)]"
      ]
     },
     "execution_count": 76,
     "metadata": {},
     "output_type": "execute_result"
    }
   ],
   "source": [
    "insert(ins,new)"
   ]
  },
  {
   "cell_type": "code",
   "execution_count": 1,
   "metadata": {},
   "outputs": [],
   "source": [
    "def partitionArray(nums, k):\n",
    "        # write your code here\n",
    "        if len(nums) == 0:\n",
    "            return 0;\n",
    "        left  = 0;\n",
    "        right = len(nums) - 1;\n",
    "        while(left < right):\n",
    "            while(nums[left] < k and left < right):\n",
    "                left += 1;\n",
    "            while(nums[right] >= k and left < right):\n",
    "                right -= 1;\n",
    "            nums[left], nums[right] = nums[right], nums[left]\n",
    "            \n",
    "        return left\n"
   ]
  },
  {
   "cell_type": "code",
   "execution_count": 41,
   "metadata": {},
   "outputs": [],
   "source": [
    "nums = [9,10,8,7,6,5,4]\n",
    "k = 4"
   ]
  },
  {
   "cell_type": "code",
   "execution_count": 42,
   "metadata": {},
   "outputs": [
    {
     "data": {
      "text/plain": [
       "0"
      ]
     },
     "execution_count": 42,
     "metadata": {},
     "output_type": "execute_result"
    }
   ],
   "source": [
    "partitionArray(nums, k)"
   ]
  },
  {
   "cell_type": "code",
   "execution_count": 47,
   "metadata": {},
   "outputs": [
    {
     "data": {
      "text/plain": [
       "True"
      ]
     },
     "execution_count": 47,
     "metadata": {},
     "output_type": "execute_result"
    }
   ],
   "source": [
    "set(\"abc\") == set(\"bca\")"
   ]
  },
  {
   "cell_type": "code",
   "execution_count": 51,
   "metadata": {},
   "outputs": [
    {
     "data": {
      "text/plain": [
       "'Abcdasd'"
      ]
     },
     "execution_count": 51,
     "metadata": {},
     "output_type": "execute_result"
    }
   ],
   "source": [
    "A = \"Abcdasd\"\n",
    "A[2:4]\n",
    "A"
   ]
  }
 ],
 "metadata": {
  "kernelspec": {
   "display_name": "Python 3",
   "language": "python",
   "name": "python3"
  },
  "language_info": {
   "codemirror_mode": {
    "name": "ipython",
    "version": 3
   },
   "file_extension": ".py",
   "mimetype": "text/x-python",
   "name": "python",
   "nbconvert_exporter": "python",
   "pygments_lexer": "ipython3",
   "version": "3.7.1"
  }
 },
 "nbformat": 4,
 "nbformat_minor": 2
}
