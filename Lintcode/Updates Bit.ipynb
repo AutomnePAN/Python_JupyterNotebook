{
 "cells": [
  {
   "cell_type": "code",
   "execution_count": 1,
   "metadata": {},
   "outputs": [],
   "source": [
    "class Solution:\n",
    "    \"\"\"\n",
    "    @param colors: A list of integer\n",
    "    @param k: An integer\n",
    "    @return: nothing\n",
    "    \"\"\"\n",
    "    def sortColors2(self, colors, k):\n",
    "        # write your code here\n",
    "        color_dict = {}\n",
    "        for i in range(k):\n",
    "            color_dict[i] = 0;\n",
    "        \n",
    "        for i in range(len(colors)):\n",
    "            print(colors[i])\n",
    "            color_dict[colors[i]] =  color_dict[colors[i]] + 1;\n",
    "        \n",
    "        res = [];\n",
    "        for i in range(k):\n",
    "            for j in range(color_dict[i]):\n",
    "                res.append(i);"
   ]
  },
  {
   "cell_type": "code",
   "execution_count": 2,
   "metadata": {},
   "outputs": [],
   "source": [
    "s = Solution()"
   ]
  },
  {
   "cell_type": "code",
   "execution_count": 3,
   "metadata": {},
   "outputs": [
    {
     "name": "stdout",
     "output_type": "stream",
     "text": [
      "2\n"
     ]
    },
    {
     "ename": "KeyError",
     "evalue": "2",
     "output_type": "error",
     "traceback": [
      "\u001b[1;31m---------------------------------------------------------------------------\u001b[0m",
      "\u001b[1;31mKeyError\u001b[0m                                  Traceback (most recent call last)",
      "\u001b[1;32m<ipython-input-3-ea0d4374e05d>\u001b[0m in \u001b[0;36m<module>\u001b[1;34m\u001b[0m\n\u001b[1;32m----> 1\u001b[1;33m \u001b[0ms\u001b[0m\u001b[1;33m.\u001b[0m\u001b[0msortColors2\u001b[0m\u001b[1;33m(\u001b[0m\u001b[1;33m[\u001b[0m\u001b[1;36m2\u001b[0m\u001b[1;33m,\u001b[0m\u001b[1;36m1\u001b[0m\u001b[1;33m,\u001b[0m\u001b[1;36m2\u001b[0m\u001b[1;33m,\u001b[0m\u001b[1;36m2\u001b[0m\u001b[1;33m,\u001b[0m\u001b[1;36m1\u001b[0m\u001b[1;33m]\u001b[0m\u001b[1;33m,\u001b[0m \u001b[1;36m2\u001b[0m\u001b[1;33m)\u001b[0m\u001b[1;33m\u001b[0m\u001b[1;33m\u001b[0m\u001b[0m\n\u001b[0m",
      "\u001b[1;32m<ipython-input-1-707656a1ea60>\u001b[0m in \u001b[0;36msortColors2\u001b[1;34m(self, colors, k)\u001b[0m\n\u001b[0;32m     13\u001b[0m         \u001b[1;32mfor\u001b[0m \u001b[0mi\u001b[0m \u001b[1;32min\u001b[0m \u001b[0mrange\u001b[0m\u001b[1;33m(\u001b[0m\u001b[0mlen\u001b[0m\u001b[1;33m(\u001b[0m\u001b[0mcolors\u001b[0m\u001b[1;33m)\u001b[0m\u001b[1;33m)\u001b[0m\u001b[1;33m:\u001b[0m\u001b[1;33m\u001b[0m\u001b[1;33m\u001b[0m\u001b[0m\n\u001b[0;32m     14\u001b[0m             \u001b[0mprint\u001b[0m\u001b[1;33m(\u001b[0m\u001b[0mcolors\u001b[0m\u001b[1;33m[\u001b[0m\u001b[0mi\u001b[0m\u001b[1;33m]\u001b[0m\u001b[1;33m)\u001b[0m\u001b[1;33m\u001b[0m\u001b[1;33m\u001b[0m\u001b[0m\n\u001b[1;32m---> 15\u001b[1;33m             \u001b[0mcolor_dict\u001b[0m\u001b[1;33m[\u001b[0m\u001b[0mcolors\u001b[0m\u001b[1;33m[\u001b[0m\u001b[0mi\u001b[0m\u001b[1;33m]\u001b[0m\u001b[1;33m]\u001b[0m \u001b[1;33m=\u001b[0m  \u001b[0mcolor_dict\u001b[0m\u001b[1;33m[\u001b[0m\u001b[0mcolors\u001b[0m\u001b[1;33m[\u001b[0m\u001b[0mi\u001b[0m\u001b[1;33m]\u001b[0m\u001b[1;33m]\u001b[0m \u001b[1;33m+\u001b[0m \u001b[1;36m1\u001b[0m\u001b[1;33m;\u001b[0m\u001b[1;33m\u001b[0m\u001b[1;33m\u001b[0m\u001b[0m\n\u001b[0m\u001b[0;32m     16\u001b[0m \u001b[1;33m\u001b[0m\u001b[0m\n\u001b[0;32m     17\u001b[0m         \u001b[0mres\u001b[0m \u001b[1;33m=\u001b[0m \u001b[1;33m[\u001b[0m\u001b[1;33m]\u001b[0m\u001b[1;33m;\u001b[0m\u001b[1;33m\u001b[0m\u001b[1;33m\u001b[0m\u001b[0m\n",
      "\u001b[1;31mKeyError\u001b[0m: 2"
     ]
    }
   ],
   "source": [
    "s.sortColors2([2,1,2,2,1], 2)"
   ]
  },
  {
   "cell_type": "code",
   "execution_count": 1,
   "metadata": {},
   "outputs": [
    {
     "ename": "SyntaxError",
     "evalue": "invalid syntax (<ipython-input-1-6b898393ed5e>, line 8)",
     "output_type": "error",
     "traceback": [
      "\u001b[1;36m  File \u001b[1;32m\"<ipython-input-1-6b898393ed5e>\"\u001b[1;36m, line \u001b[1;32m8\u001b[0m\n\u001b[1;33m    A_pos = [i for i in A: i > 0]\u001b[0m\n\u001b[1;37m                         ^\u001b[0m\n\u001b[1;31mSyntaxError\u001b[0m\u001b[1;31m:\u001b[0m invalid syntax\n"
     ]
    }
   ],
   "source": [
    "class Solution:\n",
    "    \"\"\"\n",
    "    @param: A: An integer array.\n",
    "    @return: nothing\n",
    "    \"\"\"\n",
    "    def rerange(self, A):\n",
    "        # write your code here\n",
    "        A_pos = [i for i in A: i > 0]\n",
    "        A_neg = [i for i in A: i < 0]\n",
    "        \n",
    "        if len(A_pos) < len(A_neg):\n",
    "            tmp = []\n",
    "            for i in range(len(A_pos)):\n",
    "                tmp.append(A_neg[i])\n",
    "                tmp.append(A_pos[i])\n",
    "            for i in range(len(A_pos), len(A_neg)):\n",
    "                tmp.append(A_neg[i])\n",
    "        else:\n",
    "            tmp = []\n",
    "            for i in range(len(A_neg)):\n",
    "                tmp.append(A_pos[i])\n",
    "                tmp.append(A_neg[i])\n",
    "            for i in range(len(A_neg), len(A_pos)):\n",
    "                tmp.append(A_pos[i])\n",
    "        \n",
    "        for i in range(A):\n",
    "            A[i] = tmp[i]"
   ]
  },
  {
   "cell_type": "code",
   "execution_count": 1,
   "metadata": {},
   "outputs": [
    {
     "ename": "SyntaxError",
     "evalue": "invalid syntax (<ipython-input-1-1114310ce4bd>, line 30)",
     "output_type": "error",
     "traceback": [
      "\u001b[1;36m  File \u001b[1;32m\"<ipython-input-1-1114310ce4bd>\"\u001b[1;36m, line \u001b[1;32m30\u001b[0m\n\u001b[1;33m    if a_res = None:\u001b[0m\n\u001b[1;37m             ^\u001b[0m\n\u001b[1;31mSyntaxError\u001b[0m\u001b[1;31m:\u001b[0m invalid syntax\n"
     ]
    }
   ],
   "source": [
    "\"\"\"\n",
    "Definition of ListNode\n",
    "class ListNode(object):\n",
    "    def __init__(self, val, next=None):\n",
    "        self.val = val\n",
    "        self.next = next\n",
    "\"\"\"\n",
    "\n",
    "class Solution:\n",
    "    \"\"\"\n",
    "    @param l1: ListNode l1 is the head of the linked list\n",
    "    @param l2: ListNode l2 is the head of the linked list\n",
    "    @return: ListNode head of linked list\n",
    "    \"\"\"\n",
    "    def mergeTwoLists(self, l1, l2):\n",
    "        # write your code here\n",
    "        tf1 = l1\n",
    "        tf2 = l2;\n",
    "        a1 = []\n",
    "        a2 = []\n",
    "        while tf1 != None:\n",
    "            a1.append(tf1.val)\n",
    "            tf1 = tf1.next;\n",
    "        while tf2 != None:\n",
    "            a2.append(tf2.val)\n",
    "            tf2 = tf2.next;\n",
    "        \n",
    "        a_res = a1 + a2;\n",
    "        a_res.sort();\n",
    "        if a_res = None:\n",
    "            return None;\n",
    "        \n",
    "        res_head = ListNode(a_res[0])\n",
    "        tf_res = res_head.next;\n",
    "        for i in range(1, len(a_res)):\n",
    "            tf_res = ListNode(a_res[i]);\n",
    "            tf_res = tf_res.next;\n",
    "        return res_head"
   ]
  },
  {
   "cell_type": "code",
   "execution_count": 1,
   "metadata": {},
   "outputs": [],
   "source": [
    "class Solution:\n",
    "    \"\"\"\n",
    "    @param str: An array of char\n",
    "    @param offset: An integer\n",
    "    @return: nothing\n",
    "    \"\"\"\n",
    "    def rotateString(self, s, offset):\n",
    "        # write your code here\n",
    "        n = len(s)\n",
    "        print;\n",
    "        if n == 0:\n",
    "            return;\n",
    "            \n",
    "        offset = offset // n;\n",
    "        if offset == 0:\n",
    "            return;\n",
    "        \n",
    "        left = s[:n - offset]\n",
    "        right = s[n - offset:]\n",
    "        print(right);\n",
    "        print(left);"
   ]
  },
  {
   "cell_type": "code",
   "execution_count": 2,
   "metadata": {},
   "outputs": [],
   "source": [
    "s = Solution()"
   ]
  },
  {
   "cell_type": "code",
   "execution_count": 3,
   "metadata": {},
   "outputs": [],
   "source": [
    "s.rotateString(\"ABCDEFG\", 3)"
   ]
  },
  {
   "cell_type": "code",
   "execution_count": 10,
   "metadata": {},
   "outputs": [],
   "source": [
    "s = \"dcba\""
   ]
  },
  {
   "cell_type": "code",
   "execution_count": 12,
   "metadata": {},
   "outputs": [
    {
     "data": {
      "text/plain": [
       "[]"
      ]
     },
     "execution_count": 12,
     "metadata": {},
     "output_type": "execute_result"
    }
   ],
   "source": [
    "sorted(\"\")"
   ]
  },
  {
   "cell_type": "code",
   "execution_count": 22,
   "metadata": {},
   "outputs": [],
   "source": [
    "class Solution:\n",
    "    \"\"\"\n",
    "    @param strs: A list of strings\n",
    "    @return: A list of strings\n",
    "    \"\"\"\n",
    "    def test_anagrams(self, a, b):\n",
    "        return sorted(a) == sorted(b);\n",
    "    \n",
    "    def anagrams(self, strs):\n",
    "        # write your code here\n",
    "        res = [];\n",
    "        n = len(strs)\n",
    "        for i in range(n):\n",
    "            flag = False\n",
    "            print(i)\n",
    "            for j in range(n):\n",
    "                print(j)\n",
    "                print(self.test_anagrams(strs[i], strs[j]))\n",
    "                if j != i and self.test_anagrams(strs[i], strs[j]):\n",
    "                    flag = True;\n",
    "#                     print(i,j)\n",
    "                break;\n",
    "            if flag:\n",
    "                res.append(strs[i])\n",
    "            print(res)\n",
    "        return res;"
   ]
  },
  {
   "cell_type": "code",
   "execution_count": 23,
   "metadata": {},
   "outputs": [],
   "source": [
    "s = Solution()"
   ]
  },
  {
   "cell_type": "code",
   "execution_count": 26,
   "metadata": {
    "scrolled": true
   },
   "outputs": [
    {
     "data": {
      "text/plain": [
       "\"['a', 'b', 'c', 'd']\""
      ]
     },
     "execution_count": 26,
     "metadata": {},
     "output_type": "execute_result"
    }
   ],
   "source": [
    "str(sorted(\"bcda\"))"
   ]
  },
  {
   "cell_type": "code",
   "execution_count": 23,
   "metadata": {},
   "outputs": [],
   "source": [
    "def binary_translation(num):\n",
    "        # temp = num;\n",
    "        res = []\n",
    "        while num != 0:\n",
    "            res.append(num % 2);\n",
    "            num = num // 2;\n",
    "        return res;"
   ]
  },
  {
   "cell_type": "code",
   "execution_count": 24,
   "metadata": {},
   "outputs": [],
   "source": [
    "def num_translation(binary):\n",
    "    res = 0;\n",
    "    n = len(binary)\n",
    "    for i in range(len(binary)):\n",
    "        res += binary[i] * pow(2,i)\n",
    "    return res;"
   ]
  },
  {
   "cell_type": "code",
   "execution_count": 32,
   "metadata": {},
   "outputs": [
    {
     "data": {
      "text/plain": [
       "5.0"
      ]
     },
     "execution_count": 32,
     "metadata": {},
     "output_type": "execute_result"
    }
   ],
   "source": [
    "float(\"5\")"
   ]
  },
  {
   "cell_type": "code",
   "execution_count": 34,
   "metadata": {},
   "outputs": [
    {
     "ename": "TypeError",
     "evalue": "'float' object cannot be interpreted as an integer",
     "output_type": "error",
     "traceback": [
      "\u001b[1;31m---------------------------------------------------------------------------\u001b[0m",
      "\u001b[1;31mTypeError\u001b[0m                                 Traceback (most recent call last)",
      "\u001b[1;32m<ipython-input-34-dbeb012772b5>\u001b[0m in \u001b[0;36m<module>\u001b[1;34m\u001b[0m\n\u001b[1;32m----> 1\u001b[1;33m \u001b[0mbin\u001b[0m\u001b[1;33m(\u001b[0m\u001b[1;36m7.5\u001b[0m\u001b[1;33m)\u001b[0m\u001b[1;33m\u001b[0m\u001b[1;33m\u001b[0m\u001b[0m\n\u001b[0m",
      "\u001b[1;31mTypeError\u001b[0m: 'float' object cannot be interpreted as an integer"
     ]
    }
   ],
   "source": [
    "bin(7.5)"
   ]
  }
 ],
 "metadata": {
  "kernelspec": {
   "display_name": "Python 3",
   "language": "python",
   "name": "python3"
  },
  "language_info": {
   "codemirror_mode": {
    "name": "ipython",
    "version": 3
   },
   "file_extension": ".py",
   "mimetype": "text/x-python",
   "name": "python",
   "nbconvert_exporter": "python",
   "pygments_lexer": "ipython3",
   "version": "3.7.1"
  }
 },
 "nbformat": 4,
 "nbformat_minor": 2
}
