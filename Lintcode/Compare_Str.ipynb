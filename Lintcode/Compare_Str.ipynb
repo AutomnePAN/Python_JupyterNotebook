{
 "cells": [
  {
   "cell_type": "code",
   "execution_count": null,
   "metadata": {},
   "outputs": [],
   "source": [
    "class Solution:\n",
    "    \"\"\"\n",
    "    @param A: A string\n",
    "    @param B: A string\n",
    "    @return: if string A contains all of the characters in B return true else return false\n",
    "    \"\"\"\n",
    "    def compareStrings(self, A, B):\n",
    "        # write your code here\n",
    "        \n"
   ]
  },
  {
   "cell_type": "code",
   "execution_count": 10,
   "metadata": {},
   "outputs": [],
   "source": [
    "A = \"ABCD\"\n",
    "B = \"AAACD\""
   ]
  },
  {
   "cell_type": "code",
   "execution_count": 11,
   "metadata": {},
   "outputs": [],
   "source": [
    "B = set(B)"
   ]
  },
  {
   "cell_type": "code",
   "execution_count": 12,
   "metadata": {},
   "outputs": [
    {
     "data": {
      "text/plain": [
       "{'A', 'C', 'D'}"
      ]
     },
     "execution_count": 12,
     "metadata": {},
     "output_type": "execute_result"
    }
   ],
   "source": [
    "B"
   ]
  },
  {
   "cell_type": "code",
   "execution_count": 14,
   "metadata": {},
   "outputs": [],
   "source": [
    "A = set(A)"
   ]
  },
  {
   "cell_type": "code",
   "execution_count": 13,
   "metadata": {},
   "outputs": [
    {
     "data": {
      "text/plain": [
       "{'A', 'C', 'D'}"
      ]
     },
     "execution_count": 13,
     "metadata": {},
     "output_type": "execute_result"
    }
   ],
   "source": [
    "B"
   ]
  },
  {
   "cell_type": "code",
   "execution_count": 16,
   "metadata": {},
   "outputs": [
    {
     "data": {
      "text/plain": [
       "set()"
      ]
     },
     "execution_count": 16,
     "metadata": {},
     "output_type": "execute_result"
    }
   ],
   "source": [
    "B - A"
   ]
  },
  {
   "cell_type": "code",
   "execution_count": 37,
   "metadata": {},
   "outputs": [],
   "source": [
    "class Solution:\n",
    "    \"\"\"\n",
    "    @param numbers: An array of Integer\n",
    "    @param target: target = numbers[index1] + numbers[index2]\n",
    "    @return: [index1, index2] (index1 < index2)\n",
    "    \"\"\"\n",
    "    def twoSum(self, numbers, target):\n",
    "        # write your code here\n",
    "        dict = {};\n",
    "        for i in range(len(numbers)):\n",
    "            print(dict)\n",
    "            print(numbers[i])\n",
    "            if (target - numbers[i]) in dict:\n",
    "                return [ dict[target - numbers[i]] ,i] \n",
    "            else:\n",
    "                dict[numbers[i]] = i"
   ]
  },
  {
   "cell_type": "code",
   "execution_count": 38,
   "metadata": {},
   "outputs": [
    {
     "name": "stdout",
     "output_type": "stream",
     "text": [
      "{}\n",
      "2\n",
      "{2: 0}\n",
      "7\n"
     ]
    },
    {
     "data": {
      "text/plain": [
       "[0, 1]"
      ]
     },
     "execution_count": 38,
     "metadata": {},
     "output_type": "execute_result"
    }
   ],
   "source": [
    "s = Solution()\n",
    "s.twoSum([2,7,5,9],9)"
   ]
  },
  {
   "cell_type": "code",
   "execution_count": 40,
   "metadata": {},
   "outputs": [],
   "source": [
    "class Solution:\n",
    "    \"\"\"\n",
    "    @param numbers: Give an array numbers of n integer\n",
    "    @return: Find all unique triplets in the array which gives the sum of zero.\n",
    "    \"\"\"\n",
    "    def twoSum(self, numbers, target):\n",
    "        # write your code here\n",
    "        dict = {};\n",
    "        for i in range(len(numbers)):\n",
    "            print(dict)\n",
    "            print(numbers[i])\n",
    "            if (target - numbers[i]) in dict:\n",
    "                return [ dict[target - numbers[i]] ,i] \n",
    "            else:\n",
    "                dict[numbers[i]] = i\n",
    "        return [];\n",
    "    \n",
    "   \n",
    "    \n",
    "    def threeSum(self, numbers):\n",
    "        # write your code here\n",
    "        if numbers == []:\n",
    "            return []\n",
    "        Res = []\n",
    "        \n",
    "        for i in range(len(numbers)):\n",
    "            res = self.twoSum(numbers[i+1:], -numbers[i])\n",
    "            if res != []:\n",
    "                for j in range(2):\n",
    "                    res[j] += i+1\n",
    "                Res.append([i] + res);\n",
    "                \n",
    "        return Res;"
   ]
  },
  {
   "cell_type": "code",
   "execution_count": 48,
   "metadata": {},
   "outputs": [
    {
     "data": {
      "text/plain": [
       "512"
      ]
     },
     "execution_count": 48,
     "metadata": {},
     "output_type": "execute_result"
    }
   ],
   "source": [
    "pow(2,9)"
   ]
  }
 ],
 "metadata": {
  "kernelspec": {
   "display_name": "Python (Tensorflow)",
   "language": "python",
   "name": "tensorflow"
  },
  "language_info": {
   "codemirror_mode": {
    "name": "ipython",
    "version": 3
   },
   "file_extension": ".py",
   "mimetype": "text/x-python",
   "name": "python",
   "nbconvert_exporter": "python",
   "pygments_lexer": "ipython3",
   "version": "3.6.8"
  }
 },
 "nbformat": 4,
 "nbformat_minor": 2
}
