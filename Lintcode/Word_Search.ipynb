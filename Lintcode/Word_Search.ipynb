{
 "cells": [
  {
   "cell_type": "code",
   "execution_count": 1,
   "metadata": {},
   "outputs": [],
   "source": [
    "class Solution:\n",
    "    \"\"\"\n",
    "    @param board: A list of lists of character\n",
    "    @param word: A string\n",
    "    @return: A boolean\n",
    "    \"\"\"\n",
    "    def exist(self, board, word):\n",
    "        # write your code here\n",
    "        \n",
    "        if len(board) == 0 or len(board[0]) == 0:\n",
    "            return False;\n",
    "        \n",
    "        n = len(board[0])\n",
    "        m = len(board)\n",
    "        \n",
    "        visited = [[False for j in range(n)] for i in range(n)];\n",
    "        \n",
    "        for i in range(m):\n",
    "            for j in range(n):\n",
    "                if self.exist2(board, word, visited, i , j):\n",
    "                    return True;\n",
    "        return False;\n",
    "        \n",
    "    def exist2(self, board, word, visited, row, col):\n",
    "        if word == \"\":\n",
    "            return True;\n",
    "        n = len(board[0])\n",
    "        m = len(board)\n",
    "        if m < 0 or n < 0 or row > m or col > n:\n",
    "            return False;\n",
    "        \n",
    "        if board[row][col] == word[0] and visited[row][col] == False:\n",
    "            visited[row][col] == True;\n",
    "            new_word = word[1:];\n",
    "            return self.exist2(board, new_word, visited, row-1, col) or self.exist2(board, new_word, visited, row, col+1) or self.exist2(board, new_word, visited, row+1, col) or self.exist2(board, new_word, visited, row, col-1)\n",
    "        else:\n",
    "            return False"
   ]
  },
  {
   "cell_type": "code",
   "execution_count": 3,
   "metadata": {},
   "outputs": [],
   "source": [
    "class Solution:\n",
    "    \"\"\"\n",
    "    @param nums: an integer array\n",
    "    @return: all the different possible increasing subsequences of the given array\n",
    "    \"\"\"\n",
    "    def findSubsequences(self, nums):\n",
    "        # Write your code here\n",
    "        results = [];\n",
    "        self.subsets(nums, 0, [], resuls=ts);\n",
    "        return results;\n",
    "    \n",
    "    def subsets(self, nums, index, temp, results):\n",
    "        if len(nums) >= index and len(temp) >= 2:\n",
    "            results.append(temp[:])\n",
    "            \n",
    "        used = {};\n",
    "        for i in range(index,len(nums)):\n",
    "            if len(temp) > 0 and temp[-1] > nums[i]:\n",
    "                continue;\n",
    "            if temp in used: continue;\n",
    "            used[temp[i]] = True;\n",
    "            temp.append(nums[i])\n",
    "            self.subsets(nums, i+1, temp, results);\n",
    "            temp.pop();"
   ]
  }
 ],
 "metadata": {
  "kernelspec": {
   "display_name": "Python 3",
   "language": "python",
   "name": "python3"
  },
  "language_info": {
   "codemirror_mode": {
    "name": "ipython",
    "version": 3
   },
   "file_extension": ".py",
   "mimetype": "text/x-python",
   "name": "python",
   "nbconvert_exporter": "python",
   "pygments_lexer": "ipython3",
   "version": "3.7.1"
  }
 },
 "nbformat": 4,
 "nbformat_minor": 2
}
