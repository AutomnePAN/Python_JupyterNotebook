{
 "cells": [
  {
   "cell_type": "code",
   "execution_count": 14,
   "metadata": {},
   "outputs": [],
   "source": [
    "class Solution:\n",
    "    \"\"\"\n",
    "    @param A: A string\n",
    "    @param B: A string\n",
    "    @return: the length of the longest common substring.\n",
    "    \"\"\"\n",
    "    def longestCommonSubstring(self, A, B):\n",
    "        # write your code here\n",
    "        if not A or not B:\n",
    "            return 0;\n",
    "        len_min = min(len(A), len(B))\n",
    "        i = 0;\n",
    "        j = 0;\n",
    "        common_len_max = 0\n",
    "        count = 1;\n",
    "        while i < len(A) and j < len(B):\n",
    "            current_len = 0\n",
    "            min_len = min(len(A)-i, len(B)-j)\n",
    "#             print(A[i], B[j])\n",
    "            for k in range(min_len):\n",
    "                print(A[i+k], B[j+k])\n",
    "                if A[i+k] != B[j+k]:\n",
    "                    break\n",
    "                else:\n",
    "                    current_len += 1\n",
    "            common_len_max = max(current_len, common_len_max)\n",
    "            if (count % 2 == 0) or (j == len(B)-1) :\n",
    "                i += 1;\n",
    "            else:\n",
    "                j += 1;\n",
    "            count += 1;\n",
    "                \n",
    "        return common_len_max\n"
   ]
  },
  {
   "cell_type": "code",
   "execution_count": 15,
   "metadata": {},
   "outputs": [
    {
     "name": "stdout",
     "output_type": "stream",
     "text": [
      "a b\n",
      "a c\n",
      "a c\n",
      "a d\n",
      "a d\n",
      "a d\n",
      "a d\n",
      "a d\n",
      "a d\n",
      "a d\n",
      "a d\n",
      "a d\n",
      "a d\n",
      "a d\n",
      "a d\n",
      "b d\n",
      "b d\n",
      "b d\n",
      "b d\n",
      "b d\n",
      "c d\n",
      "d d\n",
      "d d\n"
     ]
    },
    {
     "data": {
      "text/plain": [
       "1"
      ]
     },
     "execution_count": 15,
     "metadata": {},
     "output_type": "execute_result"
    }
   ],
   "source": [
    "s = Solution()\n",
    "s.longestCommonSubstring(\"aaaaaaaaaaaabbbbbcdd\",\"bcdd\")"
   ]
  },
  {
   "cell_type": "code",
   "execution_count": 3,
   "metadata": {},
   "outputs": [],
   "source": [
    "counter = {}\n",
    "counter['A'] = 'b'"
   ]
  },
  {
   "cell_type": "code",
   "execution_count": 10,
   "metadata": {},
   "outputs": [
    {
     "data": {
      "text/plain": [
       "dict_keys(['A'])"
      ]
     },
     "execution_count": 10,
     "metadata": {},
     "output_type": "execute_result"
    }
   ],
   "source": [
    "counter.keys()"
   ]
  }
 ],
 "metadata": {
  "kernelspec": {
   "display_name": "Python 3",
   "language": "python",
   "name": "python3"
  },
  "language_info": {
   "codemirror_mode": {
    "name": "ipython",
    "version": 3
   },
   "file_extension": ".py",
   "mimetype": "text/x-python",
   "name": "python",
   "nbconvert_exporter": "python",
   "pygments_lexer": "ipython3",
   "version": "3.7.1"
  }
 },
 "nbformat": 4,
 "nbformat_minor": 2
}
