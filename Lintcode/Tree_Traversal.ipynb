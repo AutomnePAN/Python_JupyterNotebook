{
 "cells": [
  {
   "cell_type": "code",
   "execution_count": 1,
   "metadata": {},
   "outputs": [],
   "source": [
    "# Definition of TreeNode:\n",
    "class TreeNode:\n",
    "    def __init__(self, val):\n",
    "        self.val = val\n",
    "        self.left, self.right = None, None\n",
    "\n",
    "\n",
    "class Solution:\n",
    "    \"\"\"\n",
    "    @param root: A Tree\n",
    "    @return: Preorder in ArrayList which contains node values.\n",
    "    \"\"\"\n",
    "    def preorderTraversal(self, root):\n",
    "        # write your code here\n",
    "        if root == None:\n",
    "            return [];\n",
    "        A = [root.val];       \n",
    "        A = A + self.preorderTraversal(root.left);\n",
    "        A = A + self.preorderTraversal(root.right)\n",
    "        return A"
   ]
  },
  {
   "cell_type": "code",
   "execution_count": 2,
   "metadata": {},
   "outputs": [],
   "source": [
    "class Solution:\n",
    "    \"\"\"\n",
    "    @param root: A Tree\n",
    "    @return: Inorder in ArrayList which contains node values.\n",
    "    \"\"\"\n",
    "    def inorderTraversal(self, root):\n",
    "        # write your code here\n",
    "        \n",
    "        # write your code here\n",
    "        if root == None:\n",
    "            return [];\n",
    "               \n",
    "        A = self.inorderTraversal(root.left);\n",
    "        A.append(root.val)\n",
    "        A = A + self.inorderTraversal(root.right)\n",
    "        return A\n"
   ]
  },
  {
   "cell_type": "code",
   "execution_count": 3,
   "metadata": {},
   "outputs": [],
   "source": [
    "class Solution:\n",
    "# class Solution:\n",
    "    \"\"\"\n",
    "    @param root: A Tree\n",
    "    @return: Inorder in ArrayList which contains node values.\n",
    "    \"\"\"\n",
    "    def postorderTraversal(self, root):\n",
    "        # write your code here\n",
    "        \n",
    "        # write your code here\n",
    "        if root == None:\n",
    "            return [];\n",
    "               \n",
    "        A = self.postorderTraversal(root.left);\n",
    "        \n",
    "        A = A + self.postorderTraversal(root.right)\n",
    "        A.append(root.val)\n",
    "        return A\n"
   ]
  },
  {
   "cell_type": "code",
   "execution_count": 4,
   "metadata": {},
   "outputs": [],
   "source": [
    "class Solution:\n",
    "    \"\"\"\n",
    "    @param root: A Tree\n",
    "    @return: Level order a list of lists of integer\n",
    "    \"\"\"\n",
    "    def levelOrder(self, root):\n",
    "        # write your code here\n",
    "        \n",
    "        # write your code here\n",
    "        if root is None:\n",
    "            return [];\n",
    "               \n",
    "        result = [];\n",
    "        q = deque([root])\n",
    "        while q:\n",
    "            level = [];\n",
    "            length = len(q);\n",
    "            for _ in range(length):\n",
    "                node = q.popleft();\n",
    "                level.append(node.val);\n",
    "                if node.left:\n",
    "                    q.append(node.left)\n",
    "                if node.right:\n",
    "                    q.append(node.right)\n",
    "            result.append(level);\n",
    "        return result"
   ]
  },
  {
   "cell_type": "code",
   "execution_count": 1,
   "metadata": {},
   "outputs": [
    {
     "data": {
      "text/plain": [
       "[4, 3, 2, 1]"
      ]
     },
     "execution_count": 1,
     "metadata": {},
     "output_type": "execute_result"
    }
   ],
   "source": [
    "A = [1,2,3,4]\n",
    "A.reverse()\n",
    "A"
   ]
  }
 ],
 "metadata": {
  "kernelspec": {
   "display_name": "Python 3",
   "language": "python",
   "name": "python3"
  },
  "language_info": {
   "codemirror_mode": {
    "name": "ipython",
    "version": 3
   },
   "file_extension": ".py",
   "mimetype": "text/x-python",
   "name": "python",
   "nbconvert_exporter": "python",
   "pygments_lexer": "ipython3",
   "version": "3.7.1"
  }
 },
 "nbformat": 4,
 "nbformat_minor": 2
}
