{
 "cells": [
  {
   "cell_type": "code",
   "execution_count": 1,
   "metadata": {},
   "outputs": [],
   "source": [
    "class Solution:\n",
    "    \"\"\"\n",
    "    @param A: An integers array.\n",
    "    @return: return any of peek positions.\n",
    "    \"\"\"\n",
    "    def condition(self,A,i):\n",
    "        if i<1 or i > len(A)-1:\n",
    "            print(\"errors\")\n",
    "            return;\n",
    "        if A[i-1] < A[i] and A[i] < A[i+1]:\n",
    "            return 1;\n",
    "        if A[i-1] > A[i] and A[i] > A[i+1]:\n",
    "            return 2;\n",
    "        if A[i-1] > A[i] and A[i] < A[i+1]:\n",
    "            return 3\n",
    "        return 4;\n",
    "    \n",
    "    def findPeak(self, A):\n",
    "        # write your code here\n",
    "        left = 1\n",
    "        right = len(A) - 1;\n",
    "        \n",
    "        while(left <= right):\n",
    "            mid = (left + right)// 2\n",
    "            r = self.condition(A,mid)\n",
    "            print(mid, r)\n",
    "            if r == 1:\n",
    "                left = mid+1\n",
    "                print(left, right)\n",
    "            if r == 2:\n",
    "                right = mid-1\n",
    "            if r == 3:\n",
    "                right = mid-1;\n",
    "            else:\n",
    "                return mid;\n",
    "        "
   ]
  },
  {
   "cell_type": "code",
   "execution_count": 4,
   "metadata": {},
   "outputs": [
    {
     "name": "stdout",
     "output_type": "stream",
     "text": [
      "4 1\n",
      "5 7\n"
     ]
    },
    {
     "data": {
      "text/plain": [
       "4"
      ]
     },
     "execution_count": 4,
     "metadata": {},
     "output_type": "execute_result"
    }
   ],
   "source": [
    "s = Solution()\n",
    "s.findPeak([1,2,1,3,4,5,7,6])"
   ]
  },
  {
   "cell_type": "code",
   "execution_count": 2,
   "metadata": {},
   "outputs": [],
   "source": [
    "\"\"\"\n",
    "Definition of TreeNode:\n",
    "class TreeNode:\n",
    "    def __init__(self, val):\n",
    "        self.val = val\n",
    "        self.left, self.right = None, None\n",
    "\n",
    "Example of iterate a tree:\n",
    "iterator = BSTIterator(root)\n",
    "while iterator.hasNext():\n",
    "    node = iterator.next()\n",
    "    do something for node \n",
    "\"\"\"\n",
    "\n",
    "\n",
    "class BSTIterator:\n",
    "    \"\"\"\n",
    "    @param: root: The root of binary tree.\n",
    "    \"\"\"\n",
    "    def __init__(self, root):\n",
    "        # do intialization if necessary\n",
    "        self.stack = []\n",
    "        while root != None:\n",
    "            self.stack.append(root.val)\n",
    "            root = root.left\n",
    "            \n",
    "\n",
    "    \"\"\"\n",
    "    @return: True if there has next node, or false\n",
    "    \"\"\"\n",
    "    def hasNext(self, ):\n",
    "        # write your code here\n",
    "        return len(self.stack)>0\n",
    "\n",
    "    \"\"\"\n",
    "    @return: return next node\n",
    "    \"\"\"\n",
    "    def next(self, ):\n",
    "        # write your code here\n",
    "        next_node = self.stack[-1]\n",
    "    \n",
    "        if self.stack[-1].right:\n",
    "            node = self.stack[-1].right\n",
    "            while node:\n",
    "                self.stack.append(node)\n",
    "                node = node.left\n",
    "        else:\n",
    "            node = self.stack.pop()\n",
    "            while self.stack and self.stack[-1].right == node:\n",
    "                node = self.stack.pop()\n",
    "                \n",
    "        return next_node\n",
    "        "
   ]
  }
 ],
 "metadata": {
  "kernelspec": {
   "display_name": "Python 3",
   "language": "python",
   "name": "python3"
  },
  "language_info": {
   "codemirror_mode": {
    "name": "ipython",
    "version": 3
   },
   "file_extension": ".py",
   "mimetype": "text/x-python",
   "name": "python",
   "nbconvert_exporter": "python",
   "pygments_lexer": "ipython3",
   "version": "3.7.1"
  }
 },
 "nbformat": 4,
 "nbformat_minor": 2
}
