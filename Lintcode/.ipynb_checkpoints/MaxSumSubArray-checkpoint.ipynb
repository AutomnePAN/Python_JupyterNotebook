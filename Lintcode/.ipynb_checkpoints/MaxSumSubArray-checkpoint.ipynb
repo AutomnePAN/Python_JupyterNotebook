{
 "cells": [
  {
   "cell_type": "code",
   "execution_count": 1,
   "metadata": {},
   "outputs": [],
   "source": [
    "class Solution:\n",
    "    \"\"\"\n",
    "    @param head: ListNode head is the head of the linked list \n",
    "    @param m: An integer\n",
    "    @param n: An integer\n",
    "    @return: The head of the reversed ListNode\n",
    "    \"\"\"\n",
    "    def reverseBetween(self, head, m, n):\n",
    "        # write your code here\n",
    "        ori = [];\n",
    "        tf = head;\n",
    "        while(tf != None):\n",
    "            ori.append(tf.val);\n",
    "        print(ori)\n",
    "        left = m - 1;\n",
    "        right = n - 1;\n",
    "        while(left < right):\n",
    "            ori[left], ori[right] == ori[right], ori[left]\n",
    "            left += 1;\n",
    "            right -= 1;\n",
    "        print(ori)\n",
    "        tf = head;\n",
    "        for i in range(len(ori)):\n",
    "            tf.val = ori[i]\n",
    "            tf = tf.next;\n",
    "        \n",
    "        return head"
   ]
  },
  {
   "cell_type": "code",
   "execution_count": 2,
   "metadata": {},
   "outputs": [],
   "source": [
    "s = Solution()"
   ]
  },
  {
   "cell_type": "code",
   "execution_count": 3,
   "metadata": {},
   "outputs": [],
   "source": [
    "\n",
    "class ListNode(object):\n",
    "    def __init__(self, val, next=None):\n",
    "        self.val = val\n",
    "        self.next = next"
   ]
  },
  {
   "cell_type": "code",
   "execution_count": 28,
   "metadata": {},
   "outputs": [],
   "source": [
    "class Solution:\n",
    "    \"\"\"\n",
    "    @param matrix: A list of lists of integers\n",
    "    @param target: An integer you want to search in matrix\n",
    "    @return: An integer indicate the total occurrence of target in the given matrix\n",
    "    \"\"\"\n",
    "    \n",
    "    def binary_search(self, Array, target):\n",
    "        left = 0;\n",
    "        right = len(Array) - 1;\n",
    "        if len(Array) == 1:\n",
    "            return target == Array[0]\n",
    "            \n",
    "        while(left <= right):\n",
    "            print(\"left: \",left)\n",
    "            print(\"right: \", right)\n",
    "            mid = (left + right)//2\n",
    "            if Array[mid] == target:\n",
    "                return True;\n",
    "            if(Array[mid] < target):\n",
    "                left = mid + 1\n",
    "            else:\n",
    "                right = mid - 1\n",
    "        return False\n",
    "    \n",
    "    \n",
    "    def searchMatrix(self, matrix, target):\n",
    "        # write your code here\n",
    "        length = len(matrix)\n",
    "        width = len(matrix[0])\n",
    "        \n",
    "        counter = 0\n",
    "        for i in range(length):\n",
    "            if self.binary_search(matrix[i], target) == True:\n",
    "                counter += 1;\n",
    "            print(\"counter: \",counter)\n",
    "        return counter"
   ]
  },
  {
   "cell_type": "code",
   "execution_count": 29,
   "metadata": {},
   "outputs": [],
   "source": [
    "s = Solution()"
   ]
  },
  {
   "cell_type": "code",
   "execution_count": 30,
   "metadata": {},
   "outputs": [],
   "source": [
    "matrix = [[1,2,3,9],[2,3,9,10],[9,100,109,200]]\n",
    "target = 9"
   ]
  },
  {
   "cell_type": "code",
   "execution_count": 31,
   "metadata": {},
   "outputs": [
    {
     "name": "stdout",
     "output_type": "stream",
     "text": [
      "left:  0\n",
      "right:  3\n",
      "left:  2\n",
      "right:  3\n",
      "left:  3\n",
      "right:  3\n",
      "counter:  1\n",
      "left:  0\n",
      "right:  3\n",
      "left:  2\n",
      "right:  3\n",
      "counter:  2\n",
      "left:  0\n",
      "right:  3\n",
      "left:  0\n",
      "right:  0\n",
      "counter:  3\n"
     ]
    },
    {
     "data": {
      "text/plain": [
       "3"
      ]
     },
     "execution_count": 31,
     "metadata": {},
     "output_type": "execute_result"
    }
   ],
   "source": [
    "s.searchMatrix(matrix, target)"
   ]
  },
  {
   "cell_type": "code",
   "execution_count": 46,
   "metadata": {},
   "outputs": [],
   "source": [
    "A = [4,5,1,2,3]"
   ]
  },
  {
   "cell_type": "code",
   "execution_count": 49,
   "metadata": {},
   "outputs": [],
   "source": [
    "A.reverse()"
   ]
  },
  {
   "cell_type": "code",
   "execution_count": 50,
   "metadata": {},
   "outputs": [
    {
     "data": {
      "text/plain": [
       "[3, 2, 1, 5, 4]"
      ]
     },
     "execution_count": 50,
     "metadata": {},
     "output_type": "execute_result"
    }
   ],
   "source": [
    "A"
   ]
  },
  {
   "cell_type": "code",
   "execution_count": 47,
   "metadata": {},
   "outputs": [],
   "source": [
    "class Solution:\n",
    "    \"\"\"\n",
    "    @param nums: An integer array\n",
    "    @return: nothing\n",
    "    \"\"\"\n",
    "    def recoverRotatedSortedArray(self, nums):\n",
    "        # write your code here\n",
    "        index = 0;\n",
    "        while(index < len(nums) - 1 and nums[index] < nums[index + 1]):\n",
    "            index += 1;\n",
    "        A = nums[:index+1]\n",
    "        B = nums[index+1:]\n",
    "        return  B + A"
   ]
  },
  {
   "cell_type": "code",
   "execution_count": 48,
   "metadata": {},
   "outputs": [
    {
     "data": {
      "text/plain": [
       "[1, 2, 3, 4, 5]"
      ]
     },
     "execution_count": 48,
     "metadata": {},
     "output_type": "execute_result"
    }
   ],
   "source": [
    "s = Solution()\n",
    "s.recoverRotatedSortedArray(A)"
   ]
  },
  {
   "cell_type": "code",
   "execution_count": 63,
   "metadata": {},
   "outputs": [],
   "source": [
    "class MyQueue:\n",
    "    \n",
    "    def __init__(self):\n",
    "        # do intialization if necessary\n",
    "        self.stack_in = []\n",
    "        self.stack_out = []\n",
    "\n",
    "    \"\"\"\n",
    "    @param: element: An integer\n",
    "    @return: nothing\n",
    "    \"\"\"\n",
    "    def push(self, element):\n",
    "        # write your code here\n",
    "        self.stack_in.append(element)\n",
    "\n",
    "    \"\"\"\n",
    "    @return: An integer\n",
    "    \"\"\"\n",
    "    def pop(self):\n",
    "        # write your code here\n",
    "        print(self.stack_in)\n",
    "        print(self.stack_out)\n",
    "        if len(self.stack_out) == 0:\n",
    "            A = self.stack_in.reverse()\n",
    "            print(A)\n",
    "            self.stack_out = self.stack_in.reverse()\n",
    "            self.stack_in = []\n",
    "            print(self.stack_out)\n",
    "            print(self.stack_in)\n",
    "        num = self.stack_out[len(self.stack_out) - 1]\n",
    "        self.stack_out.pop()\n",
    "        return num;\n",
    "\n",
    "    \"\"\"\n",
    "    @return: An integer\n",
    "    \"\"\"\n",
    "    def top(self):\n",
    "        # write your code here\n",
    "        if len(self.stack_out) == 0:\n",
    "            return self.stack_in[0]\n",
    "        return self.stack_out[len(self.stack_out) - 1]"
   ]
  },
  {
   "cell_type": "code",
   "execution_count": 64,
   "metadata": {},
   "outputs": [],
   "source": [
    "q = MyQueue()"
   ]
  },
  {
   "cell_type": "code",
   "execution_count": 65,
   "metadata": {},
   "outputs": [],
   "source": [
    "q.push(1)\n"
   ]
  },
  {
   "cell_type": "code",
   "execution_count": 71,
   "metadata": {},
   "outputs": [
    {
     "name": "stdout",
     "output_type": "stream",
     "text": [
      "None\n",
      "None\n"
     ]
    }
   ],
   "source": [
    "A = [1,2]\n",
    "print( A.reverse())\n",
    "print(B)"
   ]
  },
  {
   "cell_type": "code",
   "execution_count": 102,
   "metadata": {},
   "outputs": [],
   "source": [
    "nums = [-1,-2,-3,-100,-1,-50]\n",
    "mid = len(nums)//2"
   ]
  },
  {
   "cell_type": "code",
   "execution_count": 110,
   "metadata": {},
   "outputs": [],
   "source": [
    "class Solution:\n",
    "    \"\"\"\n",
    "    @param nums: A list of integers\n",
    "    @return: A integer indicate the sum of max subarray\n",
    "    \"\"\"\n",
    "    def maxSubArray(self, nums):\n",
    "        # write your code here\n",
    "        if len(nums) == 0:\n",
    "            return -10000000\n",
    "        if len(nums) == 1:\n",
    "            return nums[0]\n",
    "            \n",
    "        left = 0;\n",
    "        right = len(nums) - 1;\n",
    "        mid = (left + right)//2\n",
    "        max_sum_l = self.maxSubArray(nums[0:mid])\n",
    "        max_sum_r = self.maxSubArray(nums[mid+1:len(nums)])\n",
    "        \n",
    "        min_index_left = mid\n",
    "        min_sum_left = nums[mid]\n",
    "        current_sum = nums[mid]\n",
    "        for i in range(mid,-1,-1):\n",
    "            current_sum -= nums[i]\n",
    "            if current_sum <= min_sum_left:\n",
    "                min_sum_left = current_sum\n",
    "                min_index_left = i\n",
    "                \n",
    "        max_index_right = mid+1\n",
    "        max_sum_right = nums[mid+1]\n",
    "        current_sum = nums[mid+1]\n",
    "        for i in range(mid+1,len(nums),+1):\n",
    "            current_sum += nums[i]\n",
    "            if current_sum >= max_sum_right:\n",
    "                max_sum_right = current_sum\n",
    "                max_index_right = i\n",
    "        max_sum_mid = max_sum_right - min_sum_left\n",
    "        print\n",
    "        return max(max_sum_l, max_sum_r, max_sum_mid)"
   ]
  },
  {
   "cell_type": "code",
   "execution_count": 111,
   "metadata": {},
   "outputs": [],
   "source": [
    "s = Solution()"
   ]
  },
  {
   "cell_type": "code",
   "execution_count": 112,
   "metadata": {},
   "outputs": [
    {
     "data": {
      "text/plain": [
       "-1"
      ]
     },
     "execution_count": 112,
     "metadata": {},
     "output_type": "execute_result"
    }
   ],
   "source": [
    "s.maxSubArray(nums)"
   ]
  }
 ],
 "metadata": {
  "kernelspec": {
   "display_name": "Python 3",
   "language": "python",
   "name": "python3"
  },
  "language_info": {
   "codemirror_mode": {
    "name": "ipython",
    "version": 3
   },
   "file_extension": ".py",
   "mimetype": "text/x-python",
   "name": "python",
   "nbconvert_exporter": "python",
   "pygments_lexer": "ipython3",
   "version": "3.7.1"
  }
 },
 "nbformat": 4,
 "nbformat_minor": 2
}
