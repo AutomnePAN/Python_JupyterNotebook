{
 "cells": [
  {
   "cell_type": "code",
   "execution_count": 29,
   "metadata": {},
   "outputs": [],
   "source": [
    "class Permute:\n",
    "    def permute(self, nums):\n",
    "        # write your code here\n",
    "        if len(nums) == 1:\n",
    "            return [nums]\n",
    "        \n",
    "        Res = []\n",
    "        for i in range(len(nums)):\n",
    "            sub_nums = []\n",
    "            for j in range(len(nums)):\n",
    "                if j != i:\n",
    "                    sub_nums.append(nums[j])\n",
    "            for res in self.permute(sub_nums):\n",
    "                Res.append([nums[i]]+res)\n",
    "        \n",
    "        return Res"
   ]
  },
  {
   "cell_type": "code",
   "execution_count": 30,
   "metadata": {},
   "outputs": [],
   "source": [
    "class Subset_duplicate:\n",
    "    \"\"\"\n",
    "    @param nums: A set of numbers\n",
    "    @return: A list of lists\n",
    "    \"\"\"\n",
    "    def subsets(self, nums):\n",
    "        # write your code here\n",
    "        nums = sorted(nums)\n",
    "        res = [[]]\n",
    "        for num in nums:\n",
    "            for i in range(len(res)):\n",
    "                res.append(res[i]+[num])\n",
    "        \n",
    "        return res"
   ]
  },
  {
   "cell_type": "code",
   "execution_count": 33,
   "metadata": {},
   "outputs": [],
   "source": [
    "def searchMatrix(self, matrix, target):\n",
    "        # write your code here\n",
    "        if len(matrix) == 0:\n",
    "            return False\n",
    "        \n",
    "        width = len(matrix[0])\n",
    "        left = 0;\n",
    "        right = len(matrix[0])*len(matrix)-1\n",
    "        \n",
    "        while left <= right :\n",
    "            mid = (left + right)//2;\n",
    "            if matrix[mid // width][mid % width] == target:\n",
    "                return True\n",
    "            if (matrix[mid // width][mid % width] < target):\n",
    "                left = mid + 1;\n",
    "            else:\n",
    "                right = mid - 1;\n",
    "                \n",
    "        return False;"
   ]
  },
  {
   "cell_type": "code",
   "execution_count": 20,
   "metadata": {},
   "outputs": [],
   "source": [
    "nums = [1,2]"
   ]
  },
  {
   "cell_type": "code",
   "execution_count": null,
   "metadata": {},
   "outputs": [],
   "source": [
    "nums ="
   ]
  },
  {
   "cell_type": "code",
   "execution_count": 21,
   "metadata": {},
   "outputs": [],
   "source": [
    "heads = []\n",
    "for i in range(len(nums)):\n",
    "    in_s = False\n",
    "    for j in range(len(heads)):\n",
    "        if nums[heads[j]] == nums[i]:\n",
    "            in_s = True\n",
    "    if not in_s:\n",
    "        heads.append(i)"
   ]
  },
  {
   "cell_type": "code",
   "execution_count": 22,
   "metadata": {},
   "outputs": [
    {
     "data": {
      "text/plain": [
       "[0, 1]"
      ]
     },
     "execution_count": 22,
     "metadata": {},
     "output_type": "execute_result"
    }
   ],
   "source": [
    "heads"
   ]
  },
  {
   "cell_type": "code",
   "execution_count": 17,
   "metadata": {},
   "outputs": [
    {
     "name": "stdout",
     "output_type": "stream",
     "text": [
      "1\n",
      "2\n",
      "3\n",
      "4\n",
      "5\n",
      "6\n",
      "7\n"
     ]
    }
   ],
   "source": [
    "for head in heads:\n",
    "    print(nums[head])"
   ]
  },
  {
   "cell_type": "code",
   "execution_count": 23,
   "metadata": {},
   "outputs": [],
   "source": [
    "for head in heads:\n",
    "    sub_nums = []\n",
    "    for j in range(len(nums)):\n",
    "        if j != head:\n",
    "            sub_nums.append(nums[j])"
   ]
  },
  {
   "cell_type": "code",
   "execution_count": 28,
   "metadata": {},
   "outputs": [
    {
     "data": {
      "text/plain": [
       "True"
      ]
     },
     "execution_count": 28,
     "metadata": {},
     "output_type": "execute_result"
    }
   ],
   "source": [
    "[1,1] == [1,1]"
   ]
  }
 ],
 "metadata": {
  "kernelspec": {
   "display_name": "Python 3",
   "language": "python",
   "name": "python3"
  },
  "language_info": {
   "codemirror_mode": {
    "name": "ipython",
    "version": 3
   },
   "file_extension": ".py",
   "mimetype": "text/x-python",
   "name": "python",
   "nbconvert_exporter": "python",
   "pygments_lexer": "ipython3",
   "version": "3.7.1"
  }
 },
 "nbformat": 4,
 "nbformat_minor": 2
}
