{
 "cells": [
  {
   "cell_type": "code",
   "execution_count": 4,
   "metadata": {},
   "outputs": [],
   "source": [
    "\"\"\"\n",
    "Definition of ListNode\n",
    "class ListNode(object):\n",
    "    def __init__(self, val, next=None):\n",
    "        self.val = val\n",
    "        self.next = next\n",
    "\"\"\"\n",
    "\n",
    "class Solution:\n",
    "    \"\"\"\n",
    "    @param head: The head of linked list.\n",
    "    @return: nothing\n",
    "    \"\"\"\n",
    "    \n",
    "    def sortList(self, head):\n",
    "        # write your code here\n",
    "        if head == None:\n",
    "            return None;\n",
    "        \n",
    "        fp = head\n",
    "        li = []\n",
    "        while fp != None:\n",
    "            li.append(fp.val)\n",
    "            fp = fp.next;\n",
    "        \n",
    "        ro = []\n",
    "        l = 0;\n",
    "        r = len(li) - 1;\n",
    "        while(l <= r):\n",
    "            if (l == r):\n",
    "                ro.append(li[l])\n",
    "            else:\n",
    "                ro.append(li[l])\n",
    "                ro.append(li[r])\n",
    "            l += 1;\n",
    "            r -= 1;\n",
    "        \n",
    "        if len(ro) > 0:\n",
    "            res_head = ListNode(ro[0], None)\n",
    "            fp = res_head;\n",
    "            for i in range(1, len(ro)):\n",
    "                fp.next = ListNode(ro[i], None);\n",
    "                fp = fp.next;\n",
    "        return res_head;"
   ]
  },
  {
   "cell_type": "code",
   "execution_count": 5,
   "metadata": {},
   "outputs": [],
   "source": [
    "class Solution:\n",
    "    \"\"\"\n",
    "    @param: nums: An ineger array\n",
    "    @return: An integer\n",
    "    \"\"\"\n",
    "    def removeDuplicates(self, nums):\n",
    "        # write your code here\n",
    "        if len(nums) == 0:\n",
    "            return [0]\n",
    "        s = set(nums);\n",
    "        print(s)\n",
    "        l = list(s)\n",
    "        return [len(l)]"
   ]
  },
  {
   "cell_type": "code",
   "execution_count": 6,
   "metadata": {},
   "outputs": [],
   "source": [
    "nums = [1,1,2]"
   ]
  },
  {
   "cell_type": "code",
   "execution_count": 10,
   "metadata": {},
   "outputs": [],
   "source": [
    "class Solution:\n",
    "    \"\"\"\n",
    "    @param: nums: An ineger array\n",
    "    @return: An integer\n",
    "    \"\"\"\n",
    "    def removeDuplicates(self, nums):\n",
    "        # write your code here\n",
    "        if nums == []:\n",
    "            return 0;\n",
    "        i = 0;\n",
    "        j = 0;\n",
    "        counter = 1;\n",
    "        while i < len(nums) and j < len(nums):\n",
    "            if nums[i] == nums[j]:\n",
    "                j += 1;\n",
    "            else:\n",
    "                i = i + 1;\n",
    "                nums[i] = nums[j]\n",
    "                counter += 1\n",
    "        return counter;"
   ]
  }
 ],
 "metadata": {
  "kernelspec": {
   "display_name": "Python 3",
   "language": "python",
   "name": "python3"
  },
  "language_info": {
   "codemirror_mode": {
    "name": "ipython",
    "version": 3
   },
   "file_extension": ".py",
   "mimetype": "text/x-python",
   "name": "python",
   "nbconvert_exporter": "python",
   "pygments_lexer": "ipython3",
   "version": "3.7.1"
  }
 },
 "nbformat": 4,
 "nbformat_minor": 2
}
