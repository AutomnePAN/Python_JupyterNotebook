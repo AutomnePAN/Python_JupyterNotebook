{
 "cells": [
  {
   "cell_type": "code",
   "execution_count": 1,
   "metadata": {},
   "outputs": [],
   "source": [
    "\"\"\"\n",
    "Definition of ListNode\n",
    "class ListNode(object):\n",
    "\n",
    "    def __init__(self, val, next=None):\n",
    "        self.val = val\n",
    "        self.next = next\n",
    "\"\"\"\n",
    "class Solution:\n",
    "    \"\"\"\n",
    "    @param lists: a list of ListNode\n",
    "    @return: The head of one sorted list.\n",
    "    \"\"\"\n",
    "    def mergeKLists(self, lists):\n",
    "        # write your code here\n",
    "        if not lists:\n",
    "            return None;\n",
    "        while len(lists) > 1:\n",
    "            new_lists = []\n",
    "            for i in range(0, len(lists), 2):\n",
    "                if i+1 < len(lists):\n",
    "                    new_head = self.merge(lists[i], lists[i+1]);\n",
    "                else:\n",
    "                    new_head = lists[i]\n",
    "                new_lists.append(new_head)\n",
    "            lists = new_lists\n",
    "        return lists[0]\n",
    "        \n",
    "    def merge(self, head1, head2):\n",
    "        prehead = ListNode(0)\n",
    "        index = prehead\n",
    "        while head1 and head2:\n",
    "            if head1.val < head2.val:\n",
    "                index.next = ListNode(head1.val)\n",
    "                head1 = head1.next\n",
    "            else:\n",
    "                index.next = ListNode(head2.val)\n",
    "                head2 = head2.next\n",
    "            index = index.next\n",
    "        if head1:\n",
    "            index.next = head1\n",
    "        if head2:\n",
    "            index.next = head2\n",
    "        return prehead.next;"
   ]
  }
 ],
 "metadata": {
  "kernelspec": {
   "display_name": "Python 3",
   "language": "python",
   "name": "python3"
  },
  "language_info": {
   "codemirror_mode": {
    "name": "ipython",
    "version": 3
   },
   "file_extension": ".py",
   "mimetype": "text/x-python",
   "name": "python",
   "nbconvert_exporter": "python",
   "pygments_lexer": "ipython3",
   "version": "3.7.1"
  }
 },
 "nbformat": 4,
 "nbformat_minor": 2
}
