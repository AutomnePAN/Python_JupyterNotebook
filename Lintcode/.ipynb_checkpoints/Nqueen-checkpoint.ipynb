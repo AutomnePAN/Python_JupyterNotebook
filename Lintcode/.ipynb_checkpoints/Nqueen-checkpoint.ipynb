{
 "cells": [
  {
   "cell_type": "code",
   "execution_count": 41,
   "metadata": {},
   "outputs": [],
   "source": [
    "class Solution:\n",
    "    \"\"\"\n",
    "    @param: n: The number of queens\n",
    "    @return: All distinct solutions\n",
    "    \"\"\"\n",
    "    def solveNQueens(self, n):\n",
    "        # write your code here\n",
    "        if n == 1:\n",
    "            return [[\"Q\"]]\n",
    "        if n == 2 or n == 3:\n",
    "            return []\n",
    "        if n == 4:\n",
    "            return [[\".Q..\",\"...Q\",\"Q...\",\"..Q.\"],[\"..Q.\",\"Q...\",\"...Q\",\".Q..\"]]\n",
    "        \n",
    "        results = []\n",
    "        visited = {'col':set(), 'sum':set(), 'sub':set()}\n",
    "        print(visited['col'])\n",
    "        self.dNq(n, [], visited, results)\n",
    "    \n",
    "        return results\n",
    "        \n",
    "        \n",
    "    def dNq(self, n, permutaton, visited,results):\n",
    "        \n",
    "        if n == len(permutaton):\n",
    "            board = self.print_board(permutaton)\n",
    "            results.append(board)\n",
    "            return \n",
    "        row  = len(permutaton)\n",
    "        print(row)\n",
    "        for col in range(n):\n",
    "#             print(col)\n",
    "            if not self.isValid(col, row, visited):\n",
    "#                 print(col, row)\n",
    "                continue;\n",
    "            print(col)\n",
    "            permutaton.append(col)\n",
    "            visited['col'].add(col)\n",
    "            visited['sub'].add(row - col)\n",
    "            visited['sum'].add(row + col)\n",
    "            \n",
    "            self.dNq(n, permutaton, visited, results)\n",
    "            \n",
    "            permutaton.pop()\n",
    "            visited['col'].remove(col)\n",
    "            visited['sub'].remove(row - col)\n",
    "            visited['sum'].remove(row + col)\n",
    "            \n",
    "            \n",
    "\n",
    "\n",
    "    def isValid(self, column, row, visited):\n",
    "        if column in visited['col']:\n",
    "            return False\n",
    "        if (row - column) in visited['sub']:\n",
    "            return False\n",
    "        if (column + row) in visited['sum']:\n",
    "            return False\n",
    "        return True;\n",
    "        \n",
    "        \n",
    "    def print_board(self,permutation):\n",
    "        board = []\n",
    "        for v in permutation:\n",
    "            row = ['.' for _ in range(len(permutation))]\n",
    "            row[v] = 'Q'\n",
    "            rowStr = ''.join(row)\n",
    "            board.append(rowStr)\n",
    "        \n",
    "        return board"
   ]
  },
  {
   "cell_type": "code",
   "execution_count": 42,
   "metadata": {},
   "outputs": [],
   "source": [
    "s = Solution()"
   ]
  },
  {
   "cell_type": "code",
   "execution_count": 48,
   "metadata": {},
   "outputs": [
    {
     "ename": "NameError",
     "evalue": "name 'infinit' is not defined",
     "output_type": "error",
     "traceback": [
      "\u001b[1;31m---------------------------------------------------------------------------\u001b[0m",
      "\u001b[1;31mNameError\u001b[0m                                 Traceback (most recent call last)",
      "\u001b[1;32m<ipython-input-48-15110844a3cb>\u001b[0m in \u001b[0;36m<module>\u001b[1;34m\u001b[0m\n\u001b[1;32m----> 1\u001b[1;33m \u001b[0minfinit\u001b[0m\u001b[1;33m\u001b[0m\u001b[1;33m\u001b[0m\u001b[0m\n\u001b[0m",
      "\u001b[1;31mNameError\u001b[0m: name 'infinit' is not defined"
     ]
    }
   ],
   "source": [
    "infinit"
   ]
  },
  {
   "cell_type": "code",
   "execution_count": 45,
   "metadata": {},
   "outputs": [],
   "source": [
    "a = [1,2,3,4,5]\n",
    "a.reverse()"
   ]
  },
  {
   "cell_type": "code",
   "execution_count": 53,
   "metadata": {},
   "outputs": [],
   "source": [
    "class MinStack:\n",
    "    \n",
    "    def __init__(self):\n",
    "        # do intialization if necessary\n",
    "        self.stack = []\n",
    "        self.min_num = [100000000]\n",
    "        self.min_index = 0;\n",
    "\n",
    "    \"\"\"\n",
    "    @param: number: An integer\n",
    "    @return: nothing\n",
    "    \"\"\"\n",
    "    def push(self, number):\n",
    "        # write your code here\n",
    "        self.stack.append(number)\n",
    "        if number <= self.min_num[self.min_index]:\n",
    "            self.min_num.append(number);\n",
    "            self.min_index += 1;\n",
    "            \n",
    "\n",
    "    \"\"\"\n",
    "    @return: An integer\n",
    "    \"\"\"\n",
    "    def pop(self):\n",
    "        # write your code here\n",
    "        num = self.stack.pop();\n",
    "        if num == self.min_num[self.min_index]:\n",
    "            self.min_num.pop();\n",
    "            self.min_index -= 1;\n",
    "        \n",
    "    \"\"\"\n",
    "    @return: An integer\n",
    "    \"\"\"\n",
    "    def min(self):\n",
    "        # write your code here\n",
    "        return self.min_num[self.min_index]"
   ]
  }
 ],
 "metadata": {
  "kernelspec": {
   "display_name": "Python 3",
   "language": "python",
   "name": "python3"
  },
  "language_info": {
   "codemirror_mode": {
    "name": "ipython",
    "version": 3
   },
   "file_extension": ".py",
   "mimetype": "text/x-python",
   "name": "python",
   "nbconvert_exporter": "python",
   "pygments_lexer": "ipython3",
   "version": "3.7.1"
  }
 },
 "nbformat": 4,
 "nbformat_minor": 2
}
