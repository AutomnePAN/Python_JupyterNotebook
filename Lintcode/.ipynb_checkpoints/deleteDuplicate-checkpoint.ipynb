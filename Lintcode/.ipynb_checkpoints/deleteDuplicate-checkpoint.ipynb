{
 "cells": [
  {
   "cell_type": "code",
   "execution_count": 1,
   "metadata": {},
   "outputs": [],
   "source": [
    "\"\"\"\n",
    "Definition of ListNode\n",
    "class ListNode(object):\n",
    "    def __init__(self, val, next=None):\n",
    "        self.val = val\n",
    "        self.next = next\n",
    "\"\"\"\n",
    "\n",
    "class Solution:\n",
    "    \"\"\"\n",
    "    @param head: head is the head of the linked list\n",
    "    @return: head of the linked list\n",
    "    \"\"\"\n",
    "    def deleteDuplicates(self, head):\n",
    "        # write your code here\n",
    "        if head == None:\n",
    "            return None;\n",
    "        if head.next == None:\n",
    "            return None;\n",
    "        \n",
    "        dummy_head = ListNode(None, head);\n",
    "        val, tail, cur = None, dummy_head, head;\n",
    "        while cur.next:\n",
    "            if cur.val == val:\n",
    "                cur = cur.next;\n",
    "                continue;\n",
    "            if cur.val == cur.next.val:\n",
    "                val = cur.val;\n",
    "                cur = cur.next;\n",
    "            else:\n",
    "                tail.next = cur;\n",
    "                tail = tail.next;\n",
    "                cur = cur.next;\n",
    "        if cur.val != val:\n",
    "            tail.next = cur\n",
    "            tail = tail.next\n",
    "        tail.next = None\n",
    "                \n",
    "        return dummy_head.next;"
   ]
  }
 ],
 "metadata": {
  "kernelspec": {
   "display_name": "Python 3",
   "language": "python",
   "name": "python3"
  },
  "language_info": {
   "codemirror_mode": {
    "name": "ipython",
    "version": 3
   },
   "file_extension": ".py",
   "mimetype": "text/x-python",
   "name": "python",
   "nbconvert_exporter": "python",
   "pygments_lexer": "ipython3",
   "version": "3.7.1"
  }
 },
 "nbformat": 4,
 "nbformat_minor": 2
}
