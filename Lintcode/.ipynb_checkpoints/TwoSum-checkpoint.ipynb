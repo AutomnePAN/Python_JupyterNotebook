{
 "cells": [
  {
   "cell_type": "code",
   "execution_count": 1,
   "metadata": {},
   "outputs": [
    {
     "ename": "IndentationError",
     "evalue": "unexpected indent (<ipython-input-1-12f95cf7b452>, line 48)",
     "output_type": "error",
     "traceback": [
      "\u001b[1;36m  File \u001b[1;32m\"<ipython-input-1-12f95cf7b452>\"\u001b[1;36m, line \u001b[1;32m48\u001b[0m\n\u001b[1;33m    for i in range(len(numbers)):\u001b[0m\n\u001b[1;37m    ^\u001b[0m\n\u001b[1;31mIndentationError\u001b[0m\u001b[1;31m:\u001b[0m unexpected indent\n"
     ]
    }
   ],
   "source": [
    "class Solution:\n",
    "    \"\"\"\n",
    "    @param numbers: Give an array\n",
    "    @param target: An integer\n",
    "    @return: Find all unique quadruplets in the array which gives the sum of zero\n",
    "    \"\"\"\n",
    "    def twoSum(self, numbers, target):\n",
    "        # write your code here\n",
    "        dict = {};\n",
    "        res = []\n",
    "        for i in range(len(numbers)):\n",
    "            # print(dict)\n",
    "            # print(numbers[i])\n",
    "            if (target - numbers[i]) in dict:\n",
    "                res.append([ numbers[i] ,target - numbers[i]]) \n",
    "            else:\n",
    "                dict[numbers[i]] = i\n",
    "        return res;\n",
    "    \n",
    "   \n",
    "    \n",
    "    def threeSum(self, numbers, target):\n",
    "        # write your code here\n",
    "        # set_n = set(numbers)\n",
    "        # numbers = list(set_n)\n",
    "        if numbers == []:\n",
    "            return []\n",
    "        Res = []\n",
    "        \n",
    "        for i in range(len(numbers)):\n",
    "            res = self.twoSum(numbers[i+1:], target - numbers[i])\n",
    "            # print(res)\n",
    "            if res != []:\n",
    "                for r in res:\n",
    "                    r = [numbers[i]] + r;\n",
    "                    # print(r)\n",
    "                    r = sorted(r);\n",
    "                    if r not in Res:\n",
    "                        Res.append(r);\n",
    "        return Res;\n",
    "    \n",
    "    \n",
    "    def fourSum(self, numbers, target):\n",
    "        # write your code here\n",
    "        if numbers == []:\n",
    "            return []\n",
    "        Res = []\n",
    "         for i in range(len(numbers)):\n",
    "            res = self.threeSum(numbers[i+1:], target - numbers[i])\n",
    "            print(res)\n",
    "            if res != []:\n",
    "                for r in res:\n",
    "                    r = [numbers[i]] + r;\n",
    "                    print(r)\n",
    "                    r = sorted(r);\n",
    "                    if r not in Res:\n",
    "                        Res.append(r);\n",
    "        return Res;\n",
    "        "
   ]
  },
  {
   "cell_type": "code",
   "execution_count": 9,
   "metadata": {},
   "outputs": [
    {
     "data": {
      "text/plain": [
       "8"
      ]
     },
     "execution_count": 9,
     "metadata": {},
     "output_type": "execute_result"
    }
   ],
   "source": [
    "pow(2,3)"
   ]
  },
  {
   "cell_type": "code",
   "execution_count": 10,
   "metadata": {},
   "outputs": [],
   "source": [
    "def N_sum(num, n):\n",
    "        n_sum = 0;\n",
    "        while(num > 0):\n",
    "            n_sum += pow((num % 10),n)\n",
    "            num = num // 10;\n",
    "        return n_sum"
   ]
  },
  {
   "cell_type": "code",
   "execution_count": 25,
   "metadata": {},
   "outputs": [],
   "source": [
    "class Solution:\n",
    "    \"\"\"\n",
    "    @param n: The number of digits\n",
    "    @return: All narcissistic numbers with n digits\n",
    "    \"\"\"\n",
    "    def N_sum(self, num, n):\n",
    "        n_sum = 0;\n",
    "        while(num > 0):\n",
    "            n_sum += pow((num % 10), n)\n",
    "            num = num // 10;\n",
    "        return n_sum\n",
    "            \n",
    "    \n",
    "    \n",
    "    def getNarcissisticNumbers(self, n):\n",
    "        # write your code here\n",
    "        res = []\n",
    "        for num in range(pow(10,n-1), pow(10,n)):\n",
    "#             print(num)\n",
    "            if num == self.N_sum(num, n):\n",
    "                res.append( num);\n",
    "        return res;\n",
    "                \n"
   ]
  },
  {
   "cell_type": "code",
   "execution_count": 26,
   "metadata": {},
   "outputs": [
    {
     "data": {
      "text/plain": [
       "[]"
      ]
     },
     "execution_count": 26,
     "metadata": {},
     "output_type": "execute_result"
    }
   ],
   "source": [
    "s = Solution()\n",
    "s.getNarcissisticNumbers(2)"
   ]
  },
  {
   "cell_type": "code",
   "execution_count": 2,
   "metadata": {},
   "outputs": [],
   "source": [
    "class Solution:\n",
    "    \"\"\"\n",
    "    @param A: An integer array\n",
    "    @param k: A positive integer (k <= length(A))\n",
    "    @param target: An integer\n",
    "    @return: An integer\n",
    "    \"\"\"\n",
    "    def kSum(self, A, k, target):\n",
    "        # write your code here\n",
    "        M = [[[0 for i in range(target + 1)] for j in range(k + 1) ] for k in range(len(A) + 1)]\n",
    "        M[0][0][0] = 1\n",
    "        \n",
    "        for i in range(1, len(A) + 1):\n",
    "            for j in range(1, k + 1):\n",
    "                for k in range(1, target + 1):\n",
    "                    if j - 1 >=0 and k - A[i-1] >=0:\n",
    "                        M[i][j][k] = M[i-1][j][k] + M[i-1][j-1][k - A[i-1]] \n",
    "                    else:\n",
    "                        M[i][j][k] = M[i-1][j][k]\n",
    "        \n",
    "        return M[n][k][target]"
   ]
  }
 ],
 "metadata": {
  "kernelspec": {
   "display_name": "Python (Tensorflow)",
   "language": "python",
   "name": "tensorflow"
  },
  "language_info": {
   "codemirror_mode": {
    "name": "ipython",
    "version": 3
   },
   "file_extension": ".py",
   "mimetype": "text/x-python",
   "name": "python",
   "nbconvert_exporter": "python",
   "pygments_lexer": "ipython3",
   "version": "3.6.8"
  }
 },
 "nbformat": 4,
 "nbformat_minor": 2
}
