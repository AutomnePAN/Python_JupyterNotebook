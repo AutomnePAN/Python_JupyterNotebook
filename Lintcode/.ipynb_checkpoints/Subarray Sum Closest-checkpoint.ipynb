{
 "cells": [
  {
   "cell_type": "code",
   "execution_count": 1,
   "metadata": {},
   "outputs": [],
   "source": [
    "class Solution:\n",
    "    \"\"\"\n",
    "    @param num: A list of integers\n",
    "    @return: An integer\n",
    "    \"\"\"\n",
    "    def longestConsecutive(self, num):\n",
    "        # write your code here\n",
    "        dict = {};\n",
    "        \n",
    "        for x in num:\n",
    "            dict[x] = 1;\n",
    "        \n",
    "        res = 1;\n",
    "        for x in num:\n",
    "            if x in dict:\n",
    "                current_len = 1;\n",
    "                del dict[x];\n",
    "                \n",
    "                l = x-1;\n",
    "                r = x+1;\n",
    "                \n",
    "                while l in dict:\n",
    "                    del dict[l];\n",
    "                    current_len+=1;\n",
    "                    l -= 1;\n",
    "                \n",
    "                while r in dict:\n",
    "                    del dict[r];\n",
    "                    current_len += 1;\n",
    "                    r += 1;\n",
    "                \n",
    "                if current_len > res:\n",
    "                    res = current_len;\n",
    "                \n",
    "        return res;"
   ]
  },
  {
   "cell_type": "code",
   "execution_count": null,
   "metadata": {},
   "outputs": [],
   "source": []
  }
 ],
 "metadata": {
  "kernelspec": {
   "display_name": "Python 3",
   "language": "python",
   "name": "python3"
  },
  "language_info": {
   "codemirror_mode": {
    "name": "ipython",
    "version": 3
   },
   "file_extension": ".py",
   "mimetype": "text/x-python",
   "name": "python",
   "nbconvert_exporter": "python",
   "pygments_lexer": "ipython3",
   "version": "3.7.1"
  }
 },
 "nbformat": 4,
 "nbformat_minor": 2
}
