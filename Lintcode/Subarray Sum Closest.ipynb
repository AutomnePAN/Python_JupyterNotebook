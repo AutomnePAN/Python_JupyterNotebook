{
 "cells": [
  {
   "cell_type": "code",
   "execution_count": 1,
   "metadata": {},
   "outputs": [],
   "source": [
    "class Solution:\n",
    "    \"\"\"\n",
    "    @param num: A list of integers\n",
    "    @return: An integer\n",
    "    \"\"\"\n",
    "    def longestConsecutive(self, num):\n",
    "        # write your code here\n",
    "        dict = {};\n",
    "        \n",
    "        for x in num:\n",
    "            dict[x] = 1;\n",
    "        \n",
    "        res = 1;\n",
    "        for x in num:\n",
    "            if x in dict:\n",
    "                current_len = 1;\n",
    "                del dict[x];\n",
    "                \n",
    "                l = x-1;\n",
    "                r = x+1;\n",
    "                \n",
    "                while l in dict:\n",
    "                    del dict[l];\n",
    "                    current_len+=1;\n",
    "                    l -= 1;\n",
    "                \n",
    "                while r in dict:\n",
    "                    del dict[r];\n",
    "                    current_len += 1;\n",
    "                    r += 1;\n",
    "                \n",
    "                if current_len > res:\n",
    "                    res = current_len;\n",
    "                \n",
    "        return res;"
   ]
  },
  {
   "cell_type": "code",
   "execution_count": 1,
   "metadata": {},
   "outputs": [],
   "source": [
    "class Solution:\n",
    "    \"\"\"\n",
    "    @param: nums: A list of integers\n",
    "    @return: A list of integers includes the index of the first number and the index of the last number\n",
    "    \"\"\"\n",
    "    def subarraySumClosest(self, nums):\n",
    "        # write your code here\n",
    "        n = len(nums)\n",
    "        \n",
    "        if n == 1:\n",
    "            return ([0,0])\n",
    "            \n",
    "        dict = {};\n",
    "        for i in range(n):\n",
    "            dict[i] = sum(nums[:i+1]);"
   ]
  },
  {
   "cell_type": "code",
   "execution_count": 3,
   "metadata": {},
   "outputs": [],
   "source": [
    "dict = {0:1, 1:3}"
   ]
  },
  {
   "cell_type": "code",
   "execution_count": 2,
   "metadata": {},
   "outputs": [
    {
     "ename": "SyntaxError",
     "evalue": "invalid syntax (<ipython-input-2-c3158fb6b533>, line 1)",
     "output_type": "error",
     "traceback": [
      "\u001b[1;36m  File \u001b[1;32m\"<ipython-input-2-c3158fb6b533>\"\u001b[1;36m, line \u001b[1;32m1\u001b[0m\n\u001b[1;33m    kill list\u001b[0m\n\u001b[1;37m            ^\u001b[0m\n\u001b[1;31mSyntaxError\u001b[0m\u001b[1;31m:\u001b[0m invalid syntax\n"
     ]
    }
   ],
   "source": [
    "kill list"
   ]
  },
  {
   "cell_type": "code",
   "execution_count": 4,
   "metadata": {},
   "outputs": [],
   "source": [
    "list_1 = list(dict.values())"
   ]
  },
  {
   "cell_type": "code",
   "execution_count": 8,
   "metadata": {},
   "outputs": [],
   "source": [
    "list.sort(list_1)"
   ]
  },
  {
   "cell_type": "code",
   "execution_count": 9,
   "metadata": {},
   "outputs": [
    {
     "data": {
      "text/plain": [
       "[1, 3]"
      ]
     },
     "execution_count": 9,
     "metadata": {},
     "output_type": "execute_result"
    }
   ],
   "source": [
    "list_1"
   ]
  },
  {
   "cell_type": "code",
   "execution_count": 22,
   "metadata": {},
   "outputs": [],
   "source": [
    "list_1 = [3,2,1]"
   ]
  },
  {
   "cell_type": "code",
   "execution_count": 24,
   "metadata": {},
   "outputs": [],
   "source": [
    "list_1.sort()"
   ]
  },
  {
   "cell_type": "code",
   "execution_count": 25,
   "metadata": {},
   "outputs": [
    {
     "data": {
      "text/plain": [
       "[1, 2, 3]"
      ]
     },
     "execution_count": 25,
     "metadata": {},
     "output_type": "execute_result"
    }
   ],
   "source": [
    "list_1"
   ]
  },
  {
   "cell_type": "code",
   "execution_count": 17,
   "metadata": {},
   "outputs": [
    {
     "data": {
      "text/plain": [
       "dict_keys([0, 1])"
      ]
     },
     "execution_count": 17,
     "metadata": {},
     "output_type": "execute_result"
    }
   ],
   "source": [
    "dict.keys()"
   ]
  },
  {
   "cell_type": "code",
   "execution_count": 26,
   "metadata": {},
   "outputs": [
    {
     "ename": "SyntaxError",
     "evalue": "invalid syntax (<ipython-input-26-689e028b03b1>, line 12)",
     "output_type": "error",
     "traceback": [
      "\u001b[1;36m  File \u001b[1;32m\"<ipython-input-26-689e028b03b1>\"\u001b[1;36m, line \u001b[1;32m12\u001b[0m\n\u001b[1;33m    while !(rest in recorder):\u001b[0m\n\u001b[1;37m          ^\u001b[0m\n\u001b[1;31mSyntaxError\u001b[0m\u001b[1;31m:\u001b[0m invalid syntax\n"
     ]
    }
   ],
   "source": [
    "class Solution:\n",
    "    \"\"\"\n",
    "    @param a: A 32bit integer\n",
    "    @param b: A 32bit integer\n",
    "    @param n: A 32bit integer\n",
    "    @return: An integer\n",
    "    \"\"\"\n",
    "    def fastPower(self, a, b, n):\n",
    "        # write your code here\n",
    "        recorder = [];\n",
    "        rest = a % b ;\n",
    "        while !(rest in recorder):\n",
    "            recorder.append(rest)\n",
    "            rest = ( rest * a ) % b;\n",
    "        \n",
    "        l = len(recorder);\n",
    "        \n",
    "        return recorder[ (n+1) % l]"
   ]
  }
 ],
 "metadata": {
  "kernelspec": {
   "display_name": "Python 3",
   "language": "python",
   "name": "python3"
  },
  "language_info": {
   "codemirror_mode": {
    "name": "ipython",
    "version": 3
   },
   "file_extension": ".py",
   "mimetype": "text/x-python",
   "name": "python",
   "nbconvert_exporter": "python",
   "pygments_lexer": "ipython3",
   "version": "3.7.1"
  }
 },
 "nbformat": 4,
 "nbformat_minor": 2
}
