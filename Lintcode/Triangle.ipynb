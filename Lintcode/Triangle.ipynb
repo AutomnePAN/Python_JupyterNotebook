{
 "cells": [
  {
   "cell_type": "code",
   "execution_count": 1,
   "metadata": {},
   "outputs": [],
   "source": [
    "\"\"\"\n",
    "Definition of ListNode\n",
    "class ListNode(object):\n",
    "\n",
    "    def __init__(self, val, next=None):\n",
    "        self.val = val\n",
    "        self.next = next\n",
    "\"\"\"\n",
    "class Solution:\n",
    "    \"\"\"\n",
    "    @param lists: a list of ListNode\n",
    "    @return: The head of one sorted list.\n",
    "    \"\"\"\n",
    "    def mergeKLists(self, lists):\n",
    "        # write your code here\n",
    "        if not lists:\n",
    "            return None;\n",
    "        while len(lists) > 1:\n",
    "            new_lists = []\n",
    "            for i in range(0, len(lists), 2):\n",
    "                if i+1 < len(lists):\n",
    "                    new_head = self.merge(lists[i], lists[i+1]);\n",
    "                else:\n",
    "                    new_head = lists[i]\n",
    "                new_lists.append(new_head)\n",
    "            lists = new_lists\n",
    "        return lists[0]\n",
    "        \n",
    "    def merge(self, head1, head2):\n",
    "        prehead = ListNode(0)\n",
    "        index = prehead\n",
    "        while head1 and head2:\n",
    "            if head1.val < head2.val:\n",
    "                index.next = ListNode(head1.val)\n",
    "                head1 = head1.next\n",
    "            else:\n",
    "                index.next = ListNode(head2.val)\n",
    "                head2 = head2.next\n",
    "            index = index.next\n",
    "        if head1:\n",
    "            index.next = head1\n",
    "        if head2:\n",
    "            index.next = head2\n",
    "        return prehead.next;"
   ]
  },
  {
   "cell_type": "code",
   "execution_count": 16,
   "metadata": {},
   "outputs": [],
   "source": [
    "class RandomListNode:\n",
    "    def __init__(self, x):\n",
    "        self.label = x\n",
    "        self.next = None\n",
    "        self.random = None\n",
    "\n",
    "\n",
    "class Solution:\n",
    "    # @param head: A RandomListNode\n",
    "    # @return: A RandomListNode\n",
    "    def copyRandomList(self, head):\n",
    "        # write your code here\n",
    "        dict = {}\n",
    "        dict[None] = None\n",
    "        if not head:\n",
    "            return None;\n",
    "        head_B = RandomListNode(head.label);\n",
    "        dict[head] = head_B\n",
    "        p_B = head_B\n",
    "        p_A = head.next;\n",
    "        while p_A != None:\n",
    "            p_B.next = RandomListNode(p_A.label)\n",
    "            p_B = p_B.next;\n",
    "            dict[p_A] = p_B;\n",
    "            p_A = p_A.next\n",
    "        p_A = head;\n",
    "        print(dict)\n",
    "        while p_A != None:\n",
    "            print(dict[p_A].label);\n",
    "            if p_A.random == None:\n",
    "                p_B.random = None;\n",
    "            else:\n",
    "                # print( p_A.random.label )\n",
    "                print(dict[p_A])\n",
    "                dict[p_A].random = dict[p_A.random];\n",
    "                \n",
    "            p_A = p_A.next;\n",
    "        return head_B;"
   ]
  },
  {
   "cell_type": "code",
   "execution_count": 17,
   "metadata": {},
   "outputs": [
    {
     "name": "stdout",
     "output_type": "stream",
     "text": [
      "2\n"
     ]
    }
   ],
   "source": [
    "dict = {}\n",
    "dict[1] = 2\n",
    "print(dict[1])"
   ]
  },
  {
   "cell_type": "code",
   "execution_count": 18,
   "metadata": {},
   "outputs": [],
   "source": [
    "head = RandomListNode(1)\n",
    "p1 = RandomListNode(2)\n",
    "head.next = p1\n",
    "head.random = p1\n",
    "p1.random = head"
   ]
  },
  {
   "cell_type": "code",
   "execution_count": 19,
   "metadata": {},
   "outputs": [],
   "source": [
    "s = Solution()\n"
   ]
  },
  {
   "cell_type": "code",
   "execution_count": 20,
   "metadata": {},
   "outputs": [
    {
     "name": "stdout",
     "output_type": "stream",
     "text": [
      "{None: None, <__main__.RandomListNode object at 0x000001C87B3E6B00>: <__main__.RandomListNode object at 0x000001C87B3E67B8>, <__main__.RandomListNode object at 0x000001C87B3E6898>: <__main__.RandomListNode object at 0x000001C87B3E6940>}\n",
      "1\n",
      "<__main__.RandomListNode object at 0x000001C87B3E67B8>\n",
      "2\n",
      "<__main__.RandomListNode object at 0x000001C87B3E6940>\n"
     ]
    },
    {
     "data": {
      "text/plain": [
       "<__main__.RandomListNode at 0x1c87b3e67b8>"
      ]
     },
     "execution_count": 20,
     "metadata": {},
     "output_type": "execute_result"
    }
   ],
   "source": [
    "s.copyRandomList(head)"
   ]
  },
  {
   "cell_type": "code",
   "execution_count": 1,
   "metadata": {},
   "outputs": [],
   "source": [
    "class Solution:\n",
    "    \"\"\"\n",
    "    @param s: A string\n",
    "    @return: An integer\n",
    "    \"\"\"\n",
    "    def minCut(self, s):\n",
    "        # write your code here\n",
    "        if len(s) <= 1:\n",
    "            return 0;\n",
    "        n = len(s);\n",
    "        is_Pal = [n*[False] for i in range(n)]\n",
    "        for l in range(1, n+1):\n",
    "            for i in range(0,n-l+1):\n",
    "                j = i + l - 1;\n",
    "                if l == 1:\n",
    "                    is_Pal[i][j] = True;\n",
    "                res = True;\n",
    "                for k in range(l):\n",
    "                    if s[i+k] != s[j-k]:\n",
    "                        res = False;\n",
    "                        break;\n",
    "                    is_Pal[i][j] = res;\n",
    "        \n",
    "        # dp records if s[i:j+1] is a palindrome;\n",
    "        \n",
    "        dp = n * [n];\n",
    "        for i in range(n):\n",
    "            if is_Pal[0][i]:\n",
    "                dp[i] = 1;\n",
    "                continue;\n",
    "            for j in range(1, i+1):\n",
    "                if is_Pal[j][i]:\n",
    "                    dp[i] = min(dp[j], dp[i-1]+1)\n",
    "                    \n",
    "        return dp[n-1]-1"
   ]
  }
 ],
 "metadata": {
  "kernelspec": {
   "display_name": "Python 3",
   "language": "python",
   "name": "python3"
  },
  "language_info": {
   "codemirror_mode": {
    "name": "ipython",
    "version": 3
   },
   "file_extension": ".py",
   "mimetype": "text/x-python",
   "name": "python",
   "nbconvert_exporter": "python",
   "pygments_lexer": "ipython3",
   "version": "3.7.1"
  }
 },
 "nbformat": 4,
 "nbformat_minor": 2
}
