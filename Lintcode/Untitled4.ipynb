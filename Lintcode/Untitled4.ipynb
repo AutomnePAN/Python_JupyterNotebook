{
 "cells": [
  {
   "cell_type": "code",
   "execution_count": 1,
   "metadata": {},
   "outputs": [],
   "source": [
    "def isPrime( n):\n",
    "        i = 2;\n",
    "        if n == 2:\n",
    "            return True;\n",
    "        res = True;\n",
    "        while i * i <= n:\n",
    "            if n % i == 0 :\n",
    "                return False;\n",
    "            i += 1;\n",
    "        return True;"
   ]
  },
  {
   "cell_type": "code",
   "execution_count": 6,
   "metadata": {},
   "outputs": [],
   "source": [
    "def intervalMinNumber(A, queries):\n",
    "    n = len(A)\n",
    "    for i in len(A):\n",
    "        "
   ]
  },
  {
   "cell_type": "code",
   "execution_count": 1,
   "metadata": {},
   "outputs": [],
   "source": [
    "class Solution:\n",
    "    \"\"\"\n",
    "    @param: string: An array of Char\n",
    "    @param: length: The true length of the string\n",
    "    @return: The true length of new string\n",
    "    \"\"\"\n",
    "    def replaceBlank(self, string, length):\n",
    "        # write your code here\n",
    "        ''.join(string)\n",
    "        str.replace(\" \", \"%20\");\n",
    "        print(string)\n",
    "        print(str)\n",
    "        return len(string)"
   ]
  },
  {
   "cell_type": "code",
   "execution_count": 3,
   "metadata": {},
   "outputs": [],
   "source": [
    "str = ''.join(['a','b','c','d']);"
   ]
  },
  {
   "cell_type": "code",
   "execution_count": 6,
   "metadata": {},
   "outputs": [
    {
     "data": {
      "text/plain": [
       "'abcd'"
      ]
     },
     "execution_count": 6,
     "metadata": {},
     "output_type": "execute_result"
    }
   ],
   "source": [
    "str"
   ]
  },
  {
   "cell_type": "code",
   "execution_count": 1,
   "metadata": {},
   "outputs": [],
   "source": [
    "class Solution:\n",
    "    \"\"\"\n",
    "    @param maze: the maze \n",
    "    @return: Can they reunion?\n",
    "    \"\"\"\n",
    "    def hasPath(self, maze, start, destination):\n",
    "        # write your code here\n",
    "        Q = [start]\n",
    "        n = len(maze)\n",
    "        m = len(maze[0])\n",
    "        dirs = ((0, 1), (0, -1), (1, 0), (-1, 0))\n",
    "        while Q:\n",
    "            i, j = Q.pop(0)\n",
    "            maze[i][j] = 2\n",
    "            if i == destination[0] and j == destination[1]:\n",
    "                return True\n",
    "            for x, y in dirs:\n",
    "                row = i + x\n",
    "                col = j + y\n",
    "                while 0 <= row < n and 0 <= col < m and maze[row][col] != 1:\n",
    "                    row += x\n",
    "                    col += y\n",
    "                row -= x\n",
    "                col -= y\n",
    "                if maze[row][col] == 0:\n",
    "                    Q.append([row, col])\n",
    "        \n",
    "        return False\n",
    "    \n",
    "    def findHer(self, maze):\n",
    "        # Write your code here\n",
    "        m = len(maze);\n",
    "        n = len(maze[0]);\n",
    "        maze_01 = [ [0 for i in range(n)] for j in range(m)];\n",
    "        for i in range(m):\n",
    "            for j in range(n):\n",
    "                if maze[i][j] == \"*\":\n",
    "                    maze_01[i][j] = 1;\n",
    "                if maze[i][j] == \"S\":\n",
    "                    start = [i,j];\n",
    "                if maze[i][j] == \"T\":\n",
    "                    destination = [i,j];\n",
    "        print(maze_01)\n",
    "        return self.hasPath(maze_01, start, destination);"
   ]
  }
 ],
 "metadata": {
  "kernelspec": {
   "display_name": "Python 3",
   "language": "python",
   "name": "python3"
  },
  "language_info": {
   "codemirror_mode": {
    "name": "ipython",
    "version": 3
   },
   "file_extension": ".py",
   "mimetype": "text/x-python",
   "name": "python",
   "nbconvert_exporter": "python",
   "pygments_lexer": "ipython3",
   "version": "3.7.1"
  }
 },
 "nbformat": 4,
 "nbformat_minor": 2
}
