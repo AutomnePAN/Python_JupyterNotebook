{
 "cells": [
  {
   "cell_type": "code",
   "execution_count": 1,
   "metadata": {},
   "outputs": [],
   "source": [
    "\"\"\"\n",
    "Definition of ListNode\n",
    "class ListNode(object):\n",
    "    def __init__(self, val, next=None):\n",
    "        self.val = val\n",
    "        self.next = next\n",
    "\"\"\"\n",
    "\n",
    "class Solution:\n",
    "    \"\"\"\n",
    "    @param head: head is the head of the linked list\n",
    "    @return: head of the linked list\n",
    "    \"\"\"\n",
    "    def deleteDuplicates(self, head):\n",
    "        # write your code here\n",
    "        if head == None:\n",
    "            return None;\n",
    "        if head.next == None:\n",
    "            return None;\n",
    "        \n",
    "        dummy_head = ListNode(None, head);\n",
    "        val, tail, cur = None, dummy_head, head;\n",
    "        while cur.next:\n",
    "            if cur.val == val:\n",
    "                cur = cur.next;\n",
    "                continue;\n",
    "            if cur.val == cur.next.val:\n",
    "                val = cur.val;\n",
    "                cur = cur.next;\n",
    "            else:\n",
    "                tail.next = cur;\n",
    "                tail = tail.next;\n",
    "                cur = cur.next;\n",
    "        if cur.val != val:\n",
    "            tail.next = cur\n",
    "            tail = tail.next\n",
    "        tail.next = None\n",
    "                \n",
    "        return dummy_head.next;"
   ]
  },
  {
   "cell_type": "code",
   "execution_count": 2,
   "metadata": {},
   "outputs": [],
   "source": [
    "class Solution:\n",
    "    \"\"\"\n",
    "    @param word1: A string\n",
    "    @param word2: A string\n",
    "    @return: The minimum number of steps.\n",
    "    \"\"\"\n",
    "    def minDistance(self, word1, word2):\n",
    "        # write your code here\n",
    "        m = len(word1)\n",
    "        n = len(word2)\n",
    "        \n",
    "        dp = [n*[0] for i in range(m)]\n",
    "        \n",
    "        ''' dp[i][j] represents the minDistance to transform word1[:i] to word2[:j]'''\n",
    "        \n",
    "        for i in range(m):\n",
    "            dp[i][0] = i;\n",
    "        for j in range(n):\n",
    "            dp[0][j] = j;\n",
    "        \n",
    "        for i in range(1,m):\n",
    "            for j in range(1,n):\n",
    "                if word1[i] == word2[j]:\n",
    "                    dp[i][j] = dp[i-1][j-1]\n",
    "                else:\n",
    "                    dp[i][j] = min(dp[i-1][j], dp[i][j-1], dp[i-1][j-1]) + 1;\n",
    "        return dp[m-1][n-1]\n"
   ]
  }
 ],
 "metadata": {
  "kernelspec": {
   "display_name": "Python 3",
   "language": "python",
   "name": "python3"
  },
  "language_info": {
   "codemirror_mode": {
    "name": "ipython",
    "version": 3
   },
   "file_extension": ".py",
   "mimetype": "text/x-python",
   "name": "python",
   "nbconvert_exporter": "python",
   "pygments_lexer": "ipython3",
   "version": "3.7.1"
  }
 },
 "nbformat": 4,
 "nbformat_minor": 2
}
