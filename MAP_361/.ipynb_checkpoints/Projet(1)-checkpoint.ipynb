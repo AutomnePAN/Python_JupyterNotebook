{
 "cells": [
  {
   "cell_type": "markdown",
   "metadata": {},
   "source": [
    "# 22 | Régressions Linéaires"
   ]
  },
  {
   "cell_type": "markdown",
   "metadata": {},
   "source": [
    "### Importer des modules utilisés"
   ]
  },
  {
   "cell_type": "code",
   "execution_count": 1,
   "metadata": {},
   "outputs": [],
   "source": [
    "import pandas as pd\n",
    "import numpy as np\n",
    "import scipy.stats as sps\n",
    "import matplotlib.pyplot as plt\n",
    "import math"
   ]
  },
  {
   "cell_type": "markdown",
   "metadata": {},
   "source": [
    "## 3 Résolution du problème des moindres carrés"
   ]
  },
  {
   "cell_type": "markdown",
   "metadata": {},
   "source": [
    " **s1**: Proposer et implémenter un algorithme de simulation de $Y_{obs}^n := (Y_{obs}(x_1),...,Y_{obs}(x_n)) $ lorsque les $(x_1,...,x_n)$ sont choisis de façon uniforme sur $[0,1]$"
   ]
  },
  {
   "cell_type": "markdown",
   "metadata": {},
   "source": [
    "**1.** Tout d'abord, or $Y_{obs}(x_i) = Y(x_i) + \\epsilon_i$ avec $Y(x_i) = \\beta_0 + \\beta_1 x$ \n",
    "\n",
    "$\\epsilon$ est un variable aléatoire $i.i.d$ de loi normale centrée de varience de $\\sigma^2$ \n",
    "\n",
    "Donc nous pouvons générer la suite de $x_i$ et $\\epsilon_i$ par scipy.stats"
   ]
  },
  {
   "cell_type": "code",
   "execution_count": 2,
   "metadata": {},
   "outputs": [],
   "source": [
    "#Variable Aléatoire de X et epsilon\n",
    "X = sps.uniform(0,1)\n",
    "Epsilon = sps.norm(0,0.1)"
   ]
  },
  {
   "cell_type": "code",
   "execution_count": 3,
   "metadata": {},
   "outputs": [],
   "source": [
    "# Générer les ensembles des x_i et epsilon_i par X et epsilon\n",
    "x = X.rvs(1000)\n",
    "epsilon = Epsilon.rvs(1000)"
   ]
  },
  {
   "cell_type": "code",
   "execution_count": 4,
   "metadata": {},
   "outputs": [],
   "source": [
    "def Simulation_Observation(b_0, b_1, n, sig):\n",
    "    ''' b_0 et b_1 sont des paramètres à trouver;'''\n",
    "    '''n est le nombre de observation'''\n",
    "    '''sig est racine de variance de epsilon'''\n",
    "    X = sps.uniform(0,1)\n",
    "    Epsilon = sps.norm(0,sig)\n",
    "    \n",
    "    x = np.array(X.rvs(n))\n",
    "#     print(\"x_shape:\", x.shape)\n",
    "    epsilon = np.array(Epsilon.rvs(n))\n",
    "    \n",
    "    y = b_0 + b_1 * x\n",
    "    \n",
    "    y_obs = y + epsilon\n",
    "#     print(\"y_shape:\",y_obs.shape)\n",
    "    return (x, y_obs, epsilon)"
   ]
  },
  {
   "cell_type": "code",
   "execution_count": 5,
   "metadata": {
    "scrolled": true
   },
   "outputs": [
    {
     "data": {
      "text/plain": [
       "Text(0, 0.5, 'y_obs')"
      ]
     },
     "execution_count": 5,
     "metadata": {},
     "output_type": "execute_result"
    },
    {
     "data": {
      "image/png": "[encoded data removed]",
      "text/plain": [
       "<Figure size 432x288 with 1 Axes>"
      ]
     },
     "metadata": {
      "needs_background": "light"
     },
     "output_type": "display_data"
    }
   ],
   "source": [
    "#Illustrer les résultats:\n",
    "x, y_obs,e = Simulation_Observation(1,1,50,0.1)\n",
    "plt.scatter(x,y_obs)\n",
    "plt.xlabel('x')\n",
    "plt.ylabel('y_obs')"
   ]
  },
  {
   "cell_type": "markdown",
   "metadata": {},
   "source": [
    "**T1.** On précisera $X^n$ et $\\beta$:\n",
    "$$ X^n = \\left[\\begin{matrix}1 & x_0 \\cr 1 & x_1 \\cr ... & ... \\cr 1 & x_n\\end{matrix}\\right]$$\n",
    "\n",
    "$$ \\beta = \\left[\\begin{matrix}\\beta_0 \\cr \\beta_1\\end{matrix}\\right]$$"
   ]
  },
  {
   "cell_type": "markdown",
   "metadata": {},
   "source": [
    "**T2.** On veut minimiser $\\lVert Y^n_{obs} - X^{n}\\beta\\rVert ^2$ Or\n",
    "$$ E_{\\beta} := \\lVert Y^n_{obs} - X^{n}\\beta\\rVert ^2 = (Y^n_{obs} - X^{n}\\beta\\ )^T (Y^n_{obs} - X^{n}\\beta\\ )$$\n",
    "On dérive cette fonction par rapport au $\\beta$:\n",
    "\n",
    "$$ \\dfrac{d E_{\\beta}}{d \\beta} = 2 X^{nT} (X^n\\beta - Y_{obs}^n )$$\n",
    "Supposons que $(X^n)^T X^n$ est inversible, alors il existe une $\\hat \\beta$ évident tel que la dérivé s'annule:\n",
    "\n",
    "$$\\hat \\beta = ((X^n)^T X^n)^{-1}(X^{n})^T Y^n_{obs} $$"
   ]
  },
  {
   "cell_type": "markdown",
   "metadata": {},
   "source": [
    "**T3.** Or on a $$ Y_{obs}^n = Y^n + \\epsilon^n$$ avec  $$\\epsilon^n = \\left[\\begin{matrix}\\epsilon_0 \\cr \\epsilon_1 \\cr ...\\end{matrix}\\right]$$\n",
    "Donc $$\\hat \\beta = ((X^n)^T X^n)^{-1}(X^{n})^T Y^n_{obs} = ((X^n)^T X^n)^{-1}(X^{n})^T (Y^n + \\epsilon^n)$$\n",
    "\n",
    "$$\\hat \\beta = ((X^n)^T X^n)^{-1}(X^{n})^T (X^n\\beta + \\epsilon^n)$$\n",
    "\n",
    "$$\\hat \\beta = \\beta + ((X^n)^T X^n)^{-1}(X^{n})^T\\epsilon^n$$\n",
    "    Donc comme $\\epsilon^n$ suit un loi de norme centré et $X$ et $\\epsilon$ sont indépendants, donc $$\\mathbb{E}( ((X^n)^T X^n)^{-1}(X^{n})^T\\epsilon^n ) = \\mathbb{E}(((X^n)^T X^n)^{-1}(X^{n})^T) \\times \\mathbb{E}(\\epsilon^n) = 0$$ \n",
    "    Donc $$ \\mathbb{E} (\\hat \\beta) = \\beta$$\n",
    "    \n",
    " Par le fait que: \n",
    "$$ (X^n)^T X^n = \\left[\\begin{matrix}n & \\sum x_i \\cr \\sum x_i & \\sum (x_i)^2 \\end{matrix}\\right] $$\n",
    "Donc \n",
    "$$ ((X^n)^T X^n )^{-1} = \\dfrac{1}{det((X^n)^T X^n)}\\left[\\begin{matrix} \\sum (x_i)^2 & -\\sum x_i \\cr -\\sum x_i & n \\end{matrix}\\right] $$"
   ]
  },
  {
   "cell_type": "markdown",
   "metadata": {},
   "source": [
    "**T4.** $$\\hat \\beta - \\beta = ((X^n)^T X^n)^{-1}(X^{n})^T\\epsilon^n$$\n",
    "Donc \n",
    "$$(\\hat \\beta - \\beta)^T = (\\epsilon^n)^T (((X^n)^T X^n)^{-1}(X^{n})^T)^T$$\n",
    "\n",
    "$$(\\hat \\beta - \\beta)^T = (\\epsilon^n)^T X^n (((X^n)^T X^n)^{-1})^T$$\n",
    "\n",
    "On note $$\\Gamma: \\tilde{\\beta} \\mapsto (\\hat \\beta - \\tilde{\\beta})^T ((X^n)^T X^n) (\\hat \\beta - \\tilde{\\beta})$$\n",
    "\n",
    "Alors $\\Gamma(\\beta) $ ce que l'on veut calculer.\n",
    "\n",
    "$$\\Gamma(\\beta) = (\\hat \\beta - \\beta)^T ((X^n)^T X^n) (\\hat \\beta - \\beta)  = (\\epsilon^n)^T X^n (((X^n)^T X^n)^{-1})^T ((X^n)^T X^n) ((X^n)^T X^n)^{-1}(X^{n})^T\\epsilon^n$$\n",
    "\n",
    "Or on sait que $((X^n)^T X^n)^{-1}$ est symétrique par le calcul avant, donc $((X^n)^T X^n)^{-1}=(((X^n)^T X^n)^{-1})^T$\n",
    "Donc\n",
    "\n",
    "$$ \\ \\ \\ \\Gamma(\\beta)  = (\\epsilon^n)^T X^n ((X^n)^T X^n)^{-1}(X^{n})^T\\epsilon^n$$\n",
    "\n",
    "On remplace $((X^n)^T X^n)^{-1} $ par $\\dfrac{1}{det((X^n)^T X^n)}\\left[\\begin{matrix} \\sum (x_i)^2 & -\\sum x_i \\cr -\\sum x_i & n \\end{matrix}\\right]$\n",
    "\n",
    "On note $M = X^n ((X^n)^T X^n)^{-1}(X^{n})^T$ \n",
    "\n",
    "$$ det((X^n)^T X^n)M[i,j] = \\sum x_i^2 - (x_i + x_j) \\sum x_i + n x_i x_j $$\n",
    "\n",
    "$$ \\Gamma = (\\epsilon_n)^T M \\epsilon_n$$\n",
    "\n",
    "$$ \\Gamma(\\beta) = \\frac{1}{n} (\\sum \\epsilon)^2 + \\dfrac{ (\\dfrac{\\sum x_i \\epsilon_i}{n} - \\dfrac{\\sum x_i}{n} \\dfrac{\\sum \\epsilon_i}{n})^2}{ \\dfrac{\\sum x_i^2}{n} -(\\dfrac{\\sum x_i}{n})^2 }$$\n",
    "\n",
    "$\\frac{1}{\\sqrt n}\\sum \\epsilon $ suit la loi normale de variance $\\sigma $\n",
    "\n",
    "D'après la loi forte de grand nombre $\\dfrac{\\sum x_i \\epsilon_i}{n} - \\dfrac{\\sum x_i}{n} \\dfrac{\\sum \\epsilon_i}{n}$ converge presque partout vers $\\mathbb{E}(X \\epsilon) - \\mathbb{E}(X)\\mathbb{E}(\\epsilon) = Cov(X, \\epsilon) = 0$\n",
    "\n",
    "\n",
    "**Donc $\\Gamma$ suit une loi de chi-square distribution $\\chi_2^2$**\n",
    "\n",
    "On revient à la définition de quantile à l'ordre r\n",
    "\n",
    "$q^{\\chi_2^2}(1-\\alpha)$ est un point qui sépare les deux partie. Donc $\\mathbb{P}(\\Gamma \\leq q^{\\chi_2^2}(1-\\alpha) ) = 1 - \\alpha$\n",
    "\n",
    "**Donc on a $\\mathbb{P}(\\beta \\in \\epsilon_{\\alpha, n} ) = 1 - \\alpha$**\n",
    "\n",
    "\n",
    "\n",
    "\n"
   ]
  },
  {
   "cell_type": "markdown",
   "metadata": {},
   "source": [
    "### S2.\n",
    "\n",
    "Tout d'abord, nous cherchons la quantile de $\\alpha = 0.05$. \n",
    "\n",
    "$i.e.$ Si $F$ est la fonction de répartiton de $\\chi_2^2$ On cherche $F^{-1}(0.95)$"
   ]
  },
  {
   "cell_type": "code",
   "execution_count": 7,
   "metadata": {},
   "outputs": [],
   "source": [
    "def quantile(alpha):\n",
    "    \n",
    "    '''Chercher la valeur approximate de quantile(alpha)'''\n",
    "    # Definition de loi\n",
    "    Chi_2 = sps.chi2(2)\n",
    "    # Fonction de répartition\n",
    "    F = Chi_2.cdf\n",
    "    for i in range(10000):\n",
    "        num = i/1000\n",
    "        num_avant = (i-1)/1000\n",
    "        if F(num_avant) < (1-alpha) and F(num) > (1-alpha):\n",
    "            return num"
   ]
  },
  {
   "cell_type": "markdown",
   "metadata": {},
   "source": [
    "**test de function** avec $\\alpha = 0.05$ "
   ]
  },
  {
   "cell_type": "code",
   "execution_count": 8,
   "metadata": {},
   "outputs": [
    {
     "data": {
      "text/plain": [
       "5.992"
      ]
     },
     "execution_count": 8,
     "metadata": {},
     "output_type": "execute_result"
    }
   ],
   "source": [
    "quantile(0.05)"
   ]
  },
  {
   "cell_type": "markdown",
   "metadata": {},
   "source": [
    "**Calcule de la distribution de $\\Gamma$**"
   ]
  },
  {
   "cell_type": "code",
   "execution_count": 9,
   "metadata": {},
   "outputs": [],
   "source": [
    "def Gamma(b_t0,b_t1, b0,b1, n, sigma):\n",
    "    '''Calculer la valeur distribution x et epsilon'''\n",
    "    '''b = (b0, b1)'''\n",
    "    '''b_t = (b_t0, b_t1)'''\n",
    "    '''On calcule Gamma de b_t dans l'ellpsoide de b ''' \n",
    "    x, y_obs, epsilon = Simulation_Observation(b0,b1,n,sigma)\n",
    "    x = np.vstack((np.ones(len(x)), x)).transpose()\n",
    "    b = np.matrix([[b0],[b1]])\n",
    "    b_t = np.matrix([[b_t0],[b_t1]])\n",
    "    \n",
    "    M = np.mat(np.dot(x.transpose(), x))\n",
    "    # la taile de M est 2 * 2\n",
    "    \n",
    "    #calcul beta chapeau\n",
    "    M_inv = M.I\n",
    "    y_obs = np.matrix(y_obs)\n",
    "    b_c = np.dot( np.dot(M_inv, x.transpose()), y_obs.transpose() )\n",
    "\n",
    "    #calcul de Gamma\n",
    "    G = 1/sigma * np.dot(np.dot( (b_c - b_t).transpose(), M),(b_c - b_t) )\n",
    "    G = np.array(G)\n",
    "    return G[0][0]"
   ]
  },
  {
   "cell_type": "markdown",
   "metadata": {},
   "source": [
    "### Cherche du ($\\beta^T_0$, $\\beta^T_1$) tel que dans l'ellipsoide"
   ]
  },
  {
   "cell_type": "code",
   "execution_count": 10,
   "metadata": {},
   "outputs": [],
   "source": [
    "def check_ellipsoid(b_t0, b_t1, b0, b1,sigma=0.1, alpha=0.05, n=1000):\n",
    "    '''Tester si b0, b1 est dans l'ellipsoid  '''\n",
    "    q = quantile(alpha)\n",
    "    G = Gamma(b_t0, b_t1, b0,b1,n,sigma)\n",
    "    if G <= q:\n",
    "        return True\n",
    "    else:\n",
    "        return False"
   ]
  },
  {
   "cell_type": "markdown",
   "metadata": {},
   "source": [
    "Maintenant notre but est de trouver les $\\beta^{t}$s tels que $\\Gamma(\\beta^{t}) =\\leq q^{\\chi^2_2}(1-\\alpha)$\n",
    "$i.e.$ On cherche les points de $\\beta^T$ tels que `check_ellipsoid` return `True`"
   ]
  },
  {
   "cell_type": "markdown",
   "metadata": {},
   "source": [
    "### Quelques calculs maths utiles"
   ]
  },
  {
   "cell_type": "markdown",
   "metadata": {},
   "source": [
    "$\\Gamma(\\beta^t) = (\\hat \\beta - \\beta^t)^T ((X^n)^T X^n) (\\hat \\beta - \\beta^t)$ si on note $\\hat \\beta - \\beta^t = [a,b]$\n",
    "\n",
    "Alors \n",
    "$$ \\Gamma(\\beta^t) = [a,b] ((X^n)^T X^n) [a,b]^T$$\n",
    "\n",
    "$$ \\Gamma(\\beta^t) = n a^2 + 2 (\\sum x_i) ab + \\sum x_i^2 b^2 $$\n",
    "\n",
    "Alors on cherche $(a,b)$ tels que: \n",
    "\n",
    "$$ n a^2 + 2 (\\sum x_i) ab + \\sum x_i^2 b^2 \\leq q^{\\chi^2_2}(1-\\alpha) = 5.992 $$\n",
    "\n",
    "$$ a^2 + 2 \\dfrac{(\\sum x_i)}{n} ab + \\dfrac{\\sum x_i^2 }{n}b^2 - \\dfrac{5.992}{n} \\leq 0 $$\n",
    "\n",
    "Avec tous les $x_i$ fixées c'est une inégalité ellipse"
   ]
  },
  {
   "cell_type": "markdown",
   "metadata": {},
   "source": [
    "### Illustration de l'ellipse"
   ]
  },
  {
   "cell_type": "code",
   "execution_count": 11,
   "metadata": {},
   "outputs": [],
   "source": [
    "def draw_ellipse(b0,b1,n,sigma=0.1,alpha=0.05):\n",
    "    \n",
    "    '''Pour b = (b0, b1), sigma = 0.1 On cherche à dessiner la ellipse: '''\n",
    "    x, y_obs, epsilon = Simulation_Observation(b0,b1,n,sigma)\n",
    "    \n",
    "    x = np.vstack((np.ones(len(x)), x)).transpose()\n",
    "    b = np.matrix([[b0],[b1]])\n",
    "    \n",
    "    M = np.mat(np.dot(x.transpose(), x))\n",
    "    M_inv = M.I\n",
    "        \n",
    "    # calculer b_chapeau\n",
    "    y_obs = np.matrix(y_obs)\n",
    "    b_c = np.dot( np.dot(M_inv, x.transpose()), y_obs.transpose() )\n",
    "    b_c = np.array(b_c)\n",
    "    \n",
    "    b_c0 = b_c[0][0]\n",
    "    b_c1 = b_c[1][0]\n",
    "    #calculer sum(x_i)\n",
    "    S_x = sum(x)[1]\n",
    "    #calculer sum(x_i^2)\n",
    "    S_x_2 = sum(x*x)[1]\n",
    "    #Illustrer l'ellipse\n",
    "    \n",
    "    delta = 0.025\n",
    "    a = np.arange(-3.0, 3.0, delta)\n",
    "    b = np.arange(-3.0, 3.0, delta)\n",
    "    \n",
    "    A, B = np.meshgrid(a, b)\n",
    "    C = (A - b_c0)**2 + 2 * S_x/n *(A-b_c0)*(B-b_c1) + S_x_2/n * (B-b_c1)**2 - 5.992/n\n",
    "    fig, ax = plt.subplots()\n",
    "    CS = ax.contour(A, B, C,0)\n",
    "    ax.clabel(CS, inline=1, fontsize=10)\n",
    "    ax.set_title('ellipsoide de confiance')\n",
    "    plt.xlabel(\"beta_0\")\n",
    "    plt.ylabel(\"beta_1\")\n",
    "    plt.grid( color='lightgrey')\n",
    "    "
   ]
  },
  {
   "cell_type": "markdown",
   "metadata": {},
   "source": [
    "### $\\beta = (0,1)$ avec $n = 100$"
   ]
  },
  {
   "cell_type": "code",
   "execution_count": 12,
   "metadata": {
    "scrolled": true
   },
   "outputs": [
    {
     "data": {
      "image/png": "[encoded data removed]",
      "text/plain": [
       "<Figure size 432x288 with 1 Axes>"
      ]
     },
     "metadata": {
      "needs_background": "light"
     },
     "output_type": "display_data"
    }
   ],
   "source": [
    "draw_ellipse(0,1,100)"
   ]
  },
  {
   "cell_type": "markdown",
   "metadata": {},
   "source": [
    "### $\\beta = (1,0)$ avec $n = 100$"
   ]
  },
  {
   "cell_type": "code",
   "execution_count": 13,
   "metadata": {},
   "outputs": [
    {
     "data": {
      "image/png": "[encoded data removed]",
      "text/plain": [
       "<Figure size 432x288 with 1 Axes>"
      ]
     },
     "metadata": {
      "needs_background": "light"
     },
     "output_type": "display_data"
    }
   ],
   "source": [
    "draw_ellipse(1,0,100)"
   ]
  },
  {
   "cell_type": "markdown",
   "metadata": {},
   "source": [
    "### $\\beta = (0,1)$ avec $n = 100$"
   ]
  },
  {
   "cell_type": "code",
   "execution_count": 14,
   "metadata": {},
   "outputs": [
    {
     "data": {
      "image/png": "[encoded data removed]",
      "text/plain": [
       "<Figure size 432x288 with 1 Axes>"
      ]
     },
     "metadata": {
      "needs_background": "light"
     },
     "output_type": "display_data"
    }
   ],
   "source": [
    "draw_ellipse(1,2,100)"
   ]
  },
  {
   "cell_type": "markdown",
   "metadata": {},
   "source": [
    "On va essayer avec different de n:\n",
    "### $\\beta = (0,1)$ avec 500 ,1000, 10000"
   ]
  },
  {
   "cell_type": "code",
   "execution_count": 15,
   "metadata": {},
   "outputs": [
    {
     "data": {
      "image/png": "[encoded data removed]",
      "text/plain": [
       "<Figure size 432x288 with 1 Axes>"
      ]
     },
     "metadata": {
      "needs_background": "light"
     },
     "output_type": "display_data"
    },
    {
     "data": {
      "image/png": "[encoded data removed]",
      "text/plain": [
       "<Figure size 432x288 with 1 Axes>"
      ]
     },
     "metadata": {
      "needs_background": "light"
     },
     "output_type": "display_data"
    },
    {
     "data": {
      "image/png": "[encoded data removed]",
      "text/plain": [
       "<Figure size 432x288 with 1 Axes>"
      ]
     },
     "metadata": {
      "needs_background": "light"
     },
     "output_type": "display_data"
    },
    {
     "data": {
      "image/png": "[encoded data removed]",
      "text/plain": [
       "<Figure size 432x288 with 1 Axes>"
      ]
     },
     "metadata": {
      "needs_background": "light"
     },
     "output_type": "display_data"
    }
   ],
   "source": [
    "draw_ellipse(0,1,500)\n",
    "draw_ellipse(0,1,1000)\n",
    "draw_ellipse(0,1,5000)\n",
    "draw_ellipse(0,1,10000)"
   ]
  },
  {
   "cell_type": "markdown",
   "metadata": {},
   "source": [
    "**On constate que la taille de l'ellipsoide devient de plus en plus petit avec la croissance de n**\n",
    "\n",
    "**Explication mathématiques: **\n",
    "\n",
    "On a l'équation d'ellipse $$ a^2 + 2 \\dfrac{(\\sum x_i)}{n} ab + \\dfrac{\\sum x_i^2 }{n}b^2 - \\dfrac{5.992}{n} \\leq 0 $$\n",
    "\n",
    "D'après la loi forte de grand nombre $ \\dfrac{(\\sum x_i)}{n}$ converge presque surement vers $\\mathbb{E}(X) = \\dfrac{1}{2}$;  $\\dfrac{\\sum x_i^2 }{n}$  converge presque surement vers $\\mathbb{E}(X^2) = \\dfrac{1}{3}$\n",
    "\n",
    "Donc quand n est assez grand, pour presque surement $\\omega$, l'équation est équivalent à \n",
    "\n",
    "$$ a^2 + ab + 1/3b^2 - \\dfrac{5.992}{n} \\leq 0 $$\n",
    "\n",
    "C'est évident que le $n$ est plus grand, la région de l'ellipse est plus petit"
   ]
  },
  {
   "cell_type": "markdown",
   "metadata": {},
   "source": [
    "\n",
    "\n",
    "\n",
    "## 4 Convergence de l'estimateur"
   ]
  },
  {
   "cell_type": "markdown",
   "metadata": {},
   "source": [
    "### S3. Simulation de éléments de $Y^n_{obs}$\n",
    "\n",
    "Pour réutiliser les $x_i$ lorsque l'on change $n$, on va modifier la suite $(x_i)_{n\\in N}$ à statique.\n",
    "\n",
    "On va créer une classe pour stocker tous les valeurs de $x_i$ et $\\epsilon_i$"
   ]
  },
  {
   "cell_type": "code",
   "execution_count": 16,
   "metadata": {},
   "outputs": [],
   "source": [
    "class X_stocker(object):\n",
    "    def __init__(self, sigma, n):\n",
    "        self.X_dis = sps.uniform(0,1)\n",
    "        self.Epsilon_dis = sps.norm(0,sigma)\n",
    "        self.x = self.X_dis.rvs(n)\n",
    "        self.epsilon = self.Epsilon_dis.rvs(n)\n",
    "        self.size = n;\n",
    "        \n",
    "        \n",
    "    def get_X_n(self, n):\n",
    "        if n > self.size:\n",
    "            self.add_point(n)\n",
    "        return self.x[:n]\n",
    "    \n",
    "    \n",
    "    def get_Y_obs(self,b_0, b_1, n):\n",
    "        # si n < size, on ajoute des points de x\n",
    "        if n > self.size:\n",
    "            self.add_point(n)\n",
    "        x_1 = self.x[:n]\n",
    "        e_1 = self.epsilon[:n]\n",
    "        \n",
    "        y = b_0 + b_1 * x_1\n",
    "        y_obs = y + e_1\n",
    "        return y_obs;\n",
    "            \n",
    "        \n",
    "    def add_point(self, m):\n",
    "        '''Ajouter des POINTS DANS LA SUITE DE x_i'''\n",
    "        '''m is the size of the suite après ajout'''\n",
    "        \n",
    "        if m <= self.size:\n",
    "            print(\"la taille de suite finale doit être plus grande que la taille initiale\")\n",
    "            return;\n",
    "        x_a = self.X_dis.rvs(m-self.size)\n",
    "        epsilon_a = self.Epsilon_dis.rvs(m-self.size)\n",
    "        self.x = np.append(self.x, x_a)\n",
    "        self.epsilon = np.append(self.epsilon , epsilon_a)\n",
    "        self.size = m"
   ]
  },
  {
   "cell_type": "code",
   "execution_count": 17,
   "metadata": {},
   "outputs": [],
   "source": [
    "# Création d'une instance de X_stocker\n",
    "stocker = X_stocker(0.1, 10)\n",
    "y_obs = stocker.get_Y_obs(1,1,5)"
   ]
  },
  {
   "cell_type": "code",
   "execution_count": 18,
   "metadata": {
    "scrolled": true
   },
   "outputs": [],
   "source": [
    "def draw_x_and_y(stocker,b_0,b_1, n):\n",
    "    if n > stocker.size:\n",
    "        stocker.add_point(n)\n",
    "    x = stocker.x[:n]\n",
    "    plt.scatter(x, stocker.get_Y_obs(b_0,b_1,n))\n",
    "    plt.xlabel('x')\n",
    "    plt.ylabel('y_obs')"
   ]
  },
  {
   "cell_type": "code",
   "execution_count": 19,
   "metadata": {},
   "outputs": [
    {
     "data": {
      "image/png": "[encoded data removed]",
      "text/plain": [
       "<Figure size 432x288 with 1 Axes>"
      ]
     },
     "metadata": {
      "needs_background": "light"
     },
     "output_type": "display_data"
    }
   ],
   "source": [
    "draw_x_and_y(stocker, 1,1,10)"
   ]
  },
  {
   "cell_type": "code",
   "execution_count": 20,
   "metadata": {},
   "outputs": [
    {
     "data": {
      "image/png": "[encoded data removed]",
      "text/plain": [
       "<Figure size 432x288 with 1 Axes>"
      ]
     },
     "metadata": {
      "needs_background": "light"
     },
     "output_type": "display_data"
    }
   ],
   "source": [
    "#On ajoute 10 points\n",
    "draw_x_and_y(stocker, 1,1, 20)"
   ]
  },
  {
   "cell_type": "markdown",
   "metadata": {},
   "source": [
    "**On constate que les premiers 10 points sont réutilisés**"
   ]
  },
  {
   "cell_type": "markdown",
   "metadata": {},
   "source": [
    "### T5. Montrons par la loi forte de grand nombre \n",
    "\n",
    "Par le calcul précédent\n",
    "$$ (X^n)^T X^n = \\left[\\begin{matrix}n & \\sum x_i \\cr \\sum x_i & \\sum (x_i)^2 \\end{matrix}\\right] $$\n",
    "\n",
    "Or chaque $x_i$ suit la loi uniforme de $[0,1]$\n",
    "\n",
    "On utilise la loi forte de grand nombre:\n",
    "\n",
    "$ \\dfrac{(\\sum_{i=0}^n x_i)}{n}$ converge presque sûrement vers $\\mathbb{E}(X)$\n",
    "\n",
    "$ \\dfrac{(\\sum_{i=0}^n x_i^2)}{n}$ converge presque sûrement vers $\\mathbb{E}(X^2)$\n",
    "\n",
    "En utilisant la propriété de la loi uniforme, $\\mathbb{E}(X) = \\dfrac{1+0}{2} = \\dfrac{1}{2}$\n",
    "\n",
    "$\\mathbb{E}(X^2) = \\int_0^1 x^2 dx = \\dfrac{1}{3}$\n",
    "\n",
    "Donc on a presque sûrement: \n",
    "\n",
    "$$\\lim_{n \\to \\inf} \\dfrac{1}{n} (X^n)^T X^n = \\left[\\begin{matrix}1 & \\sum_0^n x_i/n \\cr \\sum_0^n x_i/n & \\sum_0^n (x_i)^2/n \\end{matrix}\\right] = \\left[\\begin{matrix}1 & 1/2 \\cr 1/2 & 1/3 \\end{matrix}\\right]$$\n",
    "\n",
    "**Maintenant on revient au calcul de l'ellipsoide de confiance**\n",
    "\n",
    "$$ n a^2 + 2 (\\sum x_i) ab + \\sum x_i^2 b^2 \\leq q^{\\chi^2_2}(1-\\alpha) \\leq 0$$\n",
    "\n",
    "Avec $(a,b) = \\hat\\beta^n - \\beta$\n",
    "\n",
    "Alors quand n tend vers infinie, elle est équivalente presque sûrement à:\n",
    "\n",
    "$$ n( a^2 + 2 \\dfrac{1}{2} ab + \\dfrac{1}{3} b^2 ) \\leq \\sigma q^{\\chi^2_2}(1-\\alpha)$$\n",
    "\n",
    "$$ a^2 +  ab + \\dfrac{1}{3} b^2 \\leq \\sigma q^{\\chi^2_2}(1-\\alpha)/n $$\n",
    "\n",
    "$$ (a+\\dfrac{b}{2})^2 + \\dfrac{1}{12} b^2 \\leq \\sigma q^{\\chi^2_2}(1-\\alpha)/n $$\n",
    "\n",
    "Soit $\\alpha>0$, quand $n \\to \\inf$, $\\sigma q^{\\chi^2_2}(1-\\alpha)/n \\to 0$ ,donc $(a+\\dfrac{b}{2})^2 + \\dfrac{1}{12} b^2 \\to 0$\n",
    "\n",
    "Donc $b \\to 0, a \\to -b/2 = 0 $ C'est-à-dire, $\\hat\\beta^n \\to \\beta$\n",
    "\n",
    "Donc presque sûrement, $\\mathbb{P}(\\lim_{n \\to inf} \\hat\\beta^n = \\beta) = 1$"
   ]
  },
  {
   "cell_type": "code",
   "execution_count": 21,
   "metadata": {},
   "outputs": [],
   "source": [
    "def Distance_b_and_b_hat(stocker, b0, b1, sigma, n):\n",
    "    \n",
    "    b = np.array([b0,b1])\n",
    "    x = stocker.get_X_n(n)\n",
    "    x = np.vstack((np.ones(len(x)), x)).transpose()\n",
    "    M = np.mat(np.dot(x.transpose(), x))\n",
    "    M_inv = M.I\n",
    "        \n",
    "    # calculer b_chapeau\n",
    "    \n",
    "    y_obs = np.matrix(stocker.get_Y_obs(b0,b1,n))\n",
    "    \n",
    "    #calcul beta chapeau\n",
    "    M_inv = M.I\n",
    "    y_obs = np.matrix(y_obs)\n",
    "    b_c = np.dot( np.dot(M_inv, x.transpose()), y_obs.transpose() )\n",
    "    b_c = np.array(b_c)\n",
    "    return ( (b_c[0]-b0)[0], (b_c[1]-b1)[0] )"
   ]
  },
  {
   "cell_type": "code",
   "execution_count": 22,
   "metadata": {},
   "outputs": [
    {
     "data": {
      "text/plain": [
       "(-0.022621913111404046, 0.0627497742485601)"
      ]
     },
     "execution_count": 22,
     "metadata": {},
     "output_type": "execute_result"
    }
   ],
   "source": [
    "Distance_b_and_b_hat(stocker, 1,1, 0.1, 100)"
   ]
  },
  {
   "cell_type": "code",
   "execution_count": 23,
   "metadata": {},
   "outputs": [],
   "source": [
    "def draw_evaluation(stocker, b0, b1, sigma):\n",
    "    \n",
    "    d= []\n",
    "    n= []\n",
    "    for i in range(100,2000,10):\n",
    "        c = Distance_b_and_b_hat(stocker, b0, b1, sigma, i)\n",
    "        d.append(c[0]*c[0] + c[1]*c[1])\n",
    "        n.append(i)\n",
    "    plt.plot(n, d)\n",
    "    plt.xlabel('distance')\n",
    "    plt.ylabel('n')"
   ]
  },
  {
   "cell_type": "code",
   "execution_count": 24,
   "metadata": {},
   "outputs": [
    {
     "data": {
      "image/png": "[encoded data removed]",
      "text/plain": [
       "<Figure size 432x288 with 1 Axes>"
      ]
     },
     "metadata": {
      "needs_background": "light"
     },
     "output_type": "display_data"
    }
   ],
   "source": [
    "draw_evaluation(stocker, 1,1,0.1)"
   ]
  },
  {
   "cell_type": "markdown",
   "metadata": {},
   "source": [
    "## 5 Test des résidus"
   ]
  },
  {
   "cell_type": "markdown",
   "metadata": {},
   "source": [
    "### T7. \n",
    "$$Y^n_{obs}=X^n\\beta+\\varepsilon^n$$\n",
    "\n",
    "$$\\hat\\varepsilon^n=(Id(n)-X^n((X^n)^TX^n)^{-1}(X^n)^T)(X^n\\beta+\\varepsilon^n)$$\n",
    "\n",
    "$$\\hat\\varepsilon^n=X^n\\beta-X^n((X^n)^TX^n)^{-1}(X^n)^T)X^n\\beta+(Id(n)-X^n((X^n)^TX^n)^{-1}(X^n)^T)\\varepsilon^n$$\n",
    "\n",
    "$$\\hat\\varepsilon^n=(Id(n)-X^n((X^n)^TX^n)^{-1}(X^n)^T)\\varepsilon^n$$\n",
    "\n",
    "Donc on a\n",
    "\n",
    "$$ \\frac{1}{\\sigma^2}\\|\\hat\\epsilon^n\\|^2=\\|(Id(n)-X^n((X^n)^TX^n)^{-1}(X^n)^T)\\frac{\\varepsilon^n}{\\sigma}\\|^2$$\n",
    "\n",
    "Or notons $N=\\frac{\\varepsilon^n}{\\sigma}$,on a $N\\sim \\mathcal N(0,\\sigma^2)$\n",
    "\n",
    "Notons $P^{}_1=X^n((X^n)^TX^n)^{-1}(X^n)^T$\n",
    "\n",
    "$$P^{}_1\\circ P^{}_1=X^n((X^n)^TX^n)^{-1}(X^n)^TX^n((X^n)^TX^n)^{-1}(X^n)^T=X^n((X^n)^TX^n)^{-1}(X^n)^T=P^{}_1$$\n",
    "\n",
    "Donc $P^{}_1$ est la matrice d'une projection\n",
    "\n",
    "Soit $Z\\in\\mathbb{R}^n$\n",
    "\n",
    "$$P^{}_1(Z)=X^n((X^n)^TX^n)^{-1}(X^n)^TZ$$\n",
    "\n",
    "Notons $\\hat Z=((X^n)^TX^n)^{-1}(X^n)^TZ$\n",
    "\n",
    "$$P^{}_1(Z)=X^n[0]\\hat Z[0]+X^n[1]\\hat Z[1]$$\n",
    "\n",
    "Donc $P^{}_1$ est la matrice d'une projection sur un sous-espace vectoriel $L'$ de $\\mathbb{R}^n$ de dimension 2\n",
    "\n",
    "Alors notons $P^{}_2=Id(n)-P^{}_1$, $P^{}_2$ est la matrice d'une projection sur un sous-espace vectoriel $L$ de $\\mathbb{R}^n$ de dimension $n-2$\n",
    "\n",
    "$$ \\frac{1}{\\sigma^2}\\|\\hat\\epsilon^n\\|^2=\\|P^{}_2N\\|^2$$\n",
    "\n",
    "Prenons$(u^{}_1,u^{}_2...u^{}_{n-2})$ une base orthonormé de $L$ et $(u^{}_{n-1},u^{}_n)$ une base orthonormé de $L'$\n",
    "\n",
    "$$ \\|P^{}_2N\\|^2=\\sum_{i=1}^{n-2}<N,u^{}_i>^2$$\n",
    "\n",
    "Ou $<N,u^{}_i>^2=U^TN$, avec U la matrice de passage de la base canonique à la base $(u^{}_1,u^{}_2...u^{}_n)$\n",
    "\n",
    "Alors $U^TN\\sim \\mathcal N(0,UId(n)U^T)=\\mathcal N(0,Id(n))$\n",
    "\n",
    "$$ \\frac{1}{\\sigma^2}\\|\\hat\\epsilon^n\\|^2=\\sum_{i=1}^{n-2}(U^TN)^2\\sim \\chi^2(n-2) $$\n",
    "\n",
    "Finalement on a $$ \\frac{1}{\\sigma^2}\\|\\hat\\epsilon^n\\|^2\\sim \\chi^2(n-2) $$"
   ]
  },
  {
   "cell_type": "markdown",
   "metadata": {},
   "source": [
    "### S6.\n",
    "Posons\n",
    "$$Int(n):=\\{ \\frac{1}{\\sigma^2}\\|\\hat\\epsilon^n\\|^2,\\frac{1}{\\sigma^2}\\|\\hat\\epsilon^n\\|^2\\leq q^{\\chi^2_{n-2}}(1-\\alpha)\\}$$\n",
    "D'abord, calculons quantile de $\\chi^2_{n-2}$"
   ]
  },
  {
   "cell_type": "code",
   "execution_count": 25,
   "metadata": {},
   "outputs": [],
   "source": [
    "def quantile2(alpha,d):\n",
    "    \n",
    "    '''Chercher la valeur approximate de quantile(alpha)'''\n",
    "    # Definition de loi\n",
    "    Chi_2 = sps.chi2(d)\n",
    "    # Fonction de répartition\n",
    "    F = Chi_2.cdf\n",
    "    for i in range(100000):\n",
    "        num = i/1000\n",
    "        num_avant = (i-1)/1000\n",
    "        if F(num_avant) < (1-alpha) and F(num) > (1-alpha):\n",
    "            return num\n"
   ]
  },
  {
   "cell_type": "markdown",
   "metadata": {},
   "source": [
    "pour $n=10,\\alpha=5\\%$"
   ]
  },
  {
   "cell_type": "code",
   "execution_count": 26,
   "metadata": {},
   "outputs": [
    {
     "data": {
      "text/plain": [
       "15.508"
      ]
     },
     "execution_count": 26,
     "metadata": {},
     "output_type": "execute_result"
    }
   ],
   "source": [
    "quantile2(0.05,8)"
   ]
  },
  {
   "cell_type": "markdown",
   "metadata": {},
   "source": [
    "Calculons le pourcentage des résidus qui tombent dans *Int(n)* parmi M observations "
   ]
  },
  {
   "cell_type": "code",
   "execution_count": 27,
   "metadata": {},
   "outputs": [],
   "source": [
    "def test_residus(M,b_0,b_1,n=10,sigma=0.1,alpha=0.05):\n",
    "    count=0\n",
    "    Quantile=quantile2(alpha,n-2)\n",
    "   #calculons combien de residu tombe sur Int(n) parmi les M residus\n",
    "    for i in range(M):\n",
    "    # creer une liste de (x,y,y_obs,epsilon) tel que <y=beta_0+x*beta_1> et <y_obs=y+epsilon>\n",
    "    X = sps.uniform(0,1)\n",
    "    Epsilon = sps.norm(0,sigma)  \n",
    "    \n",
    "    x = np.array(X.rvs(n))\n",
    "    epsilon = np.array(Epsilon.rvs(n))\n",
    "    y = b_0 + b_1 * x\n",
    "    y_obs = y + epsilon\n",
    "    \n",
    "    # definir les matrice (Y,X) tel que <Y=X*BETA>\n",
    "    x_m = np.vstack((np.ones(len(x)), x)).transpose()\n",
    "    y_m=y.transpose()\n",
    "    y_obs_m=y_obs.transpose()\n",
    "    \n",
    "    # calculons beta_capeau \n",
    "    b_c = np.dot(np.dot(np.linalg.inv(np.dot(x_m.transpose(), x_m)), x_m.transpose()) , y_obs_m )\n",
    "    \n",
    "    # calculons y_chapeau avec y_chapeau=X*beta_chapeau\n",
    "    y_c = np.dot(x_m,b_c.transpose())\n",
    "    \n",
    "    #calculons le residu \n",
    "    r=np.subtract(y_obs,y_c)\n",
    "    \n",
    "    #testons si le residu tombe dans Int(n)\n",
    "    n_r=np.linalg.norm(r)\n",
    "    if  math.pow(n_r, 2)/math.pow(sigma, 2)<=Quantile:\n",
    "        count=count+1\n",
    "    return count/M\n",
    "    "
   ]
  },
  {
   "cell_type": "markdown",
   "metadata": {},
   "source": [
    "Faisons des test avec différent $\\beta$, en choissiant $M=1000$"
   ]
  },
  {
   "cell_type": "markdown",
   "metadata": {},
   "source": [
    "### $\\beta = (0,1)$  ; $M=1000$"
   ]
  },
  {
   "cell_type": "code",
   "execution_count": 28,
   "metadata": {
    "scrolled": true
   },
   "outputs": [
    {
     "data": {
      "text/plain": [
       "0.941"
      ]
     },
     "execution_count": 28,
     "metadata": {},
     "output_type": "execute_result"
    }
   ],
   "source": [
    "test_residus(1000,0,1,n=10,sigma=0.1,alpha=0.05)"
   ]
  },
  {
   "cell_type": "markdown",
   "metadata": {},
   "source": [
    "### $\\beta = (1,0)$  ; $M=1000$"
   ]
  },
  {
   "cell_type": "code",
   "execution_count": 29,
   "metadata": {},
   "outputs": [
    {
     "data": {
      "text/plain": [
       "0.954"
      ]
     },
     "execution_count": 29,
     "metadata": {},
     "output_type": "execute_result"
    }
   ],
   "source": [
    "test_residus(1000,1,0,n=10,sigma=0.1,alpha=0.05)"
   ]
  },
  {
   "cell_type": "markdown",
   "metadata": {},
   "source": [
    "### $\\beta = (2,1)$  ; $M=1000$"
   ]
  },
  {
   "cell_type": "code",
   "execution_count": 30,
   "metadata": {},
   "outputs": [
    {
     "data": {
      "text/plain": [
       "0.949"
      ]
     },
     "execution_count": 30,
     "metadata": {},
     "output_type": "execute_result"
    }
   ],
   "source": [
    "test_residus(1000,1,2,n=10,sigma=0.1,alpha=0.05)"
   ]
  },
  {
   "cell_type": "markdown",
   "metadata": {},
   "source": [
    "Les pourcentages sont bien environ $95\\%$. "
   ]
  }
 ],
 "metadata": {
  "kernelspec": {
   "display_name": "Python 3",
   "language": "python",
   "name": "python3"
  },
  "language_info": {
   "codemirror_mode": {
    "name": "ipython",
    "version": 3
   },
   "file_extension": ".py",
   "mimetype": "text/x-python",
   "name": "python",
   "nbconvert_exporter": "python",
   "pygments_lexer": "ipython3",
   "version": "3.7.1"
  }
 },
 "nbformat": 4,
 "nbformat_minor": 2
}
