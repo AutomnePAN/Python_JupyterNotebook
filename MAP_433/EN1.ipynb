{
 "cells": [
  {
   "cell_type": "markdown",
   "metadata": {},
   "source": [
    "# Exploration Numérique I\n",
    "#### Par Shikang Du et Haolin Pan"
   ]
  },
  {
   "cell_type": "markdown",
   "metadata": {},
   "source": [
    "## Import the packages"
   ]
  },
  {
   "cell_type": "code",
   "execution_count": 41,
   "metadata": {},
   "outputs": [],
   "source": [
    "import numpy as np;\n",
    "import pandas as pd;\n",
    "import scipy.stats as sps;\n",
    "import math\n",
    "import matplotlib.pyplot as plt"
   ]
  },
  {
   "cell_type": "markdown",
   "metadata": {},
   "source": [
    "### Question I:"
   ]
  },
  {
   "cell_type": "code",
   "execution_count": 6,
   "metadata": {},
   "outputs": [],
   "source": [
    "markNum_VisitTeam = pd.DataFrame([[0, 692],[1,680],[2, 335], [3, 131], [4,51], [5,11]])\n",
    "markNum_VisitTeam.columns = [\"Nombre de buts marques\", \"Nombre d'observation\"]"
   ]
  },
  {
   "cell_type": "code",
   "execution_count": 7,
   "metadata": {},
   "outputs": [
    {
     "data": {
      "text/html": [
       "<div>\n",
       "<style scoped>\n",
       "    .dataframe tbody tr th:only-of-type {\n",
       "        vertical-align: middle;\n",
       "    }\n",
       "\n",
       "    .dataframe tbody tr th {\n",
       "        vertical-align: top;\n",
       "    }\n",
       "\n",
       "    .dataframe thead th {\n",
       "        text-align: right;\n",
       "    }\n",
       "</style>\n",
       "<table border=\"1\" class=\"dataframe\">\n",
       "  <thead>\n",
       "    <tr style=\"text-align: right;\">\n",
       "      <th></th>\n",
       "      <th>Nombre de buts marques</th>\n",
       "      <th>Nombre d'observation</th>\n",
       "    </tr>\n",
       "  </thead>\n",
       "  <tbody>\n",
       "    <tr>\n",
       "      <th>0</th>\n",
       "      <td>0</td>\n",
       "      <td>692</td>\n",
       "    </tr>\n",
       "    <tr>\n",
       "      <th>1</th>\n",
       "      <td>1</td>\n",
       "      <td>680</td>\n",
       "    </tr>\n",
       "    <tr>\n",
       "      <th>2</th>\n",
       "      <td>2</td>\n",
       "      <td>335</td>\n",
       "    </tr>\n",
       "    <tr>\n",
       "      <th>3</th>\n",
       "      <td>3</td>\n",
       "      <td>131</td>\n",
       "    </tr>\n",
       "    <tr>\n",
       "      <th>4</th>\n",
       "      <td>4</td>\n",
       "      <td>51</td>\n",
       "    </tr>\n",
       "    <tr>\n",
       "      <th>5</th>\n",
       "      <td>5</td>\n",
       "      <td>11</td>\n",
       "    </tr>\n",
       "  </tbody>\n",
       "</table>\n",
       "</div>"
      ],
      "text/plain": [
       "   Nombre de buts marques  Nombre d'observation\n",
       "0                       0                   692\n",
       "1                       1                   680\n",
       "2                       2                   335\n",
       "3                       3                   131\n",
       "4                       4                    51\n",
       "5                       5                    11"
      ]
     },
     "execution_count": 7,
     "metadata": {},
     "output_type": "execute_result"
    }
   ],
   "source": [
    "markNum_VisitTeam"
   ]
  },
  {
   "cell_type": "code",
   "execution_count": 8,
   "metadata": {},
   "outputs": [],
   "source": [
    "markNum_dict = {0 : 692, 1:680, 2 : 335, 3 : 131, 4 : 51, 5 : 11}"
   ]
  },
  {
   "cell_type": "markdown",
   "metadata": {},
   "source": [
    "### Question II:"
   ]
  },
  {
   "cell_type": "markdown",
   "metadata": {},
   "source": [
    "D'abord, on doit calculer le logarithme de vraisemblance, On note markNum_dict[k] par $N[k]$\n",
    "\n",
    "$$ L(\\lambda) = \\sum_{k = 0}^{5} log(  p_\\lambda(k)^{ N[k]} )$$\n",
    "$$ L(\\lambda) = \\sum_{k = 0}^{5} N[k]\\times (k log(\\lambda) - \\lambda) - log(k!)$$\n",
    "\n",
    "Donc notre objectif est de maximiser $\\sum_{k = 0}^{5} N[k]\\times (k log(\\lambda) - \\lambda)$\n",
    "\n",
    "On fait une dérivation: \n",
    "$$ \\dfrac{d L(\\lambda)}{d\\lambda} = \\sum_{k = 0}^{5} N[k] \\times( k / \\lambda - 1)$$\n",
    "On cherche $\\hat \\lambda$ tel que $\\dfrac{d L(\\hat \\lambda)}{d\\lambda} = 0$\n",
    "\n",
    "Quand $\\sum_k N[k] \\neq 0 $(vérifié dans ce cas), on a:\n",
    "$$ \\hat \\lambda = \\dfrac{\\sum_k N[k] \\times k}{ \\sum_k{N[k]} }$$\n"
   ]
  },
  {
   "cell_type": "code",
   "execution_count": 19,
   "metadata": {},
   "outputs": [],
   "source": [
    "# Calculs Numerique:\n",
    "def Estim_VS(markNum_dict):\n",
    "    lambda_h = 0;\n",
    "    for i in range(len(markNum_dict.keys())):\n",
    "        lambda_h += markNum_dict[i] * i;\n",
    "    lambda_h /= sum(markNum_dict.values())\n",
    "    return lambda_h;"
   ]
  },
  {
   "cell_type": "code",
   "execution_count": 21,
   "metadata": {},
   "outputs": [
    {
     "data": {
      "text/plain": [
       "1.0536842105263158"
      ]
     },
     "execution_count": 21,
     "metadata": {},
     "output_type": "execute_result"
    }
   ],
   "source": [
    "Estim_VS(markNum_dict)"
   ]
  },
  {
   "cell_type": "markdown",
   "metadata": {},
   "source": [
    "### Question III"
   ]
  },
  {
   "cell_type": "markdown",
   "metadata": {},
   "source": [
    "Pour le loi Poisson, le moment d'ordre 2 est $\\lambda^2 + \\lambda$\n",
    "\n",
    "Donc pour l'estimateur d'ordre 2, on cherche en effet $\\lambda$ tel que:\n",
    "\n",
    "$$\\lambda^2 + \\lambda = \\sum_{k=0}^5 \\dfrac{N[k]}{\\sum_{k} N[k]}\\times k^2$$\n",
    "\n",
    "Comme $\\lambda$ est forcément positive, il reste seulement une solution valable.\n",
    "\n",
    "$$ \\tilde{\\lambda} = - \\dfrac{1}{2} + \\sqrt{\\sum_{k=0}^5 \\dfrac{N[k]}{\\sum_{k} N[k]}\\times k^2 + \\dfrac{1}{4}} $$"
   ]
  },
  {
   "cell_type": "code",
   "execution_count": 27,
   "metadata": {},
   "outputs": [],
   "source": [
    "# Calculs Numérique:\n",
    "def Estim_M2(markNum_dict):\n",
    "    lambda_t = 0;\n",
    "    for i in range(len(markNum_dict.keys())):\n",
    "        lambda_t += markNum_dict[i] * i * i;\n",
    "    lambda_t /= sum(markNum_dict.values())\n",
    "    lambda_t += 1/4;\n",
    "    lambda_t = math.sqrt(lambda_t);\n",
    "    lambda_t -= 1/2;\n",
    "    return lambda_t"
   ]
  },
  {
   "cell_type": "code",
   "execution_count": 28,
   "metadata": {},
   "outputs": [
    {
     "data": {
      "text/plain": [
       "1.083633397236275"
      ]
     },
     "execution_count": 28,
     "metadata": {},
     "output_type": "execute_result"
    }
   ],
   "source": [
    "Estim_M2(markNum_dict)"
   ]
  },
  {
   "cell_type": "markdown",
   "metadata": {},
   "source": [
    "### Question IV"
   ]
  },
  {
   "cell_type": "code",
   "execution_count": 68,
   "metadata": {},
   "outputs": [
    {
     "data": {
      "text/plain": [
       "<BarContainer object of 6 artists>"
      ]
     },
     "execution_count": 68,
     "metadata": {},
     "output_type": "execute_result"
    },
    {
     "data": {
      "image/png": "[encoded data removed]",
      "text/plain": [
       "<Figure size 432x288 with 1 Axes>"
      ]
     },
     "metadata": {
      "needs_background": "light"
     },
     "output_type": "display_data"
    }
   ],
   "source": [
    "count = list(markNum_dict.values())\n",
    "keys = list(markNum_dict.keys());\n",
    "total = sum(count)\n",
    "for i in count:\n",
    "    i /= total\n",
    "plt.bar(keys, count, edgecolor = \"black\", color = \"grey\", width = 0.5, alpha = 0.2)"
   ]
  },
  {
   "cell_type": "code",
   "execution_count": 77,
   "metadata": {},
   "outputs": [],
   "source": [
    "#La loi Poisson\n",
    "poisson = sps.poisson(Estim_VS(markNum_dict))"
   ]
  },
  {
   "cell_type": "code",
   "execution_count": 78,
   "metadata": {},
   "outputs": [
    {
     "data": {
      "text/plain": [
       "<BarContainer object of 6 artists>"
      ]
     },
     "execution_count": 78,
     "metadata": {},
     "output_type": "execute_result"
    },
    {
     "data": {
      "image/png": "[encoded data removed]",
      "text/plain": [
       "<Figure size 432x288 with 1 Axes>"
      ]
     },
     "metadata": {
      "needs_background": "light"
     },
     "output_type": "display_data"
    }
   ],
   "source": [
    "keys = list(markNum_dict.keys());\n",
    "count_V = poisson.pmf(keys)\n",
    "total = sum(count)\n",
    "for i in count:\n",
    "    i /= total\n",
    "plt.bar(keys, count_V, edgecolor = \"black\", color = \"red\", width = 0.5, alpha = 0.2)"
   ]
  },
  {
   "cell_type": "code",
   "execution_count": 79,
   "metadata": {},
   "outputs": [],
   "source": [
    "poisson = sps.poisson(Estim_M2(markNum_dict))"
   ]
  },
  {
   "cell_type": "code",
   "execution_count": 80,
   "metadata": {},
   "outputs": [
    {
     "data": {
      "text/plain": [
       "<BarContainer object of 6 artists>"
      ]
     },
     "execution_count": 80,
     "metadata": {},
     "output_type": "execute_result"
    },
    {
     "data": {
      "image/png": "[encoded data removed]",
      "text/plain": [
       "<Figure size 432x288 with 1 Axes>"
      ]
     },
     "metadata": {
      "needs_background": "light"
     },
     "output_type": "display_data"
    }
   ],
   "source": [
    "keys = list(markNum_dict.keys());\n",
    "count_M = poisson.pmf(keys)\n",
    "total = sum(count)\n",
    "for i in count:\n",
    "    i /= total\n",
    "plt.bar(keys, count_M, edgecolor = \"black\", color = \"blue\", width = 0.5, alpha = 0.2)"
   ]
  },
  {
   "cell_type": "code",
   "execution_count": 82,
   "metadata": {},
   "outputs": [
    {
     "data": {
      "text/plain": [
       "<BarContainer object of 6 artists>"
      ]
     },
     "execution_count": 82,
     "metadata": {},
     "output_type": "execute_result"
    },
    {
     "data": {
      "image/png": "[encoded data removed]",
      "text/plain": [
       "<Figure size 432x288 with 1 Axes>"
      ]
     },
     "metadata": {
      "needs_background": "light"
     },
     "output_type": "display_data"
    }
   ],
   "source": [
    "plt.bar(keys, count_M - count_V, edgecolor = \"black\", color = \"green\", width = 0.5, alpha = 0.2)"
   ]
  }
 ],
 "metadata": {
  "kernelspec": {
   "display_name": "Python 3",
   "language": "python",
   "name": "python3"
  },
  "language_info": {
   "codemirror_mode": {
    "name": "ipython",
    "version": 3
   },
   "file_extension": ".py",
   "mimetype": "text/x-python",
   "name": "python",
   "nbconvert_exporter": "python",
   "pygments_lexer": "ipython3",
   "version": "3.7.1"
  }
 },
 "nbformat": 4,
 "nbformat_minor": 2
}
