{
 "cells": [
  {
   "cell_type": "markdown",
   "metadata": {},
   "source": [
    "## Python的函数参数传递"
   ]
  },
  {
   "cell_type": "code",
   "execution_count": 3,
   "metadata": {},
   "outputs": [
    {
     "name": "stdout",
     "output_type": "stream",
     "text": [
      "Outfunction:  1 140734386320208 140734386320208\n",
      "Infunction:  2 140734386320240 140734386320240\n"
     ]
    },
    {
     "data": {
      "text/plain": [
       "2"
      ]
     },
     "execution_count": 3,
     "metadata": {},
     "output_type": "execute_result"
    }
   ],
   "source": [
    "a = 1\n",
    "def f(a):\n",
    "    a  = 2;\n",
    "    print (\"Infunction: \", a, id(a), id(2))\n",
    "    return a;\n",
    "print (\"Outfunction: \", a, id(a), id(1))\n",
    "f(a)"
   ]
  },
  {
   "cell_type": "markdown",
   "metadata": {},
   "source": [
    "## StaticMethod and ClassMethod"
   ]
  },
  {
   "cell_type": "code",
   "execution_count": 41,
   "metadata": {},
   "outputs": [],
   "source": [
    "def fun(x):\n",
    "    print(\"We are executing: %s\", x);\n",
    "\n",
    "class A(object):\n",
    "    def __init__(self, a, b):\n",
    "        self.a = a;\n",
    "        self.b = b;\n",
    "    \n",
    "    def foo(self,x):\n",
    "        print ( \"executing foo(%s,%s)\"%(self,x) )\n",
    "        print (\"A + B = \", self.a + self.b)\n",
    "\n",
    "    @classmethod\n",
    "    def class_foo(cls,x):\n",
    "        print ( \"executing class_foo(%s,%s)\"%(cls,x) )\n",
    "        print (\"A + B = \", cls.A + cls.B)\n",
    "\n",
    "    @staticmethod\n",
    "    def static_foo(x):\n",
    "        print ( \"executing static_foo(%s)\"% x )\n",
    "        \n",
    "\n",
    "a=A(12,13)"
   ]
  },
  {
   "cell_type": "code",
   "execution_count": 43,
   "metadata": {},
   "outputs": [
    {
     "name": "stdout",
     "output_type": "stream",
     "text": [
      "executing static_foo(12)\n"
     ]
    }
   ],
   "source": [
    "a.static_foo(12)"
   ]
  },
  {
   "cell_type": "markdown",
   "metadata": {},
   "source": [
    "## Class Variable and Instantial Variable"
   ]
  },
  {
   "cell_type": "code",
   "execution_count": 54,
   "metadata": {},
   "outputs": [],
   "source": [
    "class Test:\n",
    "    nums_of_student = 0;\n",
    "    def __init__(self, name, grade):\n",
    "        self.name = name;\n",
    "        self.grade = grade;\n",
    "        Test.nums_of_student += 1;\n",
    "    \n",
    "    def print_test(self):\n",
    "        print(\"name: \", self.name, \"; grade, \", self.grade);\n",
    "        print(\"Total persons: \", Test.nums_of_student);"
   ]
  },
  {
   "cell_type": "code",
   "execution_count": 55,
   "metadata": {},
   "outputs": [],
   "source": [
    "A = Test(\"Bob\", 123)\n",
    "B= Test(\"Judy\", 124)"
   ]
  },
  {
   "cell_type": "code",
   "execution_count": 56,
   "metadata": {},
   "outputs": [
    {
     "name": "stdout",
     "output_type": "stream",
     "text": [
      "name:  Bob ; grade,  123\n",
      "Total persons:  2\n"
     ]
    }
   ],
   "source": [
    "A.print_test()"
   ]
  },
  {
   "cell_type": "code",
   "execution_count": 57,
   "metadata": {},
   "outputs": [
    {
     "name": "stdout",
     "output_type": "stream",
     "text": [
      "Allan\n",
      "Bob\n",
      "humanité\n"
     ]
    }
   ],
   "source": [
    "class Person:\n",
    "    name = \"humanité\"\n",
    "    \n",
    "A = Person();\n",
    "B = Person();\n",
    "A.name = \"Allan\"\n",
    "B.name = \"Bob\"\n",
    "print(A.name)\n",
    "print(B.name)\n",
    "print(Person.name)"
   ]
  },
  {
   "cell_type": "markdown",
   "metadata": {},
   "source": [
    "## Self detection"
   ]
  },
  {
   "cell_type": "code",
   "execution_count": 60,
   "metadata": {},
   "outputs": [
    {
     "name": "stdout",
     "output_type": "stream",
     "text": [
      "<class 'list'> <class 'dict'> <class 'bool'>\n"
     ]
    }
   ],
   "source": [
    "A = [1,2,3]\n",
    "B = {1:'A', 2:'B', 3:'C'}\n",
    "C = True\n",
    "print(type(A) ,type(B) , type(C))"
   ]
  },
  {
   "cell_type": "markdown",
   "metadata": {},
   "source": [
    "## 列表推导式"
   ]
  },
  {
   "cell_type": "code",
   "execution_count": 66,
   "metadata": {},
   "outputs": [],
   "source": [
    "FiveMinutes_List  = [(a,b) for a in range(24) for b in range(0,60,5)]"
   ]
  },
  {
   "cell_type": "code",
   "execution_count": 70,
   "metadata": {},
   "outputs": [
    {
     "data": {
      "text/plain": [
       "[(0, 0),\n",
       " (0, 5),\n",
       " (0, 10),\n",
       " (0, 15),\n",
       " (0, 20),\n",
       " (0, 25),\n",
       " (0, 30),\n",
       " (0, 35),\n",
       " (0, 40),\n",
       " (0, 45),\n",
       " (0, 50),\n",
       " (0, 55),\n",
       " (1, 0),\n",
       " (1, 5),\n",
       " (1, 10),\n",
       " (1, 15),\n",
       " (1, 20),\n",
       " (1, 25),\n",
       " (1, 30),\n",
       " (1, 35),\n",
       " (1, 40),\n",
       " (1, 45),\n",
       " (1, 50),\n",
       " (1, 55),\n",
       " (2, 0),\n",
       " (2, 5),\n",
       " (2, 10),\n",
       " (2, 15),\n",
       " (2, 20),\n",
       " (2, 25),\n",
       " (2, 30),\n",
       " (2, 35),\n",
       " (2, 40),\n",
       " (2, 45),\n",
       " (2, 50),\n",
       " (2, 55),\n",
       " (3, 0),\n",
       " (3, 5),\n",
       " (3, 10),\n",
       " (3, 15),\n",
       " (3, 20),\n",
       " (3, 25),\n",
       " (3, 30),\n",
       " (3, 35),\n",
       " (3, 40),\n",
       " (3, 45),\n",
       " (3, 50),\n",
       " (3, 55),\n",
       " (4, 0),\n",
       " (4, 5),\n",
       " (4, 10),\n",
       " (4, 15),\n",
       " (4, 20),\n",
       " (4, 25),\n",
       " (4, 30),\n",
       " (4, 35),\n",
       " (4, 40),\n",
       " (4, 45),\n",
       " (4, 50),\n",
       " (4, 55),\n",
       " (5, 0),\n",
       " (5, 5),\n",
       " (5, 10),\n",
       " (5, 15),\n",
       " (5, 20),\n",
       " (5, 25),\n",
       " (5, 30),\n",
       " (5, 35),\n",
       " (5, 40),\n",
       " (5, 45),\n",
       " (5, 50),\n",
       " (5, 55),\n",
       " (6, 0),\n",
       " (6, 5),\n",
       " (6, 10),\n",
       " (6, 15),\n",
       " (6, 20),\n",
       " (6, 25),\n",
       " (6, 30),\n",
       " (6, 35),\n",
       " (6, 40),\n",
       " (6, 45),\n",
       " (6, 50),\n",
       " (6, 55),\n",
       " (7, 0),\n",
       " (7, 5),\n",
       " (7, 10),\n",
       " (7, 15),\n",
       " (7, 20),\n",
       " (7, 25),\n",
       " (7, 30),\n",
       " (7, 35),\n",
       " (7, 40),\n",
       " (7, 45),\n",
       " (7, 50),\n",
       " (7, 55),\n",
       " (8, 0),\n",
       " (8, 5),\n",
       " (8, 10),\n",
       " (8, 15),\n",
       " (8, 20),\n",
       " (8, 25),\n",
       " (8, 30),\n",
       " (8, 35),\n",
       " (8, 40),\n",
       " (8, 45),\n",
       " (8, 50),\n",
       " (8, 55),\n",
       " (9, 0),\n",
       " (9, 5),\n",
       " (9, 10),\n",
       " (9, 15),\n",
       " (9, 20),\n",
       " (9, 25),\n",
       " (9, 30),\n",
       " (9, 35),\n",
       " (9, 40),\n",
       " (9, 45),\n",
       " (9, 50),\n",
       " (9, 55),\n",
       " (10, 0),\n",
       " (10, 5),\n",
       " (10, 10),\n",
       " (10, 15),\n",
       " (10, 20),\n",
       " (10, 25),\n",
       " (10, 30),\n",
       " (10, 35),\n",
       " (10, 40),\n",
       " (10, 45),\n",
       " (10, 50),\n",
       " (10, 55),\n",
       " (11, 0),\n",
       " (11, 5),\n",
       " (11, 10),\n",
       " (11, 15),\n",
       " (11, 20),\n",
       " (11, 25),\n",
       " (11, 30),\n",
       " (11, 35),\n",
       " (11, 40),\n",
       " (11, 45),\n",
       " (11, 50),\n",
       " (11, 55),\n",
       " (12, 0),\n",
       " (12, 5),\n",
       " (12, 10),\n",
       " (12, 15),\n",
       " (12, 20),\n",
       " (12, 25),\n",
       " (12, 30),\n",
       " (12, 35),\n",
       " (12, 40),\n",
       " (12, 45),\n",
       " (12, 50),\n",
       " (12, 55),\n",
       " (13, 0),\n",
       " (13, 5),\n",
       " (13, 10),\n",
       " (13, 15),\n",
       " (13, 20),\n",
       " (13, 25),\n",
       " (13, 30),\n",
       " (13, 35),\n",
       " (13, 40),\n",
       " (13, 45),\n",
       " (13, 50),\n",
       " (13, 55),\n",
       " (14, 0),\n",
       " (14, 5),\n",
       " (14, 10),\n",
       " (14, 15),\n",
       " (14, 20),\n",
       " (14, 25),\n",
       " (14, 30),\n",
       " (14, 35),\n",
       " (14, 40),\n",
       " (14, 45),\n",
       " (14, 50),\n",
       " (14, 55),\n",
       " (15, 0),\n",
       " (15, 5),\n",
       " (15, 10),\n",
       " (15, 15),\n",
       " (15, 20),\n",
       " (15, 25),\n",
       " (15, 30),\n",
       " (15, 35),\n",
       " (15, 40),\n",
       " (15, 45),\n",
       " (15, 50),\n",
       " (15, 55),\n",
       " (16, 0),\n",
       " (16, 5),\n",
       " (16, 10),\n",
       " (16, 15),\n",
       " (16, 20),\n",
       " (16, 25),\n",
       " (16, 30),\n",
       " (16, 35),\n",
       " (16, 40),\n",
       " (16, 45),\n",
       " (16, 50),\n",
       " (16, 55),\n",
       " (17, 0),\n",
       " (17, 5),\n",
       " (17, 10),\n",
       " (17, 15),\n",
       " (17, 20),\n",
       " (17, 25),\n",
       " (17, 30),\n",
       " (17, 35),\n",
       " (17, 40),\n",
       " (17, 45),\n",
       " (17, 50),\n",
       " (17, 55),\n",
       " (18, 0),\n",
       " (18, 5),\n",
       " (18, 10),\n",
       " (18, 15),\n",
       " (18, 20),\n",
       " (18, 25),\n",
       " (18, 30),\n",
       " (18, 35),\n",
       " (18, 40),\n",
       " (18, 45),\n",
       " (18, 50),\n",
       " (18, 55),\n",
       " (19, 0),\n",
       " (19, 5),\n",
       " (19, 10),\n",
       " (19, 15),\n",
       " (19, 20),\n",
       " (19, 25),\n",
       " (19, 30),\n",
       " (19, 35),\n",
       " (19, 40),\n",
       " (19, 45),\n",
       " (19, 50),\n",
       " (19, 55),\n",
       " (20, 0),\n",
       " (20, 5),\n",
       " (20, 10),\n",
       " (20, 15),\n",
       " (20, 20),\n",
       " (20, 25),\n",
       " (20, 30),\n",
       " (20, 35),\n",
       " (20, 40),\n",
       " (20, 45),\n",
       " (20, 50),\n",
       " (20, 55),\n",
       " (21, 0),\n",
       " (21, 5),\n",
       " (21, 10),\n",
       " (21, 15),\n",
       " (21, 20),\n",
       " (21, 25),\n",
       " (21, 30),\n",
       " (21, 35),\n",
       " (21, 40),\n",
       " (21, 45),\n",
       " (21, 50),\n",
       " (21, 55),\n",
       " (22, 0),\n",
       " (22, 5),\n",
       " (22, 10),\n",
       " (22, 15),\n",
       " (22, 20),\n",
       " (22, 25),\n",
       " (22, 30),\n",
       " (22, 35),\n",
       " (22, 40),\n",
       " (22, 45),\n",
       " (22, 50),\n",
       " (22, 55),\n",
       " (23, 0),\n",
       " (23, 5),\n",
       " (23, 10),\n",
       " (23, 15),\n",
       " (23, 20),\n",
       " (23, 25),\n",
       " (23, 30),\n",
       " (23, 35),\n",
       " (23, 40),\n",
       " (23, 45),\n",
       " (23, 50),\n",
       " (23, 55)]"
      ]
     },
     "execution_count": 70,
     "metadata": {},
     "output_type": "execute_result"
    }
   ],
   "source": [
    "FiveMinutes_List"
   ]
  },
  {
   "cell_type": "code",
   "execution_count": 71,
   "metadata": {},
   "outputs": [],
   "source": [
    "# point multiple of two Matrix\n",
    "M = [[1,2,3],[4,5,6],[7,8,9]]\n",
    "N = [[4,4,4],[5,5,5],[6,6,6]]\n",
    "Mult = [M[r][c]*N[r][c] for r in range(3) for  c in range(3)]"
   ]
  },
  {
   "cell_type": "code",
   "execution_count": 72,
   "metadata": {},
   "outputs": [
    {
     "data": {
      "text/plain": [
       "[4, 8, 12, 20, 25, 30, 42, 48, 54]"
      ]
     },
     "execution_count": 72,
     "metadata": {},
     "output_type": "execute_result"
    }
   ],
   "source": [
    "Mult"
   ]
  },
  {
   "cell_type": "markdown",
   "metadata": {},
   "source": [
    "## 字典推导式"
   ]
  },
  {
   "cell_type": "markdown",
   "metadata": {},
   "source": [
    "#### d = {key: value for (key, value) in iterable}"
   ]
  },
  {
   "cell_type": "code",
   "execution_count": 79,
   "metadata": {},
   "outputs": [],
   "source": [
    "Str  = {\"Mother fuckers you son of bitch! I have killed your bitch mother with my 98k\"}\n",
    "d = {key: value for key , value in enumerate(Mult)}"
   ]
  },
  {
   "cell_type": "code",
   "execution_count": 80,
   "metadata": {},
   "outputs": [
    {
     "data": {
      "text/plain": [
       "{0: 4, 1: 8, 2: 12, 3: 20, 4: 25, 5: 30, 6: 42, 7: 48, 8: 54}"
      ]
     },
     "execution_count": 80,
     "metadata": {},
     "output_type": "execute_result"
    }
   ],
   "source": [
    "d"
   ]
  },
  {
   "cell_type": "code",
   "execution_count": 81,
   "metadata": {},
   "outputs": [
    {
     "name": "stdout",
     "output_type": "stream",
     "text": [
      "(0, 4)\n",
      "(1, 8)\n",
      "(2, 12)\n",
      "(3, 20)\n",
      "(4, 25)\n",
      "(5, 30)\n",
      "(6, 42)\n",
      "(7, 48)\n",
      "(8, 54)\n"
     ]
    }
   ],
   "source": [
    "for value in enumerate(Mult):\n",
    "    print (value)"
   ]
  },
  {
   "cell_type": "markdown",
   "metadata": {},
   "source": [
    "## 集合推导式"
   ]
  },
  {
   "cell_type": "markdown",
   "metadata": {},
   "source": [
    "#### 合并重复的元素"
   ]
  },
  {
   "cell_type": "code",
   "execution_count": 84,
   "metadata": {},
   "outputs": [],
   "source": [
    "squared = {x*x for x in [1,1,12,2,3,4,5,6,7,8,9,10,11,1]}"
   ]
  },
  {
   "cell_type": "code",
   "execution_count": 85,
   "metadata": {},
   "outputs": [
    {
     "data": {
      "text/plain": [
       "{1, 4, 9, 16, 25, 36, 49, 64, 81, 100, 121, 144}"
      ]
     },
     "execution_count": 85,
     "metadata": {},
     "output_type": "execute_result"
    }
   ],
   "source": [
    "squared"
   ]
  },
  {
   "cell_type": "markdown",
   "metadata": {},
   "source": [
    "## Python中单下划线和双下划线"
   ]
  },
  {
   "cell_type": "markdown",
   "metadata": {},
   "source": [
    "#### __foo__:一种约定,Python内部的名字,用来区别其他用户自定义的命名,以防冲突，就是例如__init__(),__del__(),__call__()这些特殊方法\n",
    "\n",
    "_foo:一种约定,用来指定变量私有.程序员用来指定私有变量的一种方式.不能用from module import * 导入，其他方面和公有一样访问；\n",
    "\n",
    "__foo:这个有真正的意义:解析器用_classname__foo来代替这个名字,以区别和其他类相同的命名,它无法直接像公有成员一样随便访问,通过对象名._类名__xxx这样的方式可以访问."
   ]
  },
  {
   "cell_type": "markdown",
   "metadata": {},
   "source": [
    "## \\*args and \\**kwargs"
   ]
  },
  {
   "cell_type": "markdown",
   "metadata": {},
   "source": [
    "当你不确定你的函数里将要传递多少参数时你可以用*args.例如,它可以传递任意数量的参数:"
   ]
  },
  {
   "cell_type": "code",
   "execution_count": 16,
   "metadata": {},
   "outputs": [],
   "source": [
    "def print_everything(*args):\n",
    "    for thing in args:\n",
    "        print(thing,end= \"/\")"
   ]
  },
  {
   "cell_type": "code",
   "execution_count": 17,
   "metadata": {},
   "outputs": [
    {
     "name": "stdout",
     "output_type": "stream",
     "text": [
      "Bob/Dylan/12/ /Fuckyou/"
     ]
    }
   ],
   "source": [
    "print_everything('Bob', 'Dylan', 12 ,' ', \"Fuckyou\")"
   ]
  },
  {
   "cell_type": "markdown",
   "metadata": {},
   "source": [
    "## 新式形和旧式形"
   ]
  },
  {
   "cell_type": "markdown",
   "metadata": {},
   "source": [
    "按照经典类的查找顺序从左到右 __深度优先__ 的规则，在访问d.foo1()的时候,D这个类是没有的..那么往上查找,先找到B,里面没有,深度优先,访问A,找到了foo1(),所以这时候调用的是A的foo1()，从而导致C重写的foo1()被绕过"
   ]
  },
  {
   "cell_type": "code",
   "execution_count": 20,
   "metadata": {},
   "outputs": [],
   "source": [
    "class A():\n",
    "    def foo1(self):\n",
    "        print(\"A\")\n",
    "\n",
    "class B(A):\n",
    "    def foo2(self):\n",
    "        print(\"B\")\n",
    "        \n",
    "class C(A):\n",
    "    def fool(self):\n",
    "        print(\"C\")\n",
    "        \n",
    "class D(C, B):\n",
    "    pass"
   ]
  },
  {
   "cell_type": "code",
   "execution_count": 21,
   "metadata": {},
   "outputs": [
    {
     "name": "stdout",
     "output_type": "stream",
     "text": [
      "A\n"
     ]
    }
   ],
   "source": [
    "d = D()\n",
    "d.foo1()"
   ]
  },
  {
   "cell_type": "markdown",
   "metadata": {},
   "source": [
    "## 单例模式"
   ]
  },
  {
   "cell_type": "code",
   "execution_count": 25,
   "metadata": {},
   "outputs": [],
   "source": [
    "class Singleton(object):\n",
    "    def __new__(cls, *args, **kw):\n",
    "        if not hasattr(cls, '_instance'):\n",
    "            orig = super(Singleton, cls)\n",
    "            cls._instance = orig.__new__(cls, *args, **kw)\n",
    "        return cls._instance\n",
    "    \n",
    "class my_singleton(Singleton):\n",
    "    a = 2"
   ]
  },
  {
   "cell_type": "code",
   "execution_count": 26,
   "metadata": {},
   "outputs": [],
   "source": [
    "A = my_singleton()"
   ]
  },
  {
   "cell_type": "code",
   "execution_count": 27,
   "metadata": {},
   "outputs": [],
   "source": [
    "B = my_singleton()"
   ]
  },
  {
   "cell_type": "code",
   "execution_count": 29,
   "metadata": {},
   "outputs": [
    {
     "data": {
      "text/plain": [
       "True"
      ]
     },
     "execution_count": 29,
     "metadata": {},
     "output_type": "execute_result"
    }
   ],
   "source": [
    "id(A) == id(B)"
   ]
  },
  {
   "cell_type": "markdown",
   "metadata": {},
   "source": [
    "## Python 函数式编程"
   ]
  },
  {
   "cell_type": "code",
   "execution_count": 56,
   "metadata": {},
   "outputs": [],
   "source": [
    "a = [i  for i in range(1000)]"
   ]
  },
  {
   "cell_type": "code",
   "execution_count": 57,
   "metadata": {},
   "outputs": [],
   "source": [
    "b = filter(lambda x: x%7 == 0, a)"
   ]
  },
  {
   "cell_type": "code",
   "execution_count": 58,
   "metadata": {},
   "outputs": [
    {
     "data": {
      "text/plain": [
       "[0,\n",
       " 7,\n",
       " 14,\n",
       " 21,\n",
       " 28,\n",
       " 35,\n",
       " 42,\n",
       " 49,\n",
       " 56,\n",
       " 63,\n",
       " 70,\n",
       " 77,\n",
       " 84,\n",
       " 91,\n",
       " 98,\n",
       " 105,\n",
       " 112,\n",
       " 119,\n",
       " 126,\n",
       " 133,\n",
       " 140,\n",
       " 147,\n",
       " 154,\n",
       " 161,\n",
       " 168,\n",
       " 175,\n",
       " 182,\n",
       " 189,\n",
       " 196,\n",
       " 203,\n",
       " 210,\n",
       " 217,\n",
       " 224,\n",
       " 231,\n",
       " 238,\n",
       " 245,\n",
       " 252,\n",
       " 259,\n",
       " 266,\n",
       " 273,\n",
       " 280,\n",
       " 287,\n",
       " 294,\n",
       " 301,\n",
       " 308,\n",
       " 315,\n",
       " 322,\n",
       " 329,\n",
       " 336,\n",
       " 343,\n",
       " 350,\n",
       " 357,\n",
       " 364,\n",
       " 371,\n",
       " 378,\n",
       " 385,\n",
       " 392,\n",
       " 399,\n",
       " 406,\n",
       " 413,\n",
       " 420,\n",
       " 427,\n",
       " 434,\n",
       " 441,\n",
       " 448,\n",
       " 455,\n",
       " 462,\n",
       " 469,\n",
       " 476,\n",
       " 483,\n",
       " 490,\n",
       " 497,\n",
       " 504,\n",
       " 511,\n",
       " 518,\n",
       " 525,\n",
       " 532,\n",
       " 539,\n",
       " 546,\n",
       " 553,\n",
       " 560,\n",
       " 567,\n",
       " 574,\n",
       " 581,\n",
       " 588,\n",
       " 595,\n",
       " 602,\n",
       " 609,\n",
       " 616,\n",
       " 623,\n",
       " 630,\n",
       " 637,\n",
       " 644,\n",
       " 651,\n",
       " 658,\n",
       " 665,\n",
       " 672,\n",
       " 679,\n",
       " 686,\n",
       " 693,\n",
       " 700,\n",
       " 707,\n",
       " 714,\n",
       " 721,\n",
       " 728,\n",
       " 735,\n",
       " 742,\n",
       " 749,\n",
       " 756,\n",
       " 763,\n",
       " 770,\n",
       " 777,\n",
       " 784,\n",
       " 791,\n",
       " 798,\n",
       " 805,\n",
       " 812,\n",
       " 819,\n",
       " 826,\n",
       " 833,\n",
       " 840,\n",
       " 847,\n",
       " 854,\n",
       " 861,\n",
       " 868,\n",
       " 875,\n",
       " 882,\n",
       " 889,\n",
       " 896,\n",
       " 903,\n",
       " 910,\n",
       " 917,\n",
       " 924,\n",
       " 931,\n",
       " 938,\n",
       " 945,\n",
       " 952,\n",
       " 959,\n",
       " 966,\n",
       " 973,\n",
       " 980,\n",
       " 987,\n",
       " 994]"
      ]
     },
     "execution_count": 58,
     "metadata": {},
     "output_type": "execute_result"
    }
   ],
   "source": [
    "list(b)"
   ]
  },
  {
   "cell_type": "code",
   "execution_count": 59,
   "metadata": {},
   "outputs": [],
   "source": [
    "c = map(lambda x:x*x, range(100))"
   ]
  },
  {
   "cell_type": "code",
   "execution_count": 60,
   "metadata": {
    "scrolled": true
   },
   "outputs": [
    {
     "data": {
      "text/plain": [
       "[0,\n",
       " 1,\n",
       " 4,\n",
       " 9,\n",
       " 16,\n",
       " 25,\n",
       " 36,\n",
       " 49,\n",
       " 64,\n",
       " 81,\n",
       " 100,\n",
       " 121,\n",
       " 144,\n",
       " 169,\n",
       " 196,\n",
       " 225,\n",
       " 256,\n",
       " 289,\n",
       " 324,\n",
       " 361,\n",
       " 400,\n",
       " 441,\n",
       " 484,\n",
       " 529,\n",
       " 576,\n",
       " 625,\n",
       " 676,\n",
       " 729,\n",
       " 784,\n",
       " 841,\n",
       " 900,\n",
       " 961,\n",
       " 1024,\n",
       " 1089,\n",
       " 1156,\n",
       " 1225,\n",
       " 1296,\n",
       " 1369,\n",
       " 1444,\n",
       " 1521,\n",
       " 1600,\n",
       " 1681,\n",
       " 1764,\n",
       " 1849,\n",
       " 1936,\n",
       " 2025,\n",
       " 2116,\n",
       " 2209,\n",
       " 2304,\n",
       " 2401,\n",
       " 2500,\n",
       " 2601,\n",
       " 2704,\n",
       " 2809,\n",
       " 2916,\n",
       " 3025,\n",
       " 3136,\n",
       " 3249,\n",
       " 3364,\n",
       " 3481,\n",
       " 3600,\n",
       " 3721,\n",
       " 3844,\n",
       " 3969,\n",
       " 4096,\n",
       " 4225,\n",
       " 4356,\n",
       " 4489,\n",
       " 4624,\n",
       " 4761,\n",
       " 4900,\n",
       " 5041,\n",
       " 5184,\n",
       " 5329,\n",
       " 5476,\n",
       " 5625,\n",
       " 5776,\n",
       " 5929,\n",
       " 6084,\n",
       " 6241,\n",
       " 6400,\n",
       " 6561,\n",
       " 6724,\n",
       " 6889,\n",
       " 7056,\n",
       " 7225,\n",
       " 7396,\n",
       " 7569,\n",
       " 7744,\n",
       " 7921,\n",
       " 8100,\n",
       " 8281,\n",
       " 8464,\n",
       " 8649,\n",
       " 8836,\n",
       " 9025,\n",
       " 9216,\n",
       " 9409,\n",
       " 9604,\n",
       " 9801]"
      ]
     },
     "execution_count": 60,
     "metadata": {},
     "output_type": "execute_result"
    }
   ],
   "source": [
    "list(c)"
   ]
  },
  {
   "cell_type": "markdown",
   "metadata": {},
   "source": [
    "## Lambda 函数"
   ]
  },
  {
   "cell_type": "code",
   "execution_count": 61,
   "metadata": {},
   "outputs": [],
   "source": [
    "square = lambda x: x*x"
   ]
  },
  {
   "cell_type": "code",
   "execution_count": 65,
   "metadata": {},
   "outputs": [
    {
     "data": {
      "text/plain": [
       "6"
      ]
     },
     "execution_count": 65,
     "metadata": {},
     "output_type": "execute_result"
    }
   ],
   "source": [
    "square(3)"
   ]
  },
  {
   "cell_type": "code",
   "execution_count": 67,
   "metadata": {},
   "outputs": [],
   "source": [
    "triple = lambda x: x*(x-1)*(x-2)"
   ]
  },
  {
   "cell_type": "code",
   "execution_count": 68,
   "metadata": {},
   "outputs": [
    {
     "data": {
      "text/plain": [
       "7980"
      ]
     },
     "execution_count": 68,
     "metadata": {},
     "output_type": "execute_result"
    }
   ],
   "source": [
    "triple(21)"
   ]
  },
  {
   "cell_type": "markdown",
   "metadata": {},
   "source": [
    "## Python 中的拷贝"
   ]
  },
  {
   "cell_type": "code",
   "execution_count": 66,
   "metadata": {},
   "outputs": [],
   "source": [
    "import copy"
   ]
  },
  {
   "cell_type": "code",
   "execution_count": 77,
   "metadata": {},
   "outputs": [
    {
     "name": "stdout",
     "output_type": "stream",
     "text": [
      "a =  [1, 2, 3, ['a', 'b'], 4]\n",
      "b =  [1, 2, 3, ['a', 'b'], 4]\n",
      "c =  [1, 2, 3, ['a', 'b']]\n",
      "d =  [1, 2, 3, ['a', 'b']]\n",
      "a =  [1, 2, 3, ['a', 'b', 'c'], 4]\n",
      "b =  [1, 2, 3, ['a', 'b', 'c'], 4]\n",
      "c =  [1, 2, 3, ['a', 'b', 'c']]\n",
      "d =  [1, 2, 3, ['a', 'b']]\n",
      "3014696197384 3014696197384 3014696196616 3014696196808\n"
     ]
    }
   ],
   "source": [
    "a = [1,2,3,['a','b']]\n",
    "b = a\n",
    "c = copy.copy(a)\n",
    "d = copy.deepcopy(a)\n",
    "\n",
    "a.append(4)\n",
    "print('a = ',a)\n",
    "print('b = ',b)\n",
    "print('c = ',c)\n",
    "print('d = ',d)\n",
    "a[3].append('c')\n",
    "print('a = ',a)\n",
    "print('b = ',b)\n",
    "print('c = ',c)\n",
    "print('d = ',d)\n",
    "print(id(a), id(b), id(c), id(d))"
   ]
  }
 ],
 "metadata": {
  "kernelspec": {
   "display_name": "Python 3",
   "language": "python",
   "name": "python3"
  },
  "language_info": {
   "codemirror_mode": {
    "name": "ipython",
    "version": 3
   },
   "file_extension": ".py",
   "mimetype": "text/x-python",
   "name": "python",
   "nbconvert_exporter": "python",
   "pygments_lexer": "ipython3",
   "version": "3.7.1"
  }
 },
 "nbformat": 4,
 "nbformat_minor": 2
}
