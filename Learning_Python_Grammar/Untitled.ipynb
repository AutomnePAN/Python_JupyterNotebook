{
 "cells": [
  {
   "cell_type": "markdown",
   "metadata": {},
   "source": [
    "## Python的函数参数传递"
   ]
  },
  {
   "cell_type": "code",
   "execution_count": 3,
   "metadata": {},
   "outputs": [
    {
     "name": "stdout",
     "output_type": "stream",
     "text": [
      "Outfunction:  1 140734386320208 140734386320208\n",
      "Infunction:  2 140734386320240 140734386320240\n"
     ]
    },
    {
     "data": {
      "text/plain": [
       "2"
      ]
     },
     "execution_count": 3,
     "metadata": {},
     "output_type": "execute_result"
    }
   ],
   "source": [
    "a = 1\n",
    "def f(a):\n",
    "    a  = 2;\n",
    "    print (\"Infunction: \", a, id(a), id(2))\n",
    "    return a;\n",
    "print (\"Outfunction: \", a, id(a), id(1))\n",
    "f(a)"
   ]
  },
  {
   "cell_type": "markdown",
   "metadata": {},
   "source": [
    "## StaticMethod and ClassMethod"
   ]
  },
  {
   "cell_type": "code",
   "execution_count": 41,
   "metadata": {},
   "outputs": [],
   "source": [
    "def fun(x):\n",
    "    print(\"We are executing: %s\", x);\n",
    "\n",
    "class A(object):\n",
    "    def __init__(self, a, b):\n",
    "        self.a = a;\n",
    "        self.b = b;\n",
    "    \n",
    "    def foo(self,x):\n",
    "        print ( \"executing foo(%s,%s)\"%(self,x) )\n",
    "        print (\"A + B = \", self.a + self.b)\n",
    "\n",
    "    @classmethod\n",
    "    def class_foo(cls,x):\n",
    "        print ( \"executing class_foo(%s,%s)\"%(cls,x) )\n",
    "        print (\"A + B = \", cls.A + cls.B)\n",
    "\n",
    "    @staticmethod\n",
    "    def static_foo(x):\n",
    "        print ( \"executing static_foo(%s)\"% x )\n",
    "        \n",
    "\n",
    "a=A(12,13)"
   ]
  },
  {
   "cell_type": "code",
   "execution_count": 43,
   "metadata": {},
   "outputs": [
    {
     "name": "stdout",
     "output_type": "stream",
     "text": [
      "executing static_foo(12)\n"
     ]
    }
   ],
   "source": [
    "a.static_foo(12)"
   ]
  },
  {
   "cell_type": "markdown",
   "metadata": {},
   "source": [
    "## Class Variable and Instantial Variable"
   ]
  },
  {
   "cell_type": "code",
   "execution_count": 54,
   "metadata": {},
   "outputs": [],
   "source": [
    "class Test:\n",
    "    nums_of_student = 0;\n",
    "    def __init__(self, name, grade):\n",
    "        self.name = name;\n",
    "        self.grade = grade;\n",
    "        Test.nums_of_student += 1;\n",
    "    \n",
    "    def print_test(self):\n",
    "        print(\"name: \", self.name, \"; grade, \", self.grade);\n",
    "        print(\"Total persons: \", Test.nums_of_student);"
   ]
  },
  {
   "cell_type": "code",
   "execution_count": 55,
   "metadata": {},
   "outputs": [],
   "source": [
    "A = Test(\"Bob\", 123)\n",
    "B= Test(\"Judy\", 124)"
   ]
  },
  {
   "cell_type": "code",
   "execution_count": 56,
   "metadata": {},
   "outputs": [
    {
     "name": "stdout",
     "output_type": "stream",
     "text": [
      "name:  Bob ; grade,  123\n",
      "Total persons:  2\n"
     ]
    }
   ],
   "source": [
    "A.print_test()"
   ]
  },
  {
   "cell_type": "code",
   "execution_count": 57,
   "metadata": {},
   "outputs": [
    {
     "name": "stdout",
     "output_type": "stream",
     "text": [
      "Allan\n",
      "Bob\n",
      "humanité\n"
     ]
    }
   ],
   "source": [
    "class Person:\n",
    "    name = \"humanité\"\n",
    "    \n",
    "A = Person();\n",
    "B = Person();\n",
    "A.name = \"Allan\"\n",
    "B.name = \"Bob\"\n",
    "print(A.name)\n",
    "print(B.name)\n",
    "print(Person.name)"
   ]
  },
  {
   "cell_type": "markdown",
   "metadata": {},
   "source": [
    "## Self detection"
   ]
  },
  {
   "cell_type": "code",
   "execution_count": 60,
   "metadata": {},
   "outputs": [
    {
     "name": "stdout",
     "output_type": "stream",
     "text": [
      "<class 'list'> <class 'dict'> <class 'bool'>\n"
     ]
    }
   ],
   "source": [
    "A = [1,2,3]\n",
    "B = {1:'A', 2:'B', 3:'C'}\n",
    "C = True\n",
    "print(type(A) ,type(B) , type(C))"
   ]
  },
  {
   "cell_type": "markdown",
   "metadata": {},
   "source": [
    "## 列表推导式"
   ]
  },
  {
   "cell_type": "code",
   "execution_count": 66,
   "metadata": {},
   "outputs": [],
   "source": [
    "FiveMinutes_List  = [(a,b) for a in range(24) for b in range(0,60,5)]"
   ]
  },
  {
   "cell_type": "code",
   "execution_count": 70,
   "metadata": {},
   "outputs": [
    {
     "data": {
      "text/plain": [
       "[(0, 0),\n",
       " (0, 5),\n",
       " (0, 10),\n",
       " (0, 15),\n",
       " (0, 20),\n",
       " (0, 25),\n",
       " (0, 30),\n",
       " (0, 35),\n",
       " (0, 40),\n",
       " (0, 45),\n",
       " (0, 50),\n",
       " (0, 55),\n",
       " (1, 0),\n",
       " (1, 5),\n",
       " (1, 10),\n",
       " (1, 15),\n",
       " (1, 20),\n",
       " (1, 25),\n",
       " (1, 30),\n",
       " (1, 35),\n",
       " (1, 40),\n",
       " (1, 45),\n",
       " (1, 50),\n",
       " (1, 55),\n",
       " (2, 0),\n",
       " (2, 5),\n",
       " (2, 10),\n",
       " (2, 15),\n",
       " (2, 20),\n",
       " (2, 25),\n",
       " (2, 30),\n",
       " (2, 35),\n",
       " (2, 40),\n",
       " (2, 45),\n",
       " (2, 50),\n",
       " (2, 55),\n",
       " (3, 0),\n",
       " (3, 5),\n",
       " (3, 10),\n",
       " (3, 15),\n",
       " (3, 20),\n",
       " (3, 25),\n",
       " (3, 30),\n",
       " (3, 35),\n",
       " (3, 40),\n",
       " (3, 45),\n",
       " (3, 50),\n",
       " (3, 55),\n",
       " (4, 0),\n",
       " (4, 5),\n",
       " (4, 10),\n",
       " (4, 15),\n",
       " (4, 20),\n",
       " (4, 25),\n",
       " (4, 30),\n",
       " (4, 35),\n",
       " (4, 40),\n",
       " (4, 45),\n",
       " (4, 50),\n",
       " (4, 55),\n",
       " (5, 0),\n",
       " (5, 5),\n",
       " (5, 10),\n",
       " (5, 15),\n",
       " (5, 20),\n",
       " (5, 25),\n",
       " (5, 30),\n",
       " (5, 35),\n",
       " (5, 40),\n",
       " (5, 45),\n",
       " (5, 50),\n",
       " (5, 55),\n",
       " (6, 0),\n",
       " (6, 5),\n",
       " (6, 10),\n",
       " (6, 15),\n",
       " (6, 20),\n",
       " (6, 25),\n",
       " (6, 30),\n",
       " (6, 35),\n",
       " (6, 40),\n",
       " (6, 45),\n",
       " (6, 50),\n",
       " (6, 55),\n",
       " (7, 0),\n",
       " (7, 5),\n",
       " (7, 10),\n",
       " (7, 15),\n",
       " (7, 20),\n",
       " (7, 25),\n",
       " (7, 30),\n",
       " (7, 35),\n",
       " (7, 40),\n",
       " (7, 45),\n",
       " (7, 50),\n",
       " (7, 55),\n",
       " (8, 0),\n",
       " (8, 5),\n",
       " (8, 10),\n",
       " (8, 15),\n",
       " (8, 20),\n",
       " (8, 25),\n",
       " (8, 30),\n",
       " (8, 35),\n",
       " (8, 40),\n",
       " (8, 45),\n",
       " (8, 50),\n",
       " (8, 55),\n",
       " (9, 0),\n",
       " (9, 5),\n",
       " (9, 10),\n",
       " (9, 15),\n",
       " (9, 20),\n",
       " (9, 25),\n",
       " (9, 30),\n",
       " (9, 35),\n",
       " (9, 40),\n",
       " (9, 45),\n",
       " (9, 50),\n",
       " (9, 55),\n",
       " (10, 0),\n",
       " (10, 5),\n",
       " (10, 10),\n",
       " (10, 15),\n",
       " (10, 20),\n",
       " (10, 25),\n",
       " (10, 30),\n",
       " (10, 35),\n",
       " (10, 40),\n",
       " (10, 45),\n",
       " (10, 50),\n",
       " (10, 55),\n",
       " (11, 0),\n",
       " (11, 5),\n",
       " (11, 10),\n",
       " (11, 15),\n",
       " (11, 20),\n",
       " (11, 25),\n",
       " (11, 30),\n",
       " (11, 35),\n",
       " (11, 40),\n",
       " (11, 45),\n",
       " (11, 50),\n",
       " (11, 55),\n",
       " (12, 0),\n",
       " (12, 5),\n",
       " (12, 10),\n",
       " (12, 15),\n",
       " (12, 20),\n",
       " (12, 25),\n",
       " (12, 30),\n",
       " (12, 35),\n",
       " (12, 40),\n",
       " (12, 45),\n",
       " (12, 50),\n",
       " (12, 55),\n",
       " (13, 0),\n",
       " (13, 5),\n",
       " (13, 10),\n",
       " (13, 15),\n",
       " (13, 20),\n",
       " (13, 25),\n",
       " (13, 30),\n",
       " (13, 35),\n",
       " (13, 40),\n",
       " (13, 45),\n",
       " (13, 50),\n",
       " (13, 55),\n",
       " (14, 0),\n",
       " (14, 5),\n",
       " (14, 10),\n",
       " (14, 15),\n",
       " (14, 20),\n",
       " (14, 25),\n",
       " (14, 30),\n",
       " (14, 35),\n",
       " (14, 40),\n",
       " (14, 45),\n",
       " (14, 50),\n",
       " (14, 55),\n",
       " (15, 0),\n",
       " (15, 5),\n",
       " (15, 10),\n",
       " (15, 15),\n",
       " (15, 20),\n",
       " (15, 25),\n",
       " (15, 30),\n",
       " (15, 35),\n",
       " (15, 40),\n",
       " (15, 45),\n",
       " (15, 50),\n",
       " (15, 55),\n",
       " (16, 0),\n",
       " (16, 5),\n",
       " (16, 10),\n",
       " (16, 15),\n",
       " (16, 20),\n",
       " (16, 25),\n",
       " (16, 30),\n",
       " (16, 35),\n",
       " (16, 40),\n",
       " (16, 45),\n",
       " (16, 50),\n",
       " (16, 55),\n",
       " (17, 0),\n",
       " (17, 5),\n",
       " (17, 10),\n",
       " (17, 15),\n",
       " (17, 20),\n",
       " (17, 25),\n",
       " (17, 30),\n",
       " (17, 35),\n",
       " (17, 40),\n",
       " (17, 45),\n",
       " (17, 50),\n",
       " (17, 55),\n",
       " (18, 0),\n",
       " (18, 5),\n",
       " (18, 10),\n",
       " (18, 15),\n",
       " (18, 20),\n",
       " (18, 25),\n",
       " (18, 30),\n",
       " (18, 35),\n",
       " (18, 40),\n",
       " (18, 45),\n",
       " (18, 50),\n",
       " (18, 55),\n",
       " (19, 0),\n",
       " (19, 5),\n",
       " (19, 10),\n",
       " (19, 15),\n",
       " (19, 20),\n",
       " (19, 25),\n",
       " (19, 30),\n",
       " (19, 35),\n",
       " (19, 40),\n",
       " (19, 45),\n",
       " (19, 50),\n",
       " (19, 55),\n",
       " (20, 0),\n",
       " (20, 5),\n",
       " (20, 10),\n",
       " (20, 15),\n",
       " (20, 20),\n",
       " (20, 25),\n",
       " (20, 30),\n",
       " (20, 35),\n",
       " (20, 40),\n",
       " (20, 45),\n",
       " (20, 50),\n",
       " (20, 55),\n",
       " (21, 0),\n",
       " (21, 5),\n",
       " (21, 10),\n",
       " (21, 15),\n",
       " (21, 20),\n",
       " (21, 25),\n",
       " (21, 30),\n",
       " (21, 35),\n",
       " (21, 40),\n",
       " (21, 45),\n",
       " (21, 50),\n",
       " (21, 55),\n",
       " (22, 0),\n",
       " (22, 5),\n",
       " (22, 10),\n",
       " (22, 15),\n",
       " (22, 20),\n",
       " (22, 25),\n",
       " (22, 30),\n",
       " (22, 35),\n",
       " (22, 40),\n",
       " (22, 45),\n",
       " (22, 50),\n",
       " (22, 55),\n",
       " (23, 0),\n",
       " (23, 5),\n",
       " (23, 10),\n",
       " (23, 15),\n",
       " (23, 20),\n",
       " (23, 25),\n",
       " (23, 30),\n",
       " (23, 35),\n",
       " (23, 40),\n",
       " (23, 45),\n",
       " (23, 50),\n",
       " (23, 55)]"
      ]
     },
     "execution_count": 70,
     "metadata": {},
     "output_type": "execute_result"
    }
   ],
   "source": [
    "FiveMinutes_List"
   ]
  },
  {
   "cell_type": "code",
   "execution_count": 71,
   "metadata": {},
   "outputs": [],
   "source": [
    "# point multiple of two Matrix\n",
    "M = [[1,2,3],[4,5,6],[7,8,9]]\n",
    "N = [[4,4,4],[5,5,5],[6,6,6]]\n",
    "Mult = [M[r][c]*N[r][c] for r in range(3) for  c in range(3)]"
   ]
  },
  {
   "cell_type": "code",
   "execution_count": 72,
   "metadata": {},
   "outputs": [
    {
     "data": {
      "text/plain": [
       "[4, 8, 12, 20, 25, 30, 42, 48, 54]"
      ]
     },
     "execution_count": 72,
     "metadata": {},
     "output_type": "execute_result"
    }
   ],
   "source": [
    "Mult"
   ]
  },
  {
   "cell_type": "markdown",
   "metadata": {},
   "source": [
    "## 字典推导式"
   ]
  },
  {
   "cell_type": "code",
   "execution_count": 73,
   "metadata": {},
   "outputs": [
    {
     "ename": "SyntaxError",
     "evalue": "invalid syntax (<ipython-input-73-e3edc2c7448c>, line 1)",
     "output_type": "error",
     "traceback": [
      "\u001b[1;36m  File \u001b[1;32m\"<ipython-input-73-e3edc2c7448c>\"\u001b[1;36m, line \u001b[1;32m1\u001b[0m\n\u001b[1;33m    d = {key: value for key in range(1,100) value in range(1,200,2)}\u001b[0m\n\u001b[1;37m                                                ^\u001b[0m\n\u001b[1;31mSyntaxError\u001b[0m\u001b[1;31m:\u001b[0m invalid syntax\n"
     ]
    }
   ],
   "source": [
    "d = {key: value for key in range(1,100) value in range(1,200,2)}"
   ]
  }
 ],
 "metadata": {
  "kernelspec": {
   "display_name": "Python 3",
   "language": "python",
   "name": "python3"
  },
  "language_info": {
   "codemirror_mode": {
    "name": "ipython",
    "version": 3
   },
   "file_extension": ".py",
   "mimetype": "text/x-python",
   "name": "python",
   "nbconvert_exporter": "python",
   "pygments_lexer": "ipython3",
   "version": "3.7.1"
  }
 },
 "nbformat": 4,
 "nbformat_minor": 2
}
