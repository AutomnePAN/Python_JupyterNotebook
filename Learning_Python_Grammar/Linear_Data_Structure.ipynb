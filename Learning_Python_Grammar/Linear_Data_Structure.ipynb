{
 "cells": [
  {
   "cell_type": "markdown",
   "metadata": {},
   "source": [
    "# Linked List"
   ]
  },
  {
   "cell_type": "code",
   "execution_count": 1,
   "metadata": {},
   "outputs": [],
   "source": [
    "import  numpy as np"
   ]
  },
  {
   "cell_type": "code",
   "execution_count": 4,
   "metadata": {},
   "outputs": [],
   "source": [
    "class Node():\n",
    "    def __init__(self, data):\n",
    "        self.data = data;\n",
    "        self.next = None;"
   ]
  },
  {
   "cell_type": "code",
   "execution_count": 79,
   "metadata": {},
   "outputs": [],
   "source": [
    "class Linked_list():\n",
    "    def __init__(self):\n",
    "        self.header = Node(None);\n",
    "        \n",
    "    def _len_(self):\n",
    "        tf = self.header;\n",
    "        counter = 0\n",
    "        while(tf.next != None):\n",
    "            counter = counter + 1;\n",
    "            tf = tf.next;\n",
    "        return counter;\n",
    "    \n",
    "    def insert(self, data, index):\n",
    "        new_node = Node(data);\n",
    "        fr = self.header;\n",
    "        i = 0\n",
    "        while(fr != None)and( i < index ):\n",
    "            fr = fr.next;\n",
    "            i = i + 1\n",
    "        if(fr == None):\n",
    "            print(\"Insertion fail, index out of range!\")\n",
    "        else:\n",
    "            temp = fr.next;\n",
    "            fr.next = new_node;\n",
    "            new_node.next = temp;\n",
    "        \n",
    "    def append(self, data):\n",
    "        new_node = Node(data);\n",
    "        fr = self.header;\n",
    "        while(fr.next!=None):\n",
    "            fr = fr.next;\n",
    "        fr.next = new_node;\n",
    "        \n",
    "        \n",
    "    def remove(self):\n",
    "        fr = self.header;\n",
    "        if( fr.next == None):\n",
    "            print(\"Error: There is nothing to remove\")\n",
    "        else:\n",
    "            while(fr.next.next != None):\n",
    "                fr = fr.next;\n",
    "            fr.next = None\n",
    "            \n",
    "    def print_list(self):\n",
    "        fr = self.header.next;\n",
    "        while(fr != None):\n",
    "            print(fr.data, end = \" \")\n",
    "            fr = fr.next\n",
    "            \n",
    "    def search(self, data):\n",
    "        index = -1;\n",
    "        fr = self.header.next;\n",
    "        while(fr.data != data):\n",
    "            fr = fr.next;\n",
    "            index = index + 1;\n",
    "        return index\n",
    "    \n",
    "    \n",
    "        "
   ]
  },
  {
   "cell_type": "code",
   "execution_count": 80,
   "metadata": {},
   "outputs": [],
   "source": [
    "Students = Linked_list()"
   ]
  },
  {
   "cell_type": "code",
   "execution_count": 81,
   "metadata": {},
   "outputs": [],
   "source": [
    "for i in range(10):\n",
    "    Students.append(i+i*i+i*i*i)"
   ]
  },
  {
   "cell_type": "code",
   "execution_count": 82,
   "metadata": {},
   "outputs": [
    {
     "name": "stdout",
     "output_type": "stream",
     "text": [
      "0 3 14 39 84 155 258 399 584 819 "
     ]
    },
    {
     "data": {
      "text/plain": [
       "10"
      ]
     },
     "execution_count": 82,
     "metadata": {},
     "output_type": "execute_result"
    }
   ],
   "source": [
    "Students.print_list()\n",
    "Students._len_()"
   ]
  },
  {
   "cell_type": "code",
   "execution_count": 83,
   "metadata": {},
   "outputs": [],
   "source": [
    "Students.append(\"ALan\")\n",
    "Students.append(\"Dick\")\n",
    "Students.append(\"Charles\")"
   ]
  },
  {
   "cell_type": "code",
   "execution_count": 84,
   "metadata": {},
   "outputs": [
    {
     "name": "stdout",
     "output_type": "stream",
     "text": [
      "0 3 14 39 84 155 258 399 584 819 ALan Dick Charles "
     ]
    }
   ],
   "source": [
    "Students.print_list()"
   ]
  },
  {
   "cell_type": "code",
   "execution_count": 85,
   "metadata": {},
   "outputs": [
    {
     "name": "stdout",
     "output_type": "stream",
     "text": [
      "0 3 14 Edward 39 84 155 258 399 584 819 ALan Dick Charles "
     ]
    },
    {
     "data": {
      "text/plain": [
       "14"
      ]
     },
     "execution_count": 85,
     "metadata": {},
     "output_type": "execute_result"
    }
   ],
   "source": [
    "Students.insert(\"Edward\", 3)\n",
    "Students.print_list()\n",
    "Students._len_()"
   ]
  },
  {
   "cell_type": "code",
   "execution_count": 87,
   "metadata": {},
   "outputs": [
    {
     "ename": "AttributeError",
     "evalue": "'NoneType' object has no attribute 'data'",
     "output_type": "error",
     "traceback": [
      "\u001b[1;31m---------------------------------------------------------------------------\u001b[0m",
      "\u001b[1;31mAttributeError\u001b[0m                            Traceback (most recent call last)",
      "\u001b[1;32m<ipython-input-87-4d723d855429>\u001b[0m in \u001b[0;36m<module>\u001b[1;34m\u001b[0m\n\u001b[1;32m----> 1\u001b[1;33m \u001b[0mStudents\u001b[0m\u001b[1;33m.\u001b[0m\u001b[0msearch\u001b[0m\u001b[1;33m(\u001b[0m\u001b[1;34m'Bob'\u001b[0m\u001b[1;33m)\u001b[0m\u001b[1;33m\u001b[0m\u001b[1;33m\u001b[0m\u001b[0m\n\u001b[0m",
      "\u001b[1;32m<ipython-input-79-133242e9c741>\u001b[0m in \u001b[0;36msearch\u001b[1;34m(self, data)\u001b[0m\n\u001b[0;32m     51\u001b[0m         \u001b[0mindex\u001b[0m \u001b[1;33m=\u001b[0m \u001b[1;33m-\u001b[0m\u001b[1;36m1\u001b[0m\u001b[1;33m;\u001b[0m\u001b[1;33m\u001b[0m\u001b[1;33m\u001b[0m\u001b[0m\n\u001b[0;32m     52\u001b[0m         \u001b[0mfr\u001b[0m \u001b[1;33m=\u001b[0m \u001b[0mself\u001b[0m\u001b[1;33m.\u001b[0m\u001b[0mheader\u001b[0m\u001b[1;33m.\u001b[0m\u001b[0mnext\u001b[0m\u001b[1;33m;\u001b[0m\u001b[1;33m\u001b[0m\u001b[1;33m\u001b[0m\u001b[0m\n\u001b[1;32m---> 53\u001b[1;33m         \u001b[1;32mwhile\u001b[0m\u001b[1;33m(\u001b[0m\u001b[0mfr\u001b[0m\u001b[1;33m.\u001b[0m\u001b[0mdata\u001b[0m \u001b[1;33m!=\u001b[0m \u001b[0mdata\u001b[0m\u001b[1;33m)\u001b[0m\u001b[1;33m:\u001b[0m\u001b[1;33m\u001b[0m\u001b[1;33m\u001b[0m\u001b[0m\n\u001b[0m\u001b[0;32m     54\u001b[0m             \u001b[0mfr\u001b[0m \u001b[1;33m=\u001b[0m \u001b[0mfr\u001b[0m\u001b[1;33m.\u001b[0m\u001b[0mnext\u001b[0m\u001b[1;33m;\u001b[0m\u001b[1;33m\u001b[0m\u001b[1;33m\u001b[0m\u001b[0m\n\u001b[0;32m     55\u001b[0m             \u001b[0mindex\u001b[0m \u001b[1;33m=\u001b[0m \u001b[0mindex\u001b[0m \u001b[1;33m+\u001b[0m \u001b[1;36m1\u001b[0m\u001b[1;33m;\u001b[0m\u001b[1;33m\u001b[0m\u001b[1;33m\u001b[0m\u001b[0m\n",
      "\u001b[1;31mAttributeError\u001b[0m: 'NoneType' object has no attribute 'data'"
     ]
    }
   ],
   "source": [
    "Students.search('Bob')"
   ]
  },
  {
   "cell_type": "markdown",
   "metadata": {},
   "source": [
    "# Stack"
   ]
  },
  {
   "cell_type": "code",
   "execution_count": 92,
   "metadata": {},
   "outputs": [],
   "source": [
    "class Stack(object):\n",
    "    def __init__(self, top = Node(None)):\n",
    "        self.top = top;\n",
    "        \n",
    "    def push(self, data):\n",
    "        new_node = Node(data);\n",
    "        new_node.next = self.top\n",
    "        self.top = new_node;\n",
    "        \n",
    "    def pop(self):\n",
    "        temps = self.top.data\n",
    "        self.top = self.top.next;\n",
    "        return temps\n",
    "\n",
    "    def print_stack(self):\n",
    "        fr = self.top;\n",
    "        while(fr.data != None):\n",
    "            print(fr.data, end = \" \")\n",
    "            fr = fr.next;\n",
    "        "
   ]
  },
  {
   "cell_type": "code",
   "execution_count": 93,
   "metadata": {},
   "outputs": [],
   "source": [
    "St = Stack()\n",
    "St.print_stack()"
   ]
  },
  {
   "cell_type": "code",
   "execution_count": 94,
   "metadata": {},
   "outputs": [
    {
     "name": "stdout",
     "output_type": "stream",
     "text": [
      "9\n",
      "20\n",
      "9\n",
      "37\n",
      "20\n",
      "9\n",
      "66\n",
      "37\n",
      "20\n",
      "9\n",
      "113\n",
      "66\n",
      "37\n",
      "20\n",
      "9\n",
      "184\n",
      "113\n",
      "66\n",
      "37\n",
      "20\n",
      "9\n",
      "285\n",
      "184\n",
      "113\n",
      "66\n",
      "37\n",
      "20\n",
      "9\n",
      "422\n",
      "285\n",
      "184\n",
      "113\n",
      "66\n",
      "37\n",
      "20\n",
      "9\n",
      "601\n",
      "422\n",
      "285\n",
      "184\n",
      "113\n",
      "66\n",
      "37\n",
      "20\n",
      "9\n",
      "828\n",
      "601\n",
      "422\n",
      "285\n",
      "184\n",
      "113\n",
      "66\n",
      "37\n",
      "20\n",
      "9\n",
      "1109\n",
      "828\n",
      "601\n",
      "422\n",
      "285\n",
      "184\n",
      "113\n",
      "66\n",
      "37\n",
      "20\n",
      "9\n",
      "1450\n",
      "1109\n",
      "828\n",
      "601\n",
      "422\n",
      "285\n",
      "184\n",
      "113\n",
      "66\n",
      "37\n",
      "20\n",
      "9\n",
      "1857\n",
      "1450\n",
      "1109\n",
      "828\n",
      "601\n",
      "422\n",
      "285\n",
      "184\n",
      "113\n",
      "66\n",
      "37\n",
      "20\n",
      "9\n",
      "2336\n",
      "1857\n",
      "1450\n",
      "1109\n",
      "828\n",
      "601\n",
      "422\n",
      "285\n",
      "184\n",
      "113\n",
      "66\n",
      "37\n",
      "20\n",
      "9\n",
      "2893\n",
      "2336\n",
      "1857\n",
      "1450\n",
      "1109\n",
      "828\n",
      "601\n",
      "422\n",
      "285\n",
      "184\n",
      "113\n",
      "66\n",
      "37\n",
      "20\n",
      "9\n",
      "3534\n",
      "2893\n",
      "2336\n",
      "1857\n",
      "1450\n",
      "1109\n",
      "828\n",
      "601\n",
      "422\n",
      "285\n",
      "184\n",
      "113\n",
      "66\n",
      "37\n",
      "20\n",
      "9\n",
      "4265\n",
      "3534\n",
      "2893\n",
      "2336\n",
      "1857\n",
      "1450\n",
      "1109\n",
      "828\n",
      "601\n",
      "422\n",
      "285\n",
      "184\n",
      "113\n",
      "66\n",
      "37\n",
      "20\n",
      "9\n",
      "5092\n",
      "4265\n",
      "3534\n",
      "2893\n",
      "2336\n",
      "1857\n",
      "1450\n",
      "1109\n",
      "828\n",
      "601\n",
      "422\n",
      "285\n",
      "184\n",
      "113\n",
      "66\n",
      "37\n",
      "20\n",
      "9\n",
      "6021\n",
      "5092\n",
      "4265\n",
      "3534\n",
      "2893\n",
      "2336\n",
      "1857\n",
      "1450\n",
      "1109\n",
      "828\n",
      "601\n",
      "422\n",
      "285\n",
      "184\n",
      "113\n",
      "66\n",
      "37\n",
      "20\n",
      "9\n",
      "7058\n",
      "6021\n",
      "5092\n",
      "4265\n",
      "3534\n",
      "2893\n",
      "2336\n",
      "1857\n",
      "1450\n",
      "1109\n",
      "828\n",
      "601\n",
      "422\n",
      "285\n",
      "184\n",
      "113\n",
      "66\n",
      "37\n",
      "20\n",
      "9\n"
     ]
    }
   ],
   "source": [
    "for i in range(20):\n",
    "    St.push(i*i*i + 9 + 10*i)\n",
    "    St.print_stack()"
   ]
  },
  {
   "cell_type": "code",
   "execution_count": 116,
   "metadata": {},
   "outputs": [
    {
     "ename": "AttributeError",
     "evalue": "'NoneType' object has no attribute 'data'",
     "output_type": "error",
     "traceback": [
      "\u001b[1;31m---------------------------------------------------------------------------\u001b[0m",
      "\u001b[1;31mAttributeError\u001b[0m                            Traceback (most recent call last)",
      "\u001b[1;32m<ipython-input-116-96414f8330be>\u001b[0m in \u001b[0;36m<module>\u001b[1;34m\u001b[0m\n\u001b[1;32m----> 1\u001b[1;33m \u001b[0mSt\u001b[0m\u001b[1;33m.\u001b[0m\u001b[0mpop\u001b[0m\u001b[1;33m(\u001b[0m\u001b[1;33m)\u001b[0m\u001b[1;33m\u001b[0m\u001b[1;33m\u001b[0m\u001b[0m\n\u001b[0m",
      "\u001b[1;32m<ipython-input-92-beefd394998c>\u001b[0m in \u001b[0;36mpop\u001b[1;34m(self)\u001b[0m\n\u001b[0;32m      9\u001b[0m \u001b[1;33m\u001b[0m\u001b[0m\n\u001b[0;32m     10\u001b[0m     \u001b[1;32mdef\u001b[0m \u001b[0mpop\u001b[0m\u001b[1;33m(\u001b[0m\u001b[0mself\u001b[0m\u001b[1;33m)\u001b[0m\u001b[1;33m:\u001b[0m\u001b[1;33m\u001b[0m\u001b[1;33m\u001b[0m\u001b[0m\n\u001b[1;32m---> 11\u001b[1;33m         \u001b[0mtemps\u001b[0m \u001b[1;33m=\u001b[0m \u001b[0mself\u001b[0m\u001b[1;33m.\u001b[0m\u001b[0mtop\u001b[0m\u001b[1;33m.\u001b[0m\u001b[0mdata\u001b[0m\u001b[1;33m\u001b[0m\u001b[1;33m\u001b[0m\u001b[0m\n\u001b[0m\u001b[0;32m     12\u001b[0m         \u001b[0mself\u001b[0m\u001b[1;33m.\u001b[0m\u001b[0mtop\u001b[0m \u001b[1;33m=\u001b[0m \u001b[0mself\u001b[0m\u001b[1;33m.\u001b[0m\u001b[0mtop\u001b[0m\u001b[1;33m.\u001b[0m\u001b[0mnext\u001b[0m\u001b[1;33m;\u001b[0m\u001b[1;33m\u001b[0m\u001b[1;33m\u001b[0m\u001b[0m\n\u001b[0;32m     13\u001b[0m         \u001b[1;32mreturn\u001b[0m \u001b[0mtemps\u001b[0m\u001b[1;33m\u001b[0m\u001b[1;33m\u001b[0m\u001b[0m\n",
      "\u001b[1;31mAttributeError\u001b[0m: 'NoneType' object has no attribute 'data'"
     ]
    }
   ],
   "source": [
    "St.pop()"
   ]
  }
 ],
 "metadata": {
  "kernelspec": {
   "display_name": "Python 3",
   "language": "python",
   "name": "python3"
  },
  "language_info": {
   "codemirror_mode": {
    "name": "ipython",
    "version": 3
   },
   "file_extension": ".py",
   "mimetype": "text/x-python",
   "name": "python",
   "nbconvert_exporter": "python",
   "pygments_lexer": "ipython3",
   "version": "3.7.1"
  }
 },
 "nbformat": 4,
 "nbformat_minor": 2
}
