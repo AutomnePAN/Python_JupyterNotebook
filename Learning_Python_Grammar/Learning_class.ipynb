{
 "cells": [
  {
   "cell_type": "code",
   "execution_count": 62,
   "metadata": {},
   "outputs": [],
   "source": [
    "class Circle:\n",
    "    \n",
    "    def __init__(self, rayon = 0, x = 0, y = 0):\n",
    "        self.r = rayon\n",
    "        self.cx = x\n",
    "        self.cy = y\n",
    "    def print_circle(self):\n",
    "        print(\"This circle's center is at  (\" ,self.cx ,\",\" , self.cy , \"), its rayon is: \",self.r)"
   ]
  },
  {
   "cell_type": "code",
   "execution_count": 63,
   "metadata": {},
   "outputs": [],
   "source": [
    "C = Circle(10, 1,1)"
   ]
  },
  {
   "cell_type": "code",
   "execution_count": 64,
   "metadata": {},
   "outputs": [
    {
     "name": "stdout",
     "output_type": "stream",
     "text": [
      "This circle's center is at  ( 1 , 1 ), its rayon is:  10\n"
     ]
    }
   ],
   "source": [
    "C.print_circle()"
   ]
  },
  {
   "cell_type": "code",
   "execution_count": 58,
   "metadata": {},
   "outputs": [],
   "source": [
    "class Student():\n",
    "    \n",
    "    def __init__(self, name, age, grade):\n",
    "        self.name = name;\n",
    "        self.age = age;\n",
    "        self.grade = grade;\n",
    "    def print_student(self):\n",
    "        print(\"The student name is: \", self.name)"
   ]
  },
  {
   "cell_type": "code",
   "execution_count": 60,
   "metadata": {},
   "outputs": [],
   "source": [
    "A = Student(\"Bob\", 12, 98)"
   ]
  },
  {
   "cell_type": "code",
   "execution_count": 61,
   "metadata": {},
   "outputs": [
    {
     "name": "stdout",
     "output_type": "stream",
     "text": [
      "The student name is:  Bob\n"
     ]
    }
   ],
   "source": [
    "A.print_student()"
   ]
  },
  {
   "cell_type": "code",
   "execution_count": 69,
   "metadata": {},
   "outputs": [],
   "source": [
    "class Highschool_Student(Student):\n",
    "    def __init__(self, name, age, grade, level):\n",
    "        super().__init__(name, age, grade);\n",
    "        self.level = level;\n",
    "    def print_student(self):\n",
    "        super().print_student();\n",
    "        print(\"The student is of \", self.level , \" level\")"
   ]
  },
  {
   "cell_type": "code",
   "execution_count": 70,
   "metadata": {},
   "outputs": [],
   "source": [
    "B = Highschool_Student(\"Sam\", 16, 87, 3)"
   ]
  },
  {
   "cell_type": "code",
   "execution_count": 71,
   "metadata": {},
   "outputs": [
    {
     "name": "stdout",
     "output_type": "stream",
     "text": [
      "The student name is:  Sam\n",
      "The student is of  3  level\n"
     ]
    }
   ],
   "source": [
    "B.print_student()"
   ]
  }
 ],
 "metadata": {
  "kernelspec": {
   "display_name": "Python 3",
   "language": "python",
   "name": "python3"
  },
  "language_info": {
   "codemirror_mode": {
    "name": "ipython",
    "version": 3
   },
   "file_extension": ".py",
   "mimetype": "text/x-python",
   "name": "python",
   "nbconvert_exporter": "python",
   "pygments_lexer": "ipython3",
   "version": "3.7.1"
  }
 },
 "nbformat": 4,
 "nbformat_minor": 2
}
