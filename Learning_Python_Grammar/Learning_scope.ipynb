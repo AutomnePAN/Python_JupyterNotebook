{
 "cells": [
  {
   "cell_type": "code",
   "execution_count": 2,
   "metadata": {},
   "outputs": [
    {
     "name": "stdout",
     "output_type": "stream",
     "text": [
      "test spam\n",
      "nonlocal spam\n",
      "nonlocal spam\n",
      "global spam\n"
     ]
    }
   ],
   "source": [
    "def test_scope():\n",
    "    def scope_local():\n",
    "        spam = \"local spam\";\n",
    "    def scope_nonlocal():\n",
    "        nonlocal spam \n",
    "        spam = \"nonlocal spam\"\n",
    "    def scope_global():\n",
    "        global spam \n",
    "        spam = \"global spam\"\n",
    "    spam = \"test spam\"\n",
    "    scope_local();\n",
    "    print(spam);\n",
    "    scope_nonlocal();\n",
    "    print(spam)\n",
    "    scope_global();\n",
    "    print(spam)\n",
    "test_scope()\n",
    "print(spam)"
   ]
  }
 ],
 "metadata": {
  "kernelspec": {
   "display_name": "Python (36)",
   "language": "python",
   "name": "python36"
  },
  "language_info": {
   "codemirror_mode": {
    "name": "ipython",
    "version": 3
   },
   "file_extension": ".py",
   "mimetype": "text/x-python",
   "name": "python",
   "nbconvert_exporter": "python",
   "pygments_lexer": "ipython3",
   "version": "3.6.8"
  }
 },
 "nbformat": 4,
 "nbformat_minor": 2
}
