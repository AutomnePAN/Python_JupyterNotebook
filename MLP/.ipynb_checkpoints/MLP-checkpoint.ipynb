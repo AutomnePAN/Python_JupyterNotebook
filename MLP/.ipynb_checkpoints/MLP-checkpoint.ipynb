{
 "cells": [
  {
   "cell_type": "code",
   "execution_count": 1,
   "metadata": {},
   "outputs": [],
   "source": [
    "import pandas as pd\n",
    "import numpy as np"
   ]
  },
  {
   "cell_type": "code",
   "execution_count": 2,
   "metadata": {},
   "outputs": [],
   "source": [
    "#Activation functions\n",
    "SIGMOID = 'sigmoid'\n",
    "SOFTMAX = 'softmax'\n",
    "mini_batch_size = 10\n",
    "\n",
    "#Regularization method\n",
    "L2 = 'L2'\n",
    "L1 = 'L1'"
   ]
  },
  {
   "cell_type": "code",
   "execution_count": null,
   "metadata": {},
   "outputs": [],
   "source": [
    "class NeuralNetMLP(object):\n",
    "    def __init__(self, layers, random_state = None):\n",
    "        np.random.seed(random_state)\n",
    "        self.layers_num = len(layers)\n",
    "        self.layers = layers\n",
    "        self.initialize_weight();\n",
    "        \n",
    "    def initialize_weight(self):\n",
    "        self.biases = [np.random.randn(y, 1) for y in self.layers[1:]]\n",
    "        self.weights = [np.random.randn(y, x)/np.sqrt(x) for x, y in zip(self.layers[:-1], self.layers[1:])]\n",
    "        \n",
    "    def fit(self, training_data, l1=0.0, l2=0.0, epochs=500, alpha=0.001, minibatches=1, regularization = L2):\n",
    "        self.l1 = l1\n",
    "        self.l2 = l2;\n",
    "        n = len(training_data)\n",
    "        for i in range(epochs):\n",
    "            random.shuffle(training_data)\n",
    "            mini_batches = [training_data[k:k+mini_batch_size] for k in range(0, n ,mini_batches)]\n",
    "            for mini_batch in mini_batches:\n",
    "                self.mini_batch_update(mini_batch, alpha, len(training_data), regularization)\n",
    "    \n",
    "    def mini_batch_update(mini_batch, alpha, n , regularization):\n",
    "        "
   ]
  }
 ],
 "metadata": {
  "kernelspec": {
   "display_name": "Python 3",
   "language": "python",
   "name": "python3"
  },
  "language_info": {
   "codemirror_mode": {
    "name": "ipython",
    "version": 3
   },
   "file_extension": ".py",
   "mimetype": "text/x-python",
   "name": "python",
   "nbconvert_exporter": "python",
   "pygments_lexer": "ipython3",
   "version": "3.7.1"
  }
 },
 "nbformat": 4,
 "nbformat_minor": 2
}
