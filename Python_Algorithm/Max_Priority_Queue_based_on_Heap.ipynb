{
 "cells": [
  {
   "cell_type": "code",
   "execution_count": 20,
   "metadata": {},
   "outputs": [],
   "source": [
    "class MPQ(Heap):\n",
    "    def __init__(self, A):\n",
    "        Heap.__init__(A);\n",
    "        \n",
    "    def heap_maximum(self):\n",
    "        return self.heap[0]\n",
    "    \n",
    "    def heap_extract_max(self):\n",
    "        if len(self.heap) < 1:\n",
    "            print(\"Empty Heap!!!\")\n",
    "            return \n",
    "        heap_max = self.heap[0];\n",
    "        self.heap[0] = self.heap[len(self.heap) - 1]\n",
    "        self.heap.pop();\n",
    "        self.max_heapify(0,len(self.heap))\n",
    "        return max\n",
    "    \n",
    "    def heap_increase_key(self, key, i):\n",
    "        if key < self.heap[i]:\n",
    "            print(\"Error! Key is smaller than the A[i]\")\n",
    "            return \n",
    "        A[i] = key\n",
    "        while(i > 0) and self.heap[self.parent(i)] < self.heap[i]:\n",
    "            self.heap[self.parent(i)] , self.heap[i] = self.heap[i] , self.heap[self.parent(i)]\n",
    "            i = self.parent(i)\n",
    "            \n",
    "    def max_heap_insert(self, key):\n",
    "        self.heap.append(-100000)\n",
    "        self.heap_increase_key(key, len(self.heap)-1)"
   ]
  },
  {
   "cell_type": "code",
   "execution_count": 18,
   "metadata": {},
   "outputs": [
    {
     "name": "stdout",
     "output_type": "stream",
     "text": [
      "[93, 33, 82, 26, 12, 78, 34]\n"
     ]
    }
   ],
   "source": [
    "A = Heap([82,12,34,26,33,78,93])\n",
    "A.build_max_heap()\n",
    "A.print_heap()"
   ]
  },
  {
   "cell_type": "code",
   "execution_count": 17,
   "metadata": {},
   "outputs": [],
   "source": [
    "class Heap():\n",
    "    def __init__(self, A):\n",
    "        self.heap =  A\n",
    "    \n",
    "    def left(self, n):\n",
    "        return 2 * n + 1;\n",
    "    \n",
    "    def right(self, n):\n",
    "        return 2 * n + 2;\n",
    "    \n",
    "    def parent(self, n):\n",
    "        return n // 2;\n",
    "    \n",
    "    def print_heap(self):\n",
    "        print(self.heap)\n",
    "    \n",
    "    def max_heapify(self, i, size):\n",
    "        left = self.left(i);\n",
    "        right = self.right(i);\n",
    "        largest = i\n",
    "        if left < size and self.heap[left] > self.heap[i]:\n",
    "            largest = left;\n",
    "        if right < size and self.heap[right] > self.heap[largest]:\n",
    "            largest = right\n",
    "        if largest != i:\n",
    "            self.heap[i], self.heap[largest] = self.heap[largest], self.heap[i]\n",
    "            self.max_heapify(largest, size)\n",
    "            \n",
    "    def build_max_heap(self):\n",
    "        n = len(self.heap);\n",
    "        for i in range(n//2, -1, -1):\n",
    "            self.max_heapify(i, len(self.heap))\n",
    "#             print(self.heap)\n",
    "            \n",
    "    def heapsort(self):\n",
    "        self.build_max_heap()\n",
    "        print(self.heap)\n",
    "        size = len(self.heap)\n",
    "        for i in range(len(self.heap)-1, -1, -1):\n",
    "            self.heap[i], self.heap[0] = self.heap[0], self.heap[i]\n",
    "#             print(self.heap)\n",
    "            size -= 1;\n",
    "            self.max_heapify(0, size)"
   ]
  }
 ],
 "metadata": {
  "kernelspec": {
   "display_name": "Python 3",
   "language": "python",
   "name": "python3"
  },
  "language_info": {
   "codemirror_mode": {
    "name": "ipython",
    "version": 3
   },
   "file_extension": ".py",
   "mimetype": "text/x-python",
   "name": "python",
   "nbconvert_exporter": "python",
   "pygments_lexer": "ipython3",
   "version": "3.7.1"
  }
 },
 "nbformat": 4,
 "nbformat_minor": 2
}
