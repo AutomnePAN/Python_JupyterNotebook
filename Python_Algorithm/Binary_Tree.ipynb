{
 "cells": [
  {
   "cell_type": "markdown",
   "metadata": {},
   "source": [
    "# Binary Tree"
   ]
  },
  {
   "cell_type": "code",
   "execution_count": 86,
   "metadata": {},
   "outputs": [
    {
     "name": "stdout",
     "output_type": "stream",
     "text": [
      "False\n",
      "5\n",
      "Tree is: \n",
      "4\n",
      "2\n",
      "6\n",
      "5\n",
      "1\n",
      "8\n",
      "9\n",
      "7\n",
      "3\n"
     ]
    }
   ],
   "source": [
    "class Node: # This is the Class Node with constructor that contains data variable to type data and left,right pointers.\n",
    "    def __init__(self, data):\n",
    "        self.data = data\n",
    "        self.left = None\n",
    "        self.right = None\n",
    "\n",
    "def display(tree): #In Order traversal of the tree\n",
    "\n",
    "    if tree is None: \n",
    "        return\n",
    "\n",
    "    if tree.left is not None:\n",
    "        display(tree.left)\n",
    "\n",
    "    print(tree.data)\n",
    "\n",
    "    if tree.right is not None:\n",
    "        display(tree.right)\n",
    "\n",
    "    return\n",
    "\n",
    "def depth_of_tree(tree): #This is the recursive function to find the depth of binary tree.\n",
    "    if tree is None:\n",
    "        return 0\n",
    "    else:\n",
    "        depth_l_tree = depth_of_tree(tree.left)\n",
    "        depth_r_tree = depth_of_tree(tree.right)\n",
    "        if depth_l_tree > depth_r_tree:\n",
    "            return 1 + depth_l_tree\n",
    "        else:\n",
    "            return 1 + depth_r_tree\n",
    "\n",
    "\n",
    "def is_full_binary_tree(tree): # This functions returns that is it full binary tree or not?\n",
    "    if tree is None:\n",
    "        return True\n",
    "    if (tree.left is None) and (tree.right is None):\n",
    "        return True\n",
    "    if (tree.left is not None) and (tree.right is not None):\n",
    "        return (is_full_binary_tree(tree.left) and is_full_binary_tree(tree.right))\n",
    "    else:\n",
    "        return False\n",
    "\n",
    "\n",
    "def main(): # Main func for testing.\n",
    "    tree = Node(1)\n",
    "    tree.left = Node(2)\n",
    "    tree.right = Node(3)\n",
    "    tree.left.left = Node(4)\n",
    "    tree.left.right = Node(5)\n",
    "    tree.left.right.left = Node(6)\n",
    "    tree.right.left = Node(7)\n",
    "    tree.right.left.left = Node(8)\n",
    "    tree.right.left.left.right = Node(9)\n",
    "\n",
    "    print(is_full_binary_tree(tree))\n",
    "    print(depth_of_tree(tree))\n",
    "    print(\"Tree is: \")\n",
    "    display(tree)\n",
    "\n",
    "\n",
    "if __name__ == '__main__':\n",
    "    main()"
   ]
  }
 ],
 "metadata": {
  "kernelspec": {
   "display_name": "Python 3",
   "language": "python",
   "name": "python3"
  },
  "language_info": {
   "codemirror_mode": {
    "name": "ipython",
    "version": 3
   },
   "file_extension": ".py",
   "mimetype": "text/x-python",
   "name": "python",
   "nbconvert_exporter": "python",
   "pygments_lexer": "ipython3",
   "version": "3.7.1"
  }
 },
 "nbformat": 4,
 "nbformat_minor": 2
}
