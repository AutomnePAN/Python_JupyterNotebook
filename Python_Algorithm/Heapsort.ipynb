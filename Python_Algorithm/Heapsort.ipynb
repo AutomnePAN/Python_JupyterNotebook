{
 "cells": [
  {
   "cell_type": "markdown",
   "metadata": {},
   "source": [
    "# Heap Sort"
   ]
  },
  {
   "cell_type": "code",
   "execution_count": 60,
   "metadata": {},
   "outputs": [],
   "source": [
    "class heapSort():\n",
    "    def __init__(self):\n",
    "        return \n",
    "    \n",
    "    def __Left(self, n):\n",
    "        return 2 * n + 1;\n",
    "    \n",
    "    def __Right(self, n):\n",
    "        return 2 * n + 2;\n",
    "    \n",
    "    def max_heapify(self, A, i, size):\n",
    "        left = self.__Left(i);\n",
    "        right = self.__Right(i);\n",
    "        largest = i\n",
    "        if left < size and A[left] > A[i]:\n",
    "            largest = left;\n",
    "        if right < size and A[right] > A[largest]:\n",
    "            largest = right\n",
    "        if largest != i:\n",
    "            A[i], A[largest] = A[largest], A[i]\n",
    "            self.max_heapify(A, largest, size)\n",
    "            \n",
    "    def build_max_heap(self, A):\n",
    "        n = len(A);\n",
    "        for i in range(n//2, -1, -1):\n",
    "            self.max_heapify(A, i, len(A))\n",
    "            print(A)\n",
    "            \n",
    "    def heapsort(self, A):\n",
    "        self.build_max_heap(A)\n",
    "        print(A)\n",
    "        size = len(A)\n",
    "        for i in range(len(A)-1, -1, -1):\n",
    "            A[i], A[0] = A[0], A[i]\n",
    "            print(A)\n",
    "            size -= 1;\n",
    "            self.max_heapify(A, 0, size)"
   ]
  },
  {
   "cell_type": "code",
   "execution_count": 61,
   "metadata": {},
   "outputs": [],
   "source": [
    "import random \n",
    "A = [random.randint(0,100) for i in range(10)]"
   ]
  },
  {
   "cell_type": "code",
   "execution_count": 62,
   "metadata": {},
   "outputs": [
    {
     "data": {
      "text/plain": [
       "[73, 7, 70, 78, 42, 17, 34, 41, 9, 51]"
      ]
     },
     "execution_count": 62,
     "metadata": {},
     "output_type": "execute_result"
    }
   ],
   "source": [
    "A"
   ]
  },
  {
   "cell_type": "code",
   "execution_count": 63,
   "metadata": {},
   "outputs": [],
   "source": [
    "heapSort = heapSort()"
   ]
  },
  {
   "cell_type": "code",
   "execution_count": 64,
   "metadata": {},
   "outputs": [
    {
     "name": "stdout",
     "output_type": "stream",
     "text": [
      "[73, 7, 70, 78, 42, 17, 34, 41, 9, 51]\n",
      "[73, 7, 70, 78, 51, 17, 34, 41, 9, 42]\n",
      "[73, 7, 70, 78, 51, 17, 34, 41, 9, 42]\n",
      "[73, 7, 70, 78, 51, 17, 34, 41, 9, 42]\n",
      "[73, 78, 70, 41, 51, 17, 34, 7, 9, 42]\n",
      "[78, 73, 70, 41, 51, 17, 34, 7, 9, 42]\n",
      "[78, 73, 70, 41, 51, 17, 34, 7, 9, 42]\n",
      "[42, 73, 70, 41, 51, 17, 34, 7, 9, 78]\n",
      "[9, 51, 70, 41, 42, 17, 34, 7, 73, 78]\n",
      "[7, 51, 34, 41, 42, 17, 9, 70, 73, 78]\n",
      "[9, 42, 34, 41, 7, 17, 51, 70, 73, 78]\n",
      "[17, 41, 34, 9, 7, 42, 51, 70, 73, 78]\n",
      "[7, 17, 34, 9, 41, 42, 51, 70, 73, 78]\n",
      "[9, 17, 7, 34, 41, 42, 51, 70, 73, 78]\n",
      "[7, 9, 17, 34, 41, 42, 51, 70, 73, 78]\n",
      "[7, 9, 17, 34, 41, 42, 51, 70, 73, 78]\n",
      "[7, 9, 17, 34, 41, 42, 51, 70, 73, 78]\n"
     ]
    }
   ],
   "source": [
    "heapSort.heapsort(A)"
   ]
  },
  {
   "cell_type": "code",
   "execution_count": 65,
   "metadata": {},
   "outputs": [
    {
     "data": {
      "text/plain": [
       "[7, 9, 17, 34, 41, 42, 51, 70, 73, 78]"
      ]
     },
     "execution_count": 65,
     "metadata": {},
     "output_type": "execute_result"
    }
   ],
   "source": [
    "A"
   ]
  }
 ],
 "metadata": {
  "kernelspec": {
   "display_name": "Python 3",
   "language": "python",
   "name": "python3"
  },
  "language_info": {
   "codemirror_mode": {
    "name": "ipython",
    "version": 3
   },
   "file_extension": ".py",
   "mimetype": "text/x-python",
   "name": "python",
   "nbconvert_exporter": "python",
   "pygments_lexer": "ipython3",
   "version": "3.7.1"
  }
 },
 "nbformat": 4,
 "nbformat_minor": 2
}
