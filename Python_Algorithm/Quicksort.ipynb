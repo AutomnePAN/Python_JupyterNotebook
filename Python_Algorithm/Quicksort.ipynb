{
 "cells": [
  {
   "cell_type": "markdown",
   "metadata": {},
   "source": [
    "## Quicksort\n",
    "$O (n \\log(n) )$"
   ]
  },
  {
   "cell_type": "code",
   "execution_count": 22,
   "metadata": {},
   "outputs": [],
   "source": [
    "def partition(A,l,r):\n",
    "    x = A[r]\n",
    "    i = l - 1\n",
    "    for j in range(l,r):\n",
    "        if A[j] <= x:\n",
    "            i += 1\n",
    "            A[j], A[i] = A[i], A[j]\n",
    "    A[ i+1 ], A[r] = A[r], A[ i+1 ]\n",
    "    return i+1\n",
    "\n",
    "def random_partition(A,l,r):\n",
    "    rd = random.randint(l,r - 1)\n",
    "    A[r], A[rd] = A[rd], A[r]\n",
    "    return partition(A, l, r)"
   ]
  },
  {
   "cell_type": "code",
   "execution_count": 23,
   "metadata": {},
   "outputs": [],
   "source": [
    "def quicksort(A,l,r):\n",
    "    if l < r:\n",
    "        p = random_partition(A,l,r)\n",
    "        quicksort(A,l,p-1)\n",
    "        quicksort(A,p+1,r)"
   ]
  },
  {
   "cell_type": "code",
   "execution_count": 24,
   "metadata": {},
   "outputs": [],
   "source": [
    "import random"
   ]
  },
  {
   "cell_type": "code",
   "execution_count": 25,
   "metadata": {},
   "outputs": [],
   "source": [
    "A = [random.randint(1,100) for i in range(34)] "
   ]
  },
  {
   "cell_type": "code",
   "execution_count": 26,
   "metadata": {
    "collapsed": true
   },
   "outputs": [
    {
     "data": {
      "text/plain": [
       "[37,\n",
       " 30,\n",
       " 18,\n",
       " 70,\n",
       " 25,\n",
       " 1,\n",
       " 88,\n",
       " 29,\n",
       " 60,\n",
       " 24,\n",
       " 2,\n",
       " 17,\n",
       " 14,\n",
       " 30,\n",
       " 40,\n",
       " 85,\n",
       " 45,\n",
       " 42,\n",
       " 43,\n",
       " 55,\n",
       " 81,\n",
       " 29,\n",
       " 74,\n",
       " 4,\n",
       " 87,\n",
       " 26,\n",
       " 98,\n",
       " 15,\n",
       " 40,\n",
       " 72,\n",
       " 89,\n",
       " 65,\n",
       " 94,\n",
       " 3]"
      ]
     },
     "execution_count": 26,
     "metadata": {},
     "output_type": "execute_result"
    }
   ],
   "source": [
    "A"
   ]
  },
  {
   "cell_type": "code",
   "execution_count": 27,
   "metadata": {
    "scrolled": false
   },
   "outputs": [
    {
     "data": {
      "text/plain": [
       "[1,\n",
       " 2,\n",
       " 3,\n",
       " 4,\n",
       " 14,\n",
       " 15,\n",
       " 17,\n",
       " 18,\n",
       " 24,\n",
       " 25,\n",
       " 26,\n",
       " 29,\n",
       " 29,\n",
       " 30,\n",
       " 30,\n",
       " 37,\n",
       " 40,\n",
       " 40,\n",
       " 42,\n",
       " 43,\n",
       " 45,\n",
       " 55,\n",
       " 60,\n",
       " 65,\n",
       " 70,\n",
       " 72,\n",
       " 74,\n",
       " 81,\n",
       " 85,\n",
       " 87,\n",
       " 88,\n",
       " 89,\n",
       " 94,\n",
       " 98]"
      ]
     },
     "execution_count": 27,
     "metadata": {},
     "output_type": "execute_result"
    }
   ],
   "source": [
    "quicksort(A, 0, len(A) - 1)\n",
    "A"
   ]
  }
 ],
 "metadata": {
  "kernelspec": {
   "display_name": "Python 3",
   "language": "python",
   "name": "python3"
  },
  "language_info": {
   "codemirror_mode": {
    "name": "ipython",
    "version": 3
   },
   "file_extension": ".py",
   "mimetype": "text/x-python",
   "name": "python",
   "nbconvert_exporter": "python",
   "pygments_lexer": "ipython3",
   "version": "3.7.1"
  }
 },
 "nbformat": 4,
 "nbformat_minor": 2
}
