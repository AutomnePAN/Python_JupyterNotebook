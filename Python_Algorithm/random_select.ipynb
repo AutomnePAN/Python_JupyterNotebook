{
 "cells": [
  {
   "cell_type": "markdown",
   "metadata": {},
   "source": [
    "## Randomized_Selection"
   ]
  },
  {
   "cell_type": "code",
   "execution_count": 1,
   "metadata": {},
   "outputs": [],
   "source": [
    "def partition(A,l,r):\n",
    "    x = A[r]\n",
    "    i = l - 1\n",
    "    for j in range(l,r):\n",
    "        if A[j] <= x:\n",
    "            i += 1\n",
    "            A[j], A[i] = A[i], A[j]\n",
    "    A[ i+1 ], A[r] = A[r], A[ i+1 ]\n",
    "    return i+1\n",
    "\n",
    "def random_partition(A,l,r):\n",
    "    rd = random.randint(l,r - 1)\n",
    "    A[r], A[rd] = A[rd], A[r]\n",
    "    return partition(A, l, r)"
   ]
  },
  {
   "cell_type": "code",
   "execution_count": 5,
   "metadata": {},
   "outputs": [],
   "source": [
    "import random "
   ]
  },
  {
   "cell_type": "code",
   "execution_count": 10,
   "metadata": {},
   "outputs": [],
   "source": [
    "def randomized_selection(A,l,r,i):\n",
    "    if i <= 0:\n",
    "        return 0;\n",
    "    if l == r:\n",
    "        return A[l]\n",
    "    q = random_partition(A,l,r)\n",
    "    k = q - l + 1;\n",
    "    if k == i:\n",
    "        return A[q];\n",
    "    elif k > i:\n",
    "        return randomized_selection(A,l,q-1,i)\n",
    "    else:\n",
    "        return randomized_selection(A, q+1, r, i-k)"
   ]
  },
  {
   "cell_type": "code",
   "execution_count": 3,
   "metadata": {},
   "outputs": [],
   "source": [
    "A = [1,3,2,4,5,7,8,9,10,0]"
   ]
  },
  {
   "cell_type": "code",
   "execution_count": 15,
   "metadata": {},
   "outputs": [
    {
     "data": {
      "text/plain": [
       "4"
      ]
     },
     "execution_count": 15,
     "metadata": {},
     "output_type": "execute_result"
    }
   ],
   "source": [
    "randomized_selection(A,0,9,(9+1)//2)"
   ]
  }
 ],
 "metadata": {
  "kernelspec": {
   "display_name": "Python 3",
   "language": "python",
   "name": "python3"
  },
  "language_info": {
   "codemirror_mode": {
    "name": "ipython",
    "version": 3
   },
   "file_extension": ".py",
   "mimetype": "text/x-python",
   "name": "python",
   "nbconvert_exporter": "python",
   "pygments_lexer": "ipython3",
   "version": "3.7.1"
  }
 },
 "nbformat": 4,
 "nbformat_minor": 2
}
